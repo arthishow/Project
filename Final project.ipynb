{
 "cells": [
  {
   "cell_type": "markdown",
   "metadata": {},
   "source": [
    "# ADA - Final project\n",
    "This notebook aims at giving technical explanations necessary to understand how the results given in the final report were found.\n",
    "\n",
    "First off, the following commands allow you to retrieve the data necessary to run this notebook locally from the cluster used for this class.\n",
    "1. Upload the files script.sh and script.py using the following command:  \n",
    "```bash \n",
    "scp -r -p /path/to/script.py GASPAR@iccluster028.iccluster.epfl.ch:/home/GASPAR/script.py  \n",
    "scp -r -p /path/to/script.sh GASPAR@iccluster028.iccluster.epfl.ch:/home/GASPAR/script.sh\n",
    "```\n",
    "2. Connect to the cluster using a second terminal and run the scripts:  \n",
    "```bash \n",
    "ssh GASPAR@iccluster028.iccluster.epfl.ch  \n",
    "sh script.sh script.py  \n",
    "```\n",
    "3. Store the output in the home folder:  \n",
    "```bash \n",
    "hadoop fs -get /user/GASPAR/politics_2016_* file:///home/GASPAR\n",
    "```\n",
    "4. Download the data locally using the first terminal:  \n",
    "```bash \n",
    "scp -r GASPAR@iccluster028.iccluster.epfl.ch:/home/GASPAR/politics_2016_* /local/path/to/folder\n",
    "```\n",
    "\n",
    "The retrieved dataset consists of several different features listed below:\n",
    "* **author**: The username of the author of the comment.\n",
    "* **author_flair_text**: Users can pick so-called *flairs* which are basically tags intended to briefly summarize the user.  They're different for each subreddit, and users can only pick one per subreddit.\n",
    "* **body**: The content of the comment.\n",
    "* **created_utc**: The date at which the comment was originally posted.\n",
    "* **gilded**: Denotes if the comment received a gold. A gold is a form of gratification users can give one another. They're not common because gilding someone costs money.\n",
    "* **id**: A unique ID that defines the comment.\n",
    "* **link_id**: A unique ID that determines the post in which the comment was posted to.\n",
    "* **parent_id**: A unique ID that determines to what the comment is responding to. If it starts with *t1*, the comment is a response to another comment. If it starts with *t3*, the comment is responding directly to the original post.\n",
    "* **score**: The number of upvotes minus the number of downvotes the comment received.\n"
   ]
  },
  {
   "cell_type": "markdown",
   "metadata": {},
   "source": [
    "## Imports"
   ]
  },
  {
   "cell_type": "code",
   "execution_count": 1,
   "metadata": {},
   "outputs": [],
   "source": [
    "import nltk\n",
    "import numpy as np\n",
    "import pandas as pd\n",
    "import matplotlib.pyplot as plt\n",
    "from nltk.sentiment.vader import SentimentIntensityAnalyzer\n",
    "\n",
    "%matplotlib inline"
   ]
  },
  {
   "cell_type": "markdown",
   "metadata": {},
   "source": [
    "## Loading data"
   ]
  },
  {
   "cell_type": "code",
   "execution_count": 2,
   "metadata": {},
   "outputs": [],
   "source": [
    "DATA_PATH = 'data/'"
   ]
  },
  {
   "cell_type": "code",
   "execution_count": 3,
   "metadata": {},
   "outputs": [],
   "source": [
    "city_states = colors = pd.read_csv(DATA_PATH + 'us_cities_states_counties.csv', delimiter = '|')"
   ]
  },
  {
   "cell_type": "code",
   "execution_count": 4,
   "metadata": {},
   "outputs": [],
   "source": [
    "politics_06 = pd.read_parquet(DATA_PATH + 'politics_2016_06/')\n",
    "politics_07 = pd.read_parquet(DATA_PATH + 'politics_2016_07/')\n",
    "politics_08 = pd.read_parquet(DATA_PATH + 'politics_2016_08/')\n",
    "politics_09 = pd.read_parquet(DATA_PATH + 'politics_2016_09/')\n",
    "politics_10 = pd.read_parquet(DATA_PATH + 'politics_2016_10/')\n",
    "politics_11 = pd.read_parquet(DATA_PATH + 'politics_2016_11/')"
   ]
  },
  {
   "cell_type": "markdown",
   "metadata": {},
   "source": [
    "## Cleaning data\n",
    "\n",
    "Features are converted into appropriate format.  \n",
    "Redundant data are removed as well.  \n",
    "  \n",
    "It is possible to retrieve if the comment was responding to a post or to another comment by matching *link_id* and *parent_id*."
   ]
  },
  {
   "cell_type": "code",
   "execution_count": 5,
   "metadata": {},
   "outputs": [],
   "source": [
    "# created_utc is converted to the datetime format\n",
    "politics_06['created_utc'] = pd.to_datetime(politics_06['created_utc'], unit='s')\n",
    "politics_07['created_utc'] = pd.to_datetime(politics_07['created_utc'], unit='s')\n",
    "politics_08['created_utc'] = pd.to_datetime(politics_08['created_utc'], unit='s')\n",
    "politics_09['created_utc'] = pd.to_datetime(politics_09['created_utc'], unit='s')\n",
    "politics_10['created_utc'] = pd.to_datetime(politics_10['created_utc'], unit='s')\n",
    "politics_11['created_utc'] = pd.to_datetime(politics_11['created_utc'], unit='s')\n",
    "\n",
    "# author_flair_text is converted to a category\n",
    "politics_06['author_flair_text'] = politics_06['author_flair_text'].astype('category')\n",
    "politics_07['author_flair_text'] = politics_07['author_flair_text'].astype('category')\n",
    "politics_08['author_flair_text'] = politics_08['author_flair_text'].astype('category')\n",
    "politics_09['author_flair_text'] = politics_09['author_flair_text'].astype('category')\n",
    "politics_10['author_flair_text'] = politics_10['author_flair_text'].astype('category')\n",
    "politics_11['author_flair_text'] = politics_11['author_flair_text'].astype('category')\n",
    "\n",
    "# remove unnecessary information in link_id and parent_id\n",
    "politics_06['link_id'] = politics_06['link_id'].str.slice(3)\n",
    "politics_07['link_id'] = politics_07['link_id'].str.slice(3)\n",
    "politics_08['link_id'] = politics_08['link_id'].str.slice(3)\n",
    "politics_09['link_id'] = politics_09['link_id'].str.slice(3)\n",
    "politics_10['link_id'] = politics_10['link_id'].str.slice(3)\n",
    "politics_11['link_id'] = politics_11['link_id'].str.slice(3)\n",
    "politics_06['parent_id'] = politics_06['parent_id'].str.slice(3)\n",
    "politics_07['parent_id'] = politics_07['parent_id'].str.slice(3)\n",
    "politics_08['parent_id'] = politics_08['parent_id'].str.slice(3)\n",
    "politics_09['parent_id'] = politics_09['parent_id'].str.slice(3)\n",
    "politics_10['parent_id'] = politics_10['parent_id'].str.slice(3)\n",
    "politics_11['parent_id'] = politics_11['parent_id'].str.slice(3)\n"
   ]
  },
  {
   "cell_type": "code",
   "execution_count": 6,
   "metadata": {},
   "outputs": [
    {
     "data": {
      "text/html": [
       "<div>\n",
       "<style scoped>\n",
       "    .dataframe tbody tr th:only-of-type {\n",
       "        vertical-align: middle;\n",
       "    }\n",
       "\n",
       "    .dataframe tbody tr th {\n",
       "        vertical-align: top;\n",
       "    }\n",
       "\n",
       "    .dataframe thead th {\n",
       "        text-align: right;\n",
       "    }\n",
       "</style>\n",
       "<table border=\"1\" class=\"dataframe\">\n",
       "  <thead>\n",
       "    <tr style=\"text-align: right;\">\n",
       "      <th></th>\n",
       "      <th>author</th>\n",
       "      <th>author_flair_text</th>\n",
       "      <th>body</th>\n",
       "      <th>created_utc</th>\n",
       "      <th>gilded</th>\n",
       "      <th>id</th>\n",
       "      <th>link_id</th>\n",
       "      <th>parent_id</th>\n",
       "      <th>score</th>\n",
       "    </tr>\n",
       "  </thead>\n",
       "  <tbody>\n",
       "    <tr>\n",
       "      <th>0</th>\n",
       "      <td>wheresthecheese</td>\n",
       "      <td>NaN</td>\n",
       "      <td>I'm very glad I read that. The first well thou...</td>\n",
       "      <td>2016-06-01 00:00:00</td>\n",
       "      <td>0</td>\n",
       "      <td>d3r38dt</td>\n",
       "      <td>4lxbri</td>\n",
       "      <td>4lxbri</td>\n",
       "      <td>3</td>\n",
       "    </tr>\n",
       "    <tr>\n",
       "      <th>1</th>\n",
       "      <td>ifCreepyImJoking</td>\n",
       "      <td>NaN</td>\n",
       "      <td>Eh, once you start adding qualifiers instead o...</td>\n",
       "      <td>2016-06-01 00:00:03</td>\n",
       "      <td>0</td>\n",
       "      <td>d3r38gd</td>\n",
       "      <td>4lwef1</td>\n",
       "      <td>d3r17zv</td>\n",
       "      <td>0</td>\n",
       "    </tr>\n",
       "    <tr>\n",
       "      <th>2</th>\n",
       "      <td>Sam_Munhi</td>\n",
       "      <td>NaN</td>\n",
       "      <td>How so? Clinton and Trump are the two most dis...</td>\n",
       "      <td>2016-06-01 00:00:12</td>\n",
       "      <td>0</td>\n",
       "      <td>d3r38n2</td>\n",
       "      <td>4lxbzg</td>\n",
       "      <td>d3r0tm6</td>\n",
       "      <td>4</td>\n",
       "    </tr>\n",
       "    <tr>\n",
       "      <th>3</th>\n",
       "      <td>VowOfKsitigarbha</td>\n",
       "      <td>NaN</td>\n",
       "      <td>Is he attacking the wrong target?</td>\n",
       "      <td>2016-06-01 00:00:12</td>\n",
       "      <td>0</td>\n",
       "      <td>d3r38n4</td>\n",
       "      <td>4lycd3</td>\n",
       "      <td>4lycd3</td>\n",
       "      <td>25</td>\n",
       "    </tr>\n",
       "    <tr>\n",
       "      <th>4</th>\n",
       "      <td>iAMADisposableAcc</td>\n",
       "      <td>NaN</td>\n",
       "      <td>We can agree on that, although I guess we have...</td>\n",
       "      <td>2016-06-01 00:00:15</td>\n",
       "      <td>0</td>\n",
       "      <td>d3r38q3</td>\n",
       "      <td>4lw22m</td>\n",
       "      <td>d3r2rv0</td>\n",
       "      <td>2</td>\n",
       "    </tr>\n",
       "  </tbody>\n",
       "</table>\n",
       "</div>"
      ],
      "text/plain": [
       "              author author_flair_text  \\\n",
       "0    wheresthecheese               NaN   \n",
       "1   ifCreepyImJoking               NaN   \n",
       "2          Sam_Munhi               NaN   \n",
       "3   VowOfKsitigarbha               NaN   \n",
       "4  iAMADisposableAcc               NaN   \n",
       "\n",
       "                                                body         created_utc  \\\n",
       "0  I'm very glad I read that. The first well thou... 2016-06-01 00:00:00   \n",
       "1  Eh, once you start adding qualifiers instead o... 2016-06-01 00:00:03   \n",
       "2  How so? Clinton and Trump are the two most dis... 2016-06-01 00:00:12   \n",
       "3                 Is he attacking the wrong target?  2016-06-01 00:00:12   \n",
       "4  We can agree on that, although I guess we have... 2016-06-01 00:00:15   \n",
       "\n",
       "   gilded       id link_id parent_id  score  \n",
       "0       0  d3r38dt  4lxbri    4lxbri      3  \n",
       "1       0  d3r38gd  4lwef1   d3r17zv      0  \n",
       "2       0  d3r38n2  4lxbzg   d3r0tm6      4  \n",
       "3       0  d3r38n4  4lycd3    4lycd3     25  \n",
       "4       0  d3r38q3  4lw22m   d3r2rv0      2  "
      ]
     },
     "execution_count": 6,
     "metadata": {},
     "output_type": "execute_result"
    }
   ],
   "source": [
    "politics_06.head()"
   ]
  },
  {
   "cell_type": "markdown",
   "metadata": {},
   "source": [
    "Dataframes for each month are then concatenated into one massive Dataframe whose data types are just as expected."
   ]
  },
  {
   "cell_type": "code",
   "execution_count": 7,
   "metadata": {},
   "outputs": [],
   "source": [
    "politics = pd.concat([politics_06, politics_07, politics_08, politics_09, politics_10, politics_11]).reset_index()\n",
    "politics['author_flair_text'] = politics['author_flair_text'].astype('category') #necessary to do it again"
   ]
  },
  {
   "cell_type": "code",
   "execution_count": 8,
   "metadata": {
    "scrolled": true
   },
   "outputs": [
    {
     "data": {
      "text/plain": [
       "index                         int64\n",
       "author                       object\n",
       "author_flair_text          category\n",
       "body                         object\n",
       "created_utc          datetime64[ns]\n",
       "gilded                        int64\n",
       "id                           object\n",
       "link_id                      object\n",
       "parent_id                    object\n",
       "score                         int64\n",
       "dtype: object"
      ]
     },
     "execution_count": 8,
     "metadata": {},
     "output_type": "execute_result"
    }
   ],
   "source": [
    "politics.dtypes"
   ]
  },
  {
   "cell_type": "code",
   "execution_count": 9,
   "metadata": {},
   "outputs": [
    {
     "data": {
      "text/html": [
       "<div>\n",
       "<style scoped>\n",
       "    .dataframe tbody tr th:only-of-type {\n",
       "        vertical-align: middle;\n",
       "    }\n",
       "\n",
       "    .dataframe tbody tr th {\n",
       "        vertical-align: top;\n",
       "    }\n",
       "\n",
       "    .dataframe thead th {\n",
       "        text-align: right;\n",
       "    }\n",
       "</style>\n",
       "<table border=\"1\" class=\"dataframe\">\n",
       "  <thead>\n",
       "    <tr style=\"text-align: right;\">\n",
       "      <th></th>\n",
       "      <th>index</th>\n",
       "      <th>gilded</th>\n",
       "      <th>score</th>\n",
       "    </tr>\n",
       "  </thead>\n",
       "  <tbody>\n",
       "    <tr>\n",
       "      <th>count</th>\n",
       "      <td>1.086033e+07</td>\n",
       "      <td>1.086033e+07</td>\n",
       "      <td>1.086033e+07</td>\n",
       "    </tr>\n",
       "    <tr>\n",
       "      <th>mean</th>\n",
       "      <td>9.539365e+05</td>\n",
       "      <td>3.835981e-04</td>\n",
       "      <td>6.766324e+00</td>\n",
       "    </tr>\n",
       "    <tr>\n",
       "      <th>std</th>\n",
       "      <td>6.041415e+05</td>\n",
       "      <td>2.441999e-02</td>\n",
       "      <td>5.706394e+01</td>\n",
       "    </tr>\n",
       "    <tr>\n",
       "      <th>min</th>\n",
       "      <td>0.000000e+00</td>\n",
       "      <td>0.000000e+00</td>\n",
       "      <td>-8.620000e+02</td>\n",
       "    </tr>\n",
       "    <tr>\n",
       "      <th>25%</th>\n",
       "      <td>4.525130e+05</td>\n",
       "      <td>0.000000e+00</td>\n",
       "      <td>1.000000e+00</td>\n",
       "    </tr>\n",
       "    <tr>\n",
       "      <th>50%</th>\n",
       "      <td>9.050270e+05</td>\n",
       "      <td>0.000000e+00</td>\n",
       "      <td>1.000000e+00</td>\n",
       "    </tr>\n",
       "    <tr>\n",
       "      <th>75%</th>\n",
       "      <td>1.370547e+06</td>\n",
       "      <td>0.000000e+00</td>\n",
       "      <td>4.000000e+00</td>\n",
       "    </tr>\n",
       "    <tr>\n",
       "      <th>max</th>\n",
       "      <td>2.522909e+06</td>\n",
       "      <td>1.400000e+01</td>\n",
       "      <td>1.901100e+04</td>\n",
       "    </tr>\n",
       "  </tbody>\n",
       "</table>\n",
       "</div>"
      ],
      "text/plain": [
       "              index        gilded         score\n",
       "count  1.086033e+07  1.086033e+07  1.086033e+07\n",
       "mean   9.539365e+05  3.835981e-04  6.766324e+00\n",
       "std    6.041415e+05  2.441999e-02  5.706394e+01\n",
       "min    0.000000e+00  0.000000e+00 -8.620000e+02\n",
       "25%    4.525130e+05  0.000000e+00  1.000000e+00\n",
       "50%    9.050270e+05  0.000000e+00  1.000000e+00\n",
       "75%    1.370547e+06  0.000000e+00  4.000000e+00\n",
       "max    2.522909e+06  1.400000e+01  1.901100e+04"
      ]
     },
     "execution_count": 9,
     "metadata": {},
     "output_type": "execute_result"
    }
   ],
   "source": [
    "politics.describe()"
   ]
  },
  {
   "cell_type": "code",
   "execution_count": 10,
   "metadata": {
    "scrolled": true
   },
   "outputs": [
    {
     "data": {
      "text/html": [
       "<div>\n",
       "<style scoped>\n",
       "    .dataframe tbody tr th:only-of-type {\n",
       "        vertical-align: middle;\n",
       "    }\n",
       "\n",
       "    .dataframe tbody tr th {\n",
       "        vertical-align: top;\n",
       "    }\n",
       "\n",
       "    .dataframe thead th {\n",
       "        text-align: right;\n",
       "    }\n",
       "</style>\n",
       "<table border=\"1\" class=\"dataframe\">\n",
       "  <thead>\n",
       "    <tr style=\"text-align: right;\">\n",
       "      <th></th>\n",
       "      <th>index</th>\n",
       "      <th>author</th>\n",
       "      <th>author_flair_text</th>\n",
       "      <th>body</th>\n",
       "      <th>created_utc</th>\n",
       "      <th>gilded</th>\n",
       "      <th>id</th>\n",
       "      <th>link_id</th>\n",
       "      <th>parent_id</th>\n",
       "      <th>score</th>\n",
       "    </tr>\n",
       "  </thead>\n",
       "  <tbody>\n",
       "    <tr>\n",
       "      <th>0</th>\n",
       "      <td>0</td>\n",
       "      <td>wheresthecheese</td>\n",
       "      <td>NaN</td>\n",
       "      <td>I'm very glad I read that. The first well thou...</td>\n",
       "      <td>2016-06-01 00:00:00</td>\n",
       "      <td>0</td>\n",
       "      <td>d3r38dt</td>\n",
       "      <td>4lxbri</td>\n",
       "      <td>4lxbri</td>\n",
       "      <td>3</td>\n",
       "    </tr>\n",
       "    <tr>\n",
       "      <th>1</th>\n",
       "      <td>1</td>\n",
       "      <td>ifCreepyImJoking</td>\n",
       "      <td>NaN</td>\n",
       "      <td>Eh, once you start adding qualifiers instead o...</td>\n",
       "      <td>2016-06-01 00:00:03</td>\n",
       "      <td>0</td>\n",
       "      <td>d3r38gd</td>\n",
       "      <td>4lwef1</td>\n",
       "      <td>d3r17zv</td>\n",
       "      <td>0</td>\n",
       "    </tr>\n",
       "    <tr>\n",
       "      <th>2</th>\n",
       "      <td>2</td>\n",
       "      <td>Sam_Munhi</td>\n",
       "      <td>NaN</td>\n",
       "      <td>How so? Clinton and Trump are the two most dis...</td>\n",
       "      <td>2016-06-01 00:00:12</td>\n",
       "      <td>0</td>\n",
       "      <td>d3r38n2</td>\n",
       "      <td>4lxbzg</td>\n",
       "      <td>d3r0tm6</td>\n",
       "      <td>4</td>\n",
       "    </tr>\n",
       "    <tr>\n",
       "      <th>3</th>\n",
       "      <td>3</td>\n",
       "      <td>VowOfKsitigarbha</td>\n",
       "      <td>NaN</td>\n",
       "      <td>Is he attacking the wrong target?</td>\n",
       "      <td>2016-06-01 00:00:12</td>\n",
       "      <td>0</td>\n",
       "      <td>d3r38n4</td>\n",
       "      <td>4lycd3</td>\n",
       "      <td>4lycd3</td>\n",
       "      <td>25</td>\n",
       "    </tr>\n",
       "    <tr>\n",
       "      <th>4</th>\n",
       "      <td>4</td>\n",
       "      <td>iAMADisposableAcc</td>\n",
       "      <td>NaN</td>\n",
       "      <td>We can agree on that, although I guess we have...</td>\n",
       "      <td>2016-06-01 00:00:15</td>\n",
       "      <td>0</td>\n",
       "      <td>d3r38q3</td>\n",
       "      <td>4lw22m</td>\n",
       "      <td>d3r2rv0</td>\n",
       "      <td>2</td>\n",
       "    </tr>\n",
       "  </tbody>\n",
       "</table>\n",
       "</div>"
      ],
      "text/plain": [
       "   index             author author_flair_text  \\\n",
       "0      0    wheresthecheese               NaN   \n",
       "1      1   ifCreepyImJoking               NaN   \n",
       "2      2          Sam_Munhi               NaN   \n",
       "3      3   VowOfKsitigarbha               NaN   \n",
       "4      4  iAMADisposableAcc               NaN   \n",
       "\n",
       "                                                body         created_utc  \\\n",
       "0  I'm very glad I read that. The first well thou... 2016-06-01 00:00:00   \n",
       "1  Eh, once you start adding qualifiers instead o... 2016-06-01 00:00:03   \n",
       "2  How so? Clinton and Trump are the two most dis... 2016-06-01 00:00:12   \n",
       "3                 Is he attacking the wrong target?  2016-06-01 00:00:12   \n",
       "4  We can agree on that, although I guess we have... 2016-06-01 00:00:15   \n",
       "\n",
       "   gilded       id link_id parent_id  score  \n",
       "0       0  d3r38dt  4lxbri    4lxbri      3  \n",
       "1       0  d3r38gd  4lwef1   d3r17zv      0  \n",
       "2       0  d3r38n2  4lxbzg   d3r0tm6      4  \n",
       "3       0  d3r38n4  4lycd3    4lycd3     25  \n",
       "4       0  d3r38q3  4lw22m   d3r2rv0      2  "
      ]
     },
     "execution_count": 10,
     "metadata": {},
     "output_type": "execute_result"
    }
   ],
   "source": [
    "politics.head()"
   ]
  },
  {
   "cell_type": "code",
   "execution_count": 11,
   "metadata": {
    "scrolled": false
   },
   "outputs": [
    {
     "name": "stdout",
     "output_type": "stream",
     "text": [
      "{'I voted', 'Popcorn with extra salt.', 'Josh Marshall, Talking Points Memo founder', 'Vermont', 'Iowa', 'Popcorn Express', 'Arizona', 'Virginia', 'ColoradoCare YES', 'Montana', 'Dan Rolle (D-NV)', 'Chris Cataldo (MA)', 'Nicholas Schou, author of \"Spooked\"', 'NORML', 'Pennsylvania', 'Colorado Families for a Fair Wage', 'Texas', 'California | the AMA guy', 'Russ Feingold (D-WI)', 'Josh Hendler, NWWA', 'South Dakota', 'American Samoa', 'Rhode Island', 'Louisiana', 'North Carolina', 'Washington', 'Nebraska', 'AZ Healthy Working Families', 'Guam', 'Mainers for Fair Wages', 'District Of Colombia', 'extra butter', 'South Carolina', 'Hector Sigala, NWWA', 'New Hampshire', 'Eliot Nelson, Huffington Post political reporter', 'Popcorn', 'New Mexico', 'Massachusetts', 'Maine Ranked Choice Voting Campaign', 'Scott Wiener (D-CA)', 'Illinois', 'David Daley, Author - \"Ratf**ked\"', 'Maria Teresa Kumar, CEO of Voto Latino', 'Utah', 'America', 'Harri Hursti, creator of the Hursti Hack', 'Zephyr Teachout (D-NY)', 'Pamela Smith, President of Verified Voting', 'Hawaii', 'Oklahoma', 'Commissioner Walter Deleon (DC)', 'New York', 'KNOW 1-491', 'Damien LaVera NWWA', 'Matt Mitchell, founder of CryptoHarlem', 'Georgia', 'Northern Marianas', 'Connecticut', 'Jim Burke (D-TX)', 'California', 'Retain A Just Nebraska', 'Keep Colorado Working', 'Libby Babbott-Klein, NWWA', 'Gloria La Riva, 2016 Socialist candidate for president', 'Tennessee', 'Florida', 'Delaware', 'Matt Welch, Reason Magazine Editor at Large', 'Kentucky', ' Beau Kilmer, Co-Director of RAND Drug Policy Research Center', 'Alexander Zaitchik, author of \"The Gilded Rage\"', 'Idaho', 'Om nom nom', 'Puerto Rico', 'No on 66', 'American Civil Liberties Union', 'Steve Gladstone (I-MD)', 'Indiana', 'Mayor Matthew Avitabile (Middleburgh, NY)', 'West Virginia', 'Nevada', 'Rosy Kalfus, NWWA', 'Colorado', 'District Of Columbia', 'Alaska', 'Maryland', 'Ohio', 'Minnesota', 'abolition.org', 'Alex Merced (L-NY)', 'Michigan', 'Maine', 'No On 61', 'Steve Gladstone', 'Sen. Bob Casey (D-PA)', 'Oregon', 'Sr. Economic Analyst', 'Wisconsin', 'Margaret Stock, AK senate candidate (I)', 'Missouri', 'Chad Marlow, Advocacy and Policy Counsel at ACLU', 'New Jersey', 'Ken Bone', 'Foreign', 'Alabama', 'Evan Siegfried, author of \"GOP GPS\"', 'Kieran Fitzgerald, co-writer of \"Snowden\"', 'Wyoming', 'Republic of Popcornia', 'America’s favorite democracy holiday', 'Eddie Goldberg, author of \"Joint Ventured Nation\"', 'H.A. Goodman', 'Mississippi', 'North Dakota', 'Arkansas', 'Sara Tabatabaie, Digital Manager of Rock The Vote', 'Jesse Ventura (I-MN)', 'Kansas'}\n",
      "119\n"
     ]
    }
   ],
   "source": [
    "print(set(politics['author_flair_text'].dropna()))\n",
    "print(len(set(politics['author_flair_text'].dropna())))"
   ]
  },
  {
   "cell_type": "code",
   "execution_count": 12,
   "metadata": {
    "scrolled": true
   },
   "outputs": [
    {
     "name": "stdout",
     "output_type": "stream",
     "text": [
      "{'Michigan', 'Maine', 'New Mexico', 'Vermont', 'Massachusetts', 'US Armed Forces Europe', 'Iowa', 'Tennessee', 'Illinois', 'Florida', 'Arizona', 'Delaware', 'Virgin Islands', 'Oregon', 'Virginia', 'Wisconsin', 'Marshall Islands', 'Missouri', 'Utah', 'Kentucky', 'Montana', 'Idaho', 'Pennsylvania', 'Palau', 'Texas', 'New Jersey', 'Puerto Rico', 'Hawaii', 'Oklahoma', 'Alabama', 'South Dakota', 'New York', 'US Armed Forces Pacific', 'American Samoa', 'Georgia', 'Washington, D.C.', 'Indiana', 'Rhode Island', 'Wyoming', 'Louisiana', 'West Virginia', 'Nevada', 'North Carolina', 'Colorado', 'Mississippi', 'North Dakota', 'Washington', 'Nebraska', 'Arkansas', 'Maryland', 'Alaska', 'Ohio', 'Minnesota', 'Northern Mariana Islands', 'Guam', 'Connecticut', 'Kansas', 'South Carolina', 'California', 'Federated States of Micronesia', 'New Hampshire'}\n",
      "61\n"
     ]
    }
   ],
   "source": [
    "state_full = set(np.array(city_states['State full'].dropna()))\n",
    "print(state_full)\n",
    "print(len(state_full))"
   ]
  },
  {
   "cell_type": "code",
   "execution_count": 13,
   "metadata": {
    "scrolled": true
   },
   "outputs": [
    {
     "name": "stdout",
     "output_type": "stream",
     "text": [
      "{'Michigan', 'Maine', 'New Mexico', 'Vermont', 'Massachusetts', 'Iowa', 'Tennessee', 'Illinois', 'Florida', 'Arizona', 'Delaware', 'Oregon', 'Virginia', 'Wisconsin', 'Missouri', 'Utah', 'Kentucky', 'Montana', 'Idaho', 'Pennsylvania', 'Texas', 'New Jersey', 'Puerto Rico', 'Hawaii', 'Oklahoma', 'Alabama', 'South Dakota', 'New York', 'American Samoa', 'Indiana', 'Georgia', 'Rhode Island', 'Wyoming', 'Louisiana', 'West Virginia', 'Nevada', 'North Carolina', 'Colorado', 'Mississippi', 'Washington', 'Alaska', 'North Dakota', 'Nebraska', 'Maryland', 'Arkansas', 'Ohio', 'Minnesota', 'Guam', 'Connecticut', 'Kansas', 'South Carolina', 'California', 'New Hampshire'}\n"
     ]
    },
    {
     "data": {
      "text/plain": [
       "53"
      ]
     },
     "execution_count": 13,
     "metadata": {},
     "output_type": "execute_result"
    }
   ],
   "source": [
    "flair_politics = politics[politics['author_flair_text'].isin(state_full)]\n",
    "print(set(flair_politics['author_flair_text']))\n",
    "len(set(flair_politics['author_flair_text']))"
   ]
  },
  {
   "cell_type": "code",
   "execution_count": 14,
   "metadata": {},
   "outputs": [
    {
     "name": "stdout",
     "output_type": "stream",
     "text": [
      "(215850, 10)\n"
     ]
    },
    {
     "data": {
      "text/html": [
       "<div>\n",
       "<style scoped>\n",
       "    .dataframe tbody tr th:only-of-type {\n",
       "        vertical-align: middle;\n",
       "    }\n",
       "\n",
       "    .dataframe tbody tr th {\n",
       "        vertical-align: top;\n",
       "    }\n",
       "\n",
       "    .dataframe thead th {\n",
       "        text-align: right;\n",
       "    }\n",
       "</style>\n",
       "<table border=\"1\" class=\"dataframe\">\n",
       "  <thead>\n",
       "    <tr style=\"text-align: right;\">\n",
       "      <th></th>\n",
       "      <th>index</th>\n",
       "      <th>author</th>\n",
       "      <th>author_flair_text</th>\n",
       "      <th>body</th>\n",
       "      <th>created_utc</th>\n",
       "      <th>gilded</th>\n",
       "      <th>id</th>\n",
       "      <th>link_id</th>\n",
       "      <th>parent_id</th>\n",
       "      <th>score</th>\n",
       "    </tr>\n",
       "  </thead>\n",
       "  <tbody>\n",
       "    <tr>\n",
       "      <th>6147305</th>\n",
       "      <td>1669459</td>\n",
       "      <td>Qu1nlan</td>\n",
       "      <td>California</td>\n",
       "      <td>Hi `juno255`. Thank you for participating in /...</td>\n",
       "      <td>2016-09-30 02:31:46</td>\n",
       "      <td>0</td>\n",
       "      <td>d87sxgv</td>\n",
       "      <td>5552n9</td>\n",
       "      <td>5552n9</td>\n",
       "      <td>1</td>\n",
       "    </tr>\n",
       "    <tr>\n",
       "      <th>6147372</th>\n",
       "      <td>1669526</td>\n",
       "      <td>Qu1nlan</td>\n",
       "      <td>California</td>\n",
       "      <td>Hi `Alejandro_Last_Name`. Thank you for partic...</td>\n",
       "      <td>2016-09-30 02:33:36</td>\n",
       "      <td>0</td>\n",
       "      <td>d87t05c</td>\n",
       "      <td>5556yb</td>\n",
       "      <td>5556yb</td>\n",
       "      <td>1</td>\n",
       "    </tr>\n",
       "    <tr>\n",
       "      <th>6147390</th>\n",
       "      <td>1669544</td>\n",
       "      <td>Qu1nlan</td>\n",
       "      <td>California</td>\n",
       "      <td>Hi `ImNotJesus`. Thank you for participating i...</td>\n",
       "      <td>2016-09-30 02:33:57</td>\n",
       "      <td>0</td>\n",
       "      <td>d87t0p2</td>\n",
       "      <td>5548v7</td>\n",
       "      <td>5548v7</td>\n",
       "      <td>1</td>\n",
       "    </tr>\n",
       "    <tr>\n",
       "      <th>6147458</th>\n",
       "      <td>1669612</td>\n",
       "      <td>Qu1nlan</td>\n",
       "      <td>California</td>\n",
       "      <td>Hi `cmonshoe`. Thank you for participating in ...</td>\n",
       "      <td>2016-09-30 02:35:17</td>\n",
       "      <td>0</td>\n",
       "      <td>d87t2mq</td>\n",
       "      <td>5541x2</td>\n",
       "      <td>5541x2</td>\n",
       "      <td>1</td>\n",
       "    </tr>\n",
       "    <tr>\n",
       "      <th>6147507</th>\n",
       "      <td>1669661</td>\n",
       "      <td>Qu1nlan</td>\n",
       "      <td>California</td>\n",
       "      <td>Hi `abourne`. Thank you for participating in /...</td>\n",
       "      <td>2016-09-30 02:36:23</td>\n",
       "      <td>0</td>\n",
       "      <td>d87t4ep</td>\n",
       "      <td>554okj</td>\n",
       "      <td>554okj</td>\n",
       "      <td>1</td>\n",
       "    </tr>\n",
       "  </tbody>\n",
       "</table>\n",
       "</div>"
      ],
      "text/plain": [
       "           index   author author_flair_text  \\\n",
       "6147305  1669459  Qu1nlan        California   \n",
       "6147372  1669526  Qu1nlan        California   \n",
       "6147390  1669544  Qu1nlan        California   \n",
       "6147458  1669612  Qu1nlan        California   \n",
       "6147507  1669661  Qu1nlan        California   \n",
       "\n",
       "                                                      body  \\\n",
       "6147305  Hi `juno255`. Thank you for participating in /...   \n",
       "6147372  Hi `Alejandro_Last_Name`. Thank you for partic...   \n",
       "6147390  Hi `ImNotJesus`. Thank you for participating i...   \n",
       "6147458  Hi `cmonshoe`. Thank you for participating in ...   \n",
       "6147507  Hi `abourne`. Thank you for participating in /...   \n",
       "\n",
       "                created_utc  gilded       id link_id parent_id  score  \n",
       "6147305 2016-09-30 02:31:46       0  d87sxgv  5552n9    5552n9      1  \n",
       "6147372 2016-09-30 02:33:36       0  d87t05c  5556yb    5556yb      1  \n",
       "6147390 2016-09-30 02:33:57       0  d87t0p2  5548v7    5548v7      1  \n",
       "6147458 2016-09-30 02:35:17       0  d87t2mq  5541x2    5541x2      1  \n",
       "6147507 2016-09-30 02:36:23       0  d87t4ep  554okj    554okj      1  "
      ]
     },
     "execution_count": 14,
     "metadata": {},
     "output_type": "execute_result"
    }
   ],
   "source": [
    "print(flair_politics.shape)\n",
    "flair_politics.head()"
   ]
  },
  {
   "cell_type": "markdown",
   "metadata": {},
   "source": [
    "## Processing data"
   ]
  },
  {
   "cell_type": "code",
   "execution_count": 15,
   "metadata": {
    "scrolled": false
   },
   "outputs": [],
   "source": [
    "def nlp_entity(body):\n",
    "    \"\"\"Creates a string with each named entity preceded by its corresponding tag and separated with a comma\"\"\"\n",
    "    entities = ''\n",
    "    for sent in nltk.sent_tokenize(body):\n",
    "        for chunk in nltk.ne_chunk(nltk.pos_tag(nltk.word_tokenize(sent))):\n",
    "            if hasattr(chunk, 'label'):\n",
    "                 entities += (chunk.label() + ' ' + ' '.join(c[0] for c in chunk) + ',' )\n",
    "    return entities[:-1]\n",
    "                \n",
    "def nlp_sentiment(body, sid=SentimentIntensityAnalyzer()):\n",
    "    \"\"\"Creates a string containing 4 numeric values corresponding to a sentiment analysis\n",
    "    oredered as such compound, neg, neu, pos separated by a comma.\"\"\"\n",
    "    ss = sid.polarity_scores(body)\n",
    "    sentiment = \"\"\n",
    "    for k in sorted(ss):\n",
    "        sentiment += '{},'.format(ss[k])\n",
    "    return sentiment[:-1]\n",
    "\n",
    "def nlp_wordcount(body, lemmatizer=nltk.WordNetLemmatizer(), stops=set(nltk.corpus.stopwords.words(\"english\"))):\n",
    "    \"\"\"Returns a dictionnary with words frequency easily plottable.\"\"\"\n",
    "    fdist = nltk.FreqDist()\n",
    "    tokens = nltk.word_tokenize(body)\n",
    "    filtered_words = [word for word in tokens if word not in stops]\n",
    "    for word in filtered_words:\n",
    "        fdist[lemmatizer.lemmatize(word.lower())] += 1      \n",
    "    return fdist\n",
    "\n",
    "def sentiment_to_label(sentiment):\n",
    "    ss = sentiment.split(',')\n",
    "    compound = float(ss[0])\n",
    "    if (compound > 0.2):\n",
    "        return \"Positive\"\n",
    "    elif (compound < -0.2):\n",
    "        return \"Negative\"\n",
    "    else:\n",
    "        return \"Neutral\""
   ]
  },
  {
   "cell_type": "code",
   "execution_count": 16,
   "metadata": {
    "scrolled": true
   },
   "outputs": [
    {
     "data": {
      "text/html": [
       "<div>\n",
       "<style scoped>\n",
       "    .dataframe tbody tr th:only-of-type {\n",
       "        vertical-align: middle;\n",
       "    }\n",
       "\n",
       "    .dataframe tbody tr th {\n",
       "        vertical-align: top;\n",
       "    }\n",
       "\n",
       "    .dataframe thead th {\n",
       "        text-align: right;\n",
       "    }\n",
       "</style>\n",
       "<table border=\"1\" class=\"dataframe\">\n",
       "  <thead>\n",
       "    <tr style=\"text-align: right;\">\n",
       "      <th></th>\n",
       "      <th>index</th>\n",
       "      <th>author</th>\n",
       "      <th>author_flair_text</th>\n",
       "      <th>body</th>\n",
       "      <th>created_utc</th>\n",
       "      <th>gilded</th>\n",
       "      <th>id</th>\n",
       "      <th>link_id</th>\n",
       "      <th>parent_id</th>\n",
       "      <th>score</th>\n",
       "      <th>entity</th>\n",
       "      <th>sentiment</th>\n",
       "      <th>wordcount</th>\n",
       "      <th>label</th>\n",
       "    </tr>\n",
       "  </thead>\n",
       "  <tbody>\n",
       "    <tr>\n",
       "      <th>2526271</th>\n",
       "      <td>1233766</td>\n",
       "      <td>[deleted]</td>\n",
       "      <td>NaN</td>\n",
       "      <td>[removed]</td>\n",
       "      <td>2016-07-26 02:32:04</td>\n",
       "      <td>0</td>\n",
       "      <td>d5qxl3c</td>\n",
       "      <td>4uijjh</td>\n",
       "      <td>4uijjh</td>\n",
       "      <td>1</td>\n",
       "      <td></td>\n",
       "      <td>0.0,0.0,1.0,0.0</td>\n",
       "      <td>{'[': 1, 'removed': 1, ']': 1}</td>\n",
       "      <td>Neutral</td>\n",
       "    </tr>\n",
       "    <tr>\n",
       "      <th>1170557</th>\n",
       "      <td>1170557</td>\n",
       "      <td>omegawarrior3</td>\n",
       "      <td>NaN</td>\n",
       "      <td>Source?</td>\n",
       "      <td>2016-06-27 15:55:44</td>\n",
       "      <td>0</td>\n",
       "      <td>d4pyplx</td>\n",
       "      <td>4q3cdg</td>\n",
       "      <td>d4pudws</td>\n",
       "      <td>1</td>\n",
       "      <td>GPE Source</td>\n",
       "      <td>0.0,0.0,1.0,0.0</td>\n",
       "      <td>{'source': 1, '?': 1}</td>\n",
       "      <td>Neutral</td>\n",
       "    </tr>\n",
       "    <tr>\n",
       "      <th>3306212</th>\n",
       "      <td>228054</td>\n",
       "      <td>Trump-Tzu</td>\n",
       "      <td>NaN</td>\n",
       "      <td>I mean realistically if you go give a big spee...</td>\n",
       "      <td>2016-08-04 15:02:32</td>\n",
       "      <td>0</td>\n",
       "      <td>d63zcm5</td>\n",
       "      <td>4w4vud</td>\n",
       "      <td>d63z480</td>\n",
       "      <td>-25</td>\n",
       "      <td></td>\n",
       "      <td>-0.438,0.08,0.92,0.0</td>\n",
       "      <td>{'i': 2, 'mean': 2, 'realistically': 1, 'go': ...</td>\n",
       "      <td>Negative</td>\n",
       "    </tr>\n",
       "    <tr>\n",
       "      <th>396214</th>\n",
       "      <td>396214</td>\n",
       "      <td>NebraskaGunOwner</td>\n",
       "      <td>NaN</td>\n",
       "      <td>I've told my die hard anti-second amendment fr...</td>\n",
       "      <td>2016-06-08 16:14:58</td>\n",
       "      <td>0</td>\n",
       "      <td>d4114yg</td>\n",
       "      <td>4n5t7f</td>\n",
       "      <td>4n5t7f</td>\n",
       "      <td>29</td>\n",
       "      <td>PERSON Clinton</td>\n",
       "      <td>-0.2023,0.133,0.747,0.119</td>\n",
       "      <td>{'i': 2, ''ve': 1, 'told': 1, 'die': 1, 'hard'...</td>\n",
       "      <td>Negative</td>\n",
       "    </tr>\n",
       "    <tr>\n",
       "      <th>6840168</th>\n",
       "      <td>643092</td>\n",
       "      <td>RheagarTargaryen</td>\n",
       "      <td>NaN</td>\n",
       "      <td>It's a little bit of both. If he would have wo...</td>\n",
       "      <td>2016-10-10 06:01:16</td>\n",
       "      <td>0</td>\n",
       "      <td>d8lkalt</td>\n",
       "      <td>56psun</td>\n",
       "      <td>d8lh71p</td>\n",
       "      <td>4</td>\n",
       "      <td>ORGANIZATION DNC,PERSON Bernie Sanders,PERSON ...</td>\n",
       "      <td>0.9727,0.029,0.806,0.165</td>\n",
       "      <td>{'it': 1, ''s': 2, 'little': 1, 'bit': 1, '.':...</td>\n",
       "      <td>Positive</td>\n",
       "    </tr>\n",
       "    <tr>\n",
       "      <th>3435702</th>\n",
       "      <td>357544</td>\n",
       "      <td>SvenHudson</td>\n",
       "      <td>NaN</td>\n",
       "      <td>&amp;gt; They're ignoring demonstrated incompetenc...</td>\n",
       "      <td>2016-08-07 04:16:46</td>\n",
       "      <td>0</td>\n",
       "      <td>d67gdy6</td>\n",
       "      <td>4wi2tx</td>\n",
       "      <td>d67gank</td>\n",
       "      <td>0</td>\n",
       "      <td></td>\n",
       "      <td>-0.7184,0.353,0.647,0.0</td>\n",
       "      <td>{'&amp;': 1, 'gt': 1, ';': 1, 'they': 1, ''re': 1,...</td>\n",
       "      <td>Negative</td>\n",
       "    </tr>\n",
       "    <tr>\n",
       "      <th>1229936</th>\n",
       "      <td>1229936</td>\n",
       "      <td>Huckleberry_Win</td>\n",
       "      <td>NaN</td>\n",
       "      <td>Naked pics online? That's disgusting! On a web...</td>\n",
       "      <td>2016-06-29 04:57:38</td>\n",
       "      <td>0</td>\n",
       "      <td>d4s73t2</td>\n",
       "      <td>4qdopy</td>\n",
       "      <td>4qdopy</td>\n",
       "      <td>2</td>\n",
       "      <td></td>\n",
       "      <td>-0.686,0.237,0.763,0.0</td>\n",
       "      <td>{'naked': 1, 'pic': 1, 'online': 1, '?': 4, 't...</td>\n",
       "      <td>Negative</td>\n",
       "    </tr>\n",
       "    <tr>\n",
       "      <th>1365594</th>\n",
       "      <td>73089</td>\n",
       "      <td>[deleted]</td>\n",
       "      <td>NaN</td>\n",
       "      <td>[removed]</td>\n",
       "      <td>2016-07-03 14:36:52</td>\n",
       "      <td>0</td>\n",
       "      <td>d4xogsa</td>\n",
       "      <td>4r0a1f</td>\n",
       "      <td>d4xik3v</td>\n",
       "      <td>1</td>\n",
       "      <td></td>\n",
       "      <td>0.0,0.0,1.0,0.0</td>\n",
       "      <td>{'[': 1, 'removed': 1, ']': 1}</td>\n",
       "      <td>Neutral</td>\n",
       "    </tr>\n",
       "    <tr>\n",
       "      <th>6748330</th>\n",
       "      <td>551254</td>\n",
       "      <td>Iamtheoneclinton</td>\n",
       "      <td>NaN</td>\n",
       "      <td>Hmm, and some comment he made a long time ago ...</td>\n",
       "      <td>2016-10-10 00:50:42</td>\n",
       "      <td>0</td>\n",
       "      <td>d8l6r35</td>\n",
       "      <td>56p08c</td>\n",
       "      <td>d8l4adl</td>\n",
       "      <td>1</td>\n",
       "      <td>GPE Hmm</td>\n",
       "      <td>0.34,0.0,0.854,0.146</td>\n",
       "      <td>{'hmm': 1, ',': 1, 'comment': 1, 'made': 1, 'l...</td>\n",
       "      <td>Positive</td>\n",
       "    </tr>\n",
       "    <tr>\n",
       "      <th>4976007</th>\n",
       "      <td>498161</td>\n",
       "      <td>Bigbrass</td>\n",
       "      <td>NaN</td>\n",
       "      <td>This thread has over 10,000 comments, and you ...</td>\n",
       "      <td>2016-09-12 04:10:18</td>\n",
       "      <td>0</td>\n",
       "      <td>d7j666e</td>\n",
       "      <td>52asml</td>\n",
       "      <td>d7j3squ</td>\n",
       "      <td>2</td>\n",
       "      <td></td>\n",
       "      <td>0.0,0.0,1.0,0.0</td>\n",
       "      <td>{'this': 1, 'thread': 2, '10,000': 1, 'comment...</td>\n",
       "      <td>Neutral</td>\n",
       "    </tr>\n",
       "  </tbody>\n",
       "</table>\n",
       "</div>"
      ],
      "text/plain": [
       "           index            author author_flair_text  \\\n",
       "2526271  1233766         [deleted]               NaN   \n",
       "1170557  1170557     omegawarrior3               NaN   \n",
       "3306212   228054         Trump-Tzu               NaN   \n",
       "396214    396214  NebraskaGunOwner               NaN   \n",
       "6840168   643092  RheagarTargaryen               NaN   \n",
       "3435702   357544        SvenHudson               NaN   \n",
       "1229936  1229936   Huckleberry_Win               NaN   \n",
       "1365594    73089         [deleted]               NaN   \n",
       "6748330   551254  Iamtheoneclinton               NaN   \n",
       "4976007   498161          Bigbrass               NaN   \n",
       "\n",
       "                                                      body  \\\n",
       "2526271                                          [removed]   \n",
       "1170557                                            Source?   \n",
       "3306212  I mean realistically if you go give a big spee...   \n",
       "396214   I've told my die hard anti-second amendment fr...   \n",
       "6840168  It's a little bit of both. If he would have wo...   \n",
       "3435702  &gt; They're ignoring demonstrated incompetenc...   \n",
       "1229936  Naked pics online? That's disgusting! On a web...   \n",
       "1365594                                          [removed]   \n",
       "6748330  Hmm, and some comment he made a long time ago ...   \n",
       "4976007  This thread has over 10,000 comments, and you ...   \n",
       "\n",
       "                created_utc  gilded       id link_id parent_id  score  \\\n",
       "2526271 2016-07-26 02:32:04       0  d5qxl3c  4uijjh    4uijjh      1   \n",
       "1170557 2016-06-27 15:55:44       0  d4pyplx  4q3cdg   d4pudws      1   \n",
       "3306212 2016-08-04 15:02:32       0  d63zcm5  4w4vud   d63z480    -25   \n",
       "396214  2016-06-08 16:14:58       0  d4114yg  4n5t7f    4n5t7f     29   \n",
       "6840168 2016-10-10 06:01:16       0  d8lkalt  56psun   d8lh71p      4   \n",
       "3435702 2016-08-07 04:16:46       0  d67gdy6  4wi2tx   d67gank      0   \n",
       "1229936 2016-06-29 04:57:38       0  d4s73t2  4qdopy    4qdopy      2   \n",
       "1365594 2016-07-03 14:36:52       0  d4xogsa  4r0a1f   d4xik3v      1   \n",
       "6748330 2016-10-10 00:50:42       0  d8l6r35  56p08c   d8l4adl      1   \n",
       "4976007 2016-09-12 04:10:18       0  d7j666e  52asml   d7j3squ      2   \n",
       "\n",
       "                                                    entity  \\\n",
       "2526271                                                      \n",
       "1170557                                         GPE Source   \n",
       "3306212                                                      \n",
       "396214                                      PERSON Clinton   \n",
       "6840168  ORGANIZATION DNC,PERSON Bernie Sanders,PERSON ...   \n",
       "3435702                                                      \n",
       "1229936                                                      \n",
       "1365594                                                      \n",
       "6748330                                            GPE Hmm   \n",
       "4976007                                                      \n",
       "\n",
       "                         sentiment  \\\n",
       "2526271            0.0,0.0,1.0,0.0   \n",
       "1170557            0.0,0.0,1.0,0.0   \n",
       "3306212       -0.438,0.08,0.92,0.0   \n",
       "396214   -0.2023,0.133,0.747,0.119   \n",
       "6840168   0.9727,0.029,0.806,0.165   \n",
       "3435702    -0.7184,0.353,0.647,0.0   \n",
       "1229936     -0.686,0.237,0.763,0.0   \n",
       "1365594            0.0,0.0,1.0,0.0   \n",
       "6748330       0.34,0.0,0.854,0.146   \n",
       "4976007            0.0,0.0,1.0,0.0   \n",
       "\n",
       "                                                 wordcount     label  \n",
       "2526271                     {'[': 1, 'removed': 1, ']': 1}   Neutral  \n",
       "1170557                              {'source': 1, '?': 1}   Neutral  \n",
       "3306212  {'i': 2, 'mean': 2, 'realistically': 1, 'go': ...  Negative  \n",
       "396214   {'i': 2, ''ve': 1, 'told': 1, 'die': 1, 'hard'...  Negative  \n",
       "6840168  {'it': 1, ''s': 2, 'little': 1, 'bit': 1, '.':...  Positive  \n",
       "3435702  {'&': 1, 'gt': 1, ';': 1, 'they': 1, ''re': 1,...  Negative  \n",
       "1229936  {'naked': 1, 'pic': 1, 'online': 1, '?': 4, 't...  Negative  \n",
       "1365594                     {'[': 1, 'removed': 1, ']': 1}   Neutral  \n",
       "6748330  {'hmm': 1, ',': 1, 'comment': 1, 'made': 1, 'l...  Positive  \n",
       "4976007  {'this': 1, 'thread': 2, '10,000': 1, 'comment...   Neutral  "
      ]
     },
     "execution_count": 16,
     "metadata": {},
     "output_type": "execute_result"
    }
   ],
   "source": [
    "sample = politics.sample(10).copy()\n",
    "\n",
    "sample['entity'] = sample['body'].apply(nlp_entity)\n",
    "sample['sentiment'] = sample['body'].apply(nlp_sentiment)\n",
    "sample['wordcount'] = sample['body'].apply(nlp_wordcount)\n",
    "sample['label'] = sample['sentiment'].apply(sentiment_to_label)\n",
    "sample"
   ]
  },
  {
   "cell_type": "code",
   "execution_count": 17,
   "metadata": {},
   "outputs": [
    {
     "data": {
      "image/png": "[encoded data removed]",
      "text/plain": [
       "<Figure size 432x288 with 1 Axes>"
      ]
     },
     "metadata": {},
     "output_type": "display_data"
    }
   ],
   "source": [
    "sample.iloc[0]['wordcount'].plot()"
   ]
  },
  {
   "cell_type": "markdown",
   "metadata": {},
   "source": [
    "### Words positive or negative\n",
    "Using flair only dataset"
   ]
  },
  {
   "cell_type": "code",
   "execution_count": 18,
   "metadata": {},
   "outputs": [
    {
     "data": {
      "text/html": [
       "<div>\n",
       "<style scoped>\n",
       "    .dataframe tbody tr th:only-of-type {\n",
       "        vertical-align: middle;\n",
       "    }\n",
       "\n",
       "    .dataframe tbody tr th {\n",
       "        vertical-align: top;\n",
       "    }\n",
       "\n",
       "    .dataframe thead th {\n",
       "        text-align: right;\n",
       "    }\n",
       "</style>\n",
       "<table border=\"1\" class=\"dataframe\">\n",
       "  <thead>\n",
       "    <tr style=\"text-align: right;\">\n",
       "      <th></th>\n",
       "      <th>index</th>\n",
       "      <th>author</th>\n",
       "      <th>author_flair_text</th>\n",
       "      <th>body</th>\n",
       "      <th>created_utc</th>\n",
       "      <th>gilded</th>\n",
       "      <th>id</th>\n",
       "      <th>link_id</th>\n",
       "      <th>parent_id</th>\n",
       "      <th>score</th>\n",
       "      <th>entity</th>\n",
       "      <th>sentiment</th>\n",
       "      <th>wordcount</th>\n",
       "      <th>label</th>\n",
       "    </tr>\n",
       "  </thead>\n",
       "  <tbody>\n",
       "    <tr>\n",
       "      <th>10423433</th>\n",
       "      <td>2086017</td>\n",
       "      <td>6p6ss6</td>\n",
       "      <td>California</td>\n",
       "      <td>This Thanksgiving, I give thanks to the Native...</td>\n",
       "      <td>2016-11-23 17:18:07</td>\n",
       "      <td>0</td>\n",
       "      <td>dacmuqr</td>\n",
       "      <td>5ei983</td>\n",
       "      <td>5ei983</td>\n",
       "      <td>2782</td>\n",
       "      <td>ORGANIZATION Native Americans</td>\n",
       "      <td>-0.4404,0.235,0.648,0.117</td>\n",
       "      <td>{'this': 1, 'thanksgiving': 1, ',': 2, 'i': 1,...</td>\n",
       "      <td>Negative</td>\n",
       "    </tr>\n",
       "    <tr>\n",
       "      <th>6995855</th>\n",
       "      <td>798779</td>\n",
       "      <td>CNegan</td>\n",
       "      <td>Texas</td>\n",
       "      <td>I genuinely hope that all of his supporters do...</td>\n",
       "      <td>2016-10-12 02:30:51</td>\n",
       "      <td>0</td>\n",
       "      <td>d8o9dba</td>\n",
       "      <td>571wsx</td>\n",
       "      <td>571wsx</td>\n",
       "      <td>1793</td>\n",
       "      <td></td>\n",
       "      <td>0.7003,0.0,0.756,0.244</td>\n",
       "      <td>{'i': 1, 'genuinely': 1, 'hope': 1, 'supporter...</td>\n",
       "      <td>Positive</td>\n",
       "    </tr>\n",
       "    <tr>\n",
       "      <th>10407419</th>\n",
       "      <td>2070003</td>\n",
       "      <td>6p6ss6</td>\n",
       "      <td>California</td>\n",
       "      <td>First politicize science. Climate science, evo...</td>\n",
       "      <td>2016-11-23 13:31:05</td>\n",
       "      <td>0</td>\n",
       "      <td>dacdfno</td>\n",
       "      <td>5egzfk</td>\n",
       "      <td>5egzfk</td>\n",
       "      <td>1574</td>\n",
       "      <td>PERSON Climate,ORGANIZATION Luddite</td>\n",
       "      <td>-0.3464,0.124,0.82,0.057</td>\n",
       "      <td>{'first': 1, 'politicize': 1, 'science': 4, '....</td>\n",
       "      <td>Negative</td>\n",
       "    </tr>\n",
       "    <tr>\n",
       "      <th>7720886</th>\n",
       "      <td>1523810</td>\n",
       "      <td>lofi76</td>\n",
       "      <td>Colorado</td>\n",
       "      <td>As a woman who's thankfully never needed to ab...</td>\n",
       "      <td>2016-10-21 13:21:08</td>\n",
       "      <td>0</td>\n",
       "      <td>d91p66q</td>\n",
       "      <td>58mjza</td>\n",
       "      <td>d91n99e</td>\n",
       "      <td>1423</td>\n",
       "      <td>ORGANIZATION Pap,GPE Abhorrent</td>\n",
       "      <td>0.4019,0.062,0.819,0.118</td>\n",
       "      <td>{'a': 1, 'woman': 3, ''s': 2, 'thankfully': 1,...</td>\n",
       "      <td>Positive</td>\n",
       "    </tr>\n",
       "    <tr>\n",
       "      <th>7606136</th>\n",
       "      <td>1409060</td>\n",
       "      <td>WistfulAether</td>\n",
       "      <td>California</td>\n",
       "      <td>Congratulations to President Hillary Clinton</td>\n",
       "      <td>2016-10-20 02:37:28</td>\n",
       "      <td>0</td>\n",
       "      <td>d8zrs1d</td>\n",
       "      <td>58eh18</td>\n",
       "      <td>58eh18</td>\n",
       "      <td>1236</td>\n",
       "      <td>PERSON Hillary Clinton</td>\n",
       "      <td>0.5994,0.0,0.506,0.494</td>\n",
       "      <td>{'congratulation': 1, 'president': 1, 'hillary...</td>\n",
       "      <td>Positive</td>\n",
       "    </tr>\n",
       "  </tbody>\n",
       "</table>\n",
       "</div>"
      ],
      "text/plain": [
       "            index         author author_flair_text  \\\n",
       "10423433  2086017         6p6ss6        California   \n",
       "6995855    798779         CNegan             Texas   \n",
       "10407419  2070003         6p6ss6        California   \n",
       "7720886   1523810         lofi76          Colorado   \n",
       "7606136   1409060  WistfulAether        California   \n",
       "\n",
       "                                                       body  \\\n",
       "10423433  This Thanksgiving, I give thanks to the Native...   \n",
       "6995855   I genuinely hope that all of his supporters do...   \n",
       "10407419  First politicize science. Climate science, evo...   \n",
       "7720886   As a woman who's thankfully never needed to ab...   \n",
       "7606136        Congratulations to President Hillary Clinton   \n",
       "\n",
       "                 created_utc  gilded       id link_id parent_id  score  \\\n",
       "10423433 2016-11-23 17:18:07       0  dacmuqr  5ei983    5ei983   2782   \n",
       "6995855  2016-10-12 02:30:51       0  d8o9dba  571wsx    571wsx   1793   \n",
       "10407419 2016-11-23 13:31:05       0  dacdfno  5egzfk    5egzfk   1574   \n",
       "7720886  2016-10-21 13:21:08       0  d91p66q  58mjza   d91n99e   1423   \n",
       "7606136  2016-10-20 02:37:28       0  d8zrs1d  58eh18    58eh18   1236   \n",
       "\n",
       "                                       entity                  sentiment  \\\n",
       "10423433        ORGANIZATION Native Americans  -0.4404,0.235,0.648,0.117   \n",
       "6995855                                           0.7003,0.0,0.756,0.244   \n",
       "10407419  PERSON Climate,ORGANIZATION Luddite   -0.3464,0.124,0.82,0.057   \n",
       "7720886        ORGANIZATION Pap,GPE Abhorrent   0.4019,0.062,0.819,0.118   \n",
       "7606136                PERSON Hillary Clinton     0.5994,0.0,0.506,0.494   \n",
       "\n",
       "                                                  wordcount     label  \n",
       "10423433  {'this': 1, 'thanksgiving': 1, ',': 2, 'i': 1,...  Negative  \n",
       "6995855   {'i': 1, 'genuinely': 1, 'hope': 1, 'supporter...  Positive  \n",
       "10407419  {'first': 1, 'politicize': 1, 'science': 4, '....  Negative  \n",
       "7720886   {'a': 1, 'woman': 3, ''s': 2, 'thankfully': 1,...  Positive  \n",
       "7606136   {'congratulation': 1, 'president': 1, 'hillary...  Positive  "
      ]
     },
     "execution_count": 18,
     "metadata": {},
     "output_type": "execute_result"
    }
   ],
   "source": [
    "def get_word_count(df, sentiment):\n",
    "    \"\"\" Get the word count according to the sentiment. Can be 'Positive', 'Negative', 'Neutral' or 'None' \"\"\"\n",
    "    if sentiment != 'None':\n",
    "        filtered_df = df[df['label'] == sentiment]\n",
    "    else:\n",
    "        filtered_df = df.copy()\n",
    "    fdists = list(filtered_df['wordcount'])\n",
    "    tot_fd = nltk.FreqDist()\n",
    "    for fdist in fdists:\n",
    "        for key in fdist:\n",
    "            tot_fd[key] += fdist.get(key)\n",
    "            \n",
    "    return tot_fd\n",
    "\n",
    "sample_sorted_score = flair_politics.copy().sample(5000).sort_values(by=['score'], ascending=False)\n",
    "sample_sorted_score['entity'] = sample_sorted_score['body'].apply(nlp_entity)\n",
    "sample_sorted_score['sentiment'] = sample_sorted_score['body'].apply(nlp_sentiment)\n",
    "sample_sorted_score['wordcount'] = sample_sorted_score['body'].apply(nlp_wordcount)\n",
    "sample_sorted_score['label'] = sample_sorted_score['sentiment'].apply(sentiment_to_label)\n",
    "sample_sorted_score.head()"
   ]
  },
  {
   "cell_type": "markdown",
   "metadata": {},
   "source": [
    "#### Taking good scores into account"
   ]
  },
  {
   "cell_type": "code",
   "execution_count": 19,
   "metadata": {},
   "outputs": [],
   "source": [
    "good_score = sample_sorted_score[sample_sorted_score['score'] > 1000].copy()"
   ]
  },
  {
   "cell_type": "code",
   "execution_count": 20,
   "metadata": {},
   "outputs": [],
   "source": [
    "word_positive_good = get_word_count(good_score, 'Positive')\n",
    "word_negative_good = get_word_count(good_score, 'Negative')\n",
    "word_count_good = get_word_count(good_score, 'None')"
   ]
  },
  {
   "cell_type": "code",
   "execution_count": 21,
   "metadata": {},
   "outputs": [
    {
     "data": {
      "text/plain": [
       "[('.', 5),\n",
       " ('i', 4),\n",
       " (',', 4),\n",
       " ('woman', 3),\n",
       " (\"'s\", 2),\n",
       " ('exam', 2),\n",
       " (\"n't\", 2),\n",
       " ('genuinely', 1),\n",
       " ('hope', 1),\n",
       " ('supporter', 1)]"
      ]
     },
     "execution_count": 21,
     "metadata": {},
     "output_type": "execute_result"
    }
   ],
   "source": [
    "word_positive_good.most_common(10)"
   ]
  },
  {
   "cell_type": "code",
   "execution_count": 22,
   "metadata": {},
   "outputs": [
    {
     "data": {
      "text/plain": [
       "[('.', 13),\n",
       " (',', 9),\n",
       " ('i', 8),\n",
       " ('hated', 5),\n",
       " ('science', 4),\n",
       " ('like', 3),\n",
       " ('this', 2),\n",
       " ('people', 2),\n",
       " ('first', 2),\n",
       " ('favor', 2)]"
      ]
     },
     "execution_count": 22,
     "metadata": {},
     "output_type": "execute_result"
    }
   ],
   "source": [
    "word_negative_good.most_common(10)"
   ]
  },
  {
   "cell_type": "code",
   "execution_count": 23,
   "metadata": {},
   "outputs": [
    {
     "data": {
      "text/plain": [
       "[('.', 18),\n",
       " (',', 13),\n",
       " ('i', 12),\n",
       " ('hated', 5),\n",
       " ('science', 4),\n",
       " (\"n't\", 3),\n",
       " ('like', 3),\n",
       " ('woman', 3),\n",
       " ('this', 2),\n",
       " ('people', 2)]"
      ]
     },
     "execution_count": 23,
     "metadata": {},
     "output_type": "execute_result"
    }
   ],
   "source": [
    "word_count_good.most_common(10)"
   ]
  },
  {
   "cell_type": "markdown",
   "metadata": {},
   "source": [
    "#### Bad scores"
   ]
  },
  {
   "cell_type": "code",
   "execution_count": 24,
   "metadata": {},
   "outputs": [
    {
     "data": {
      "text/html": [
       "<div>\n",
       "<style scoped>\n",
       "    .dataframe tbody tr th:only-of-type {\n",
       "        vertical-align: middle;\n",
       "    }\n",
       "\n",
       "    .dataframe tbody tr th {\n",
       "        vertical-align: top;\n",
       "    }\n",
       "\n",
       "    .dataframe thead th {\n",
       "        text-align: right;\n",
       "    }\n",
       "</style>\n",
       "<table border=\"1\" class=\"dataframe\">\n",
       "  <thead>\n",
       "    <tr style=\"text-align: right;\">\n",
       "      <th></th>\n",
       "      <th>index</th>\n",
       "      <th>author</th>\n",
       "      <th>author_flair_text</th>\n",
       "      <th>body</th>\n",
       "      <th>created_utc</th>\n",
       "      <th>gilded</th>\n",
       "      <th>id</th>\n",
       "      <th>link_id</th>\n",
       "      <th>parent_id</th>\n",
       "      <th>score</th>\n",
       "      <th>entity</th>\n",
       "      <th>sentiment</th>\n",
       "      <th>wordcount</th>\n",
       "      <th>label</th>\n",
       "    </tr>\n",
       "  </thead>\n",
       "  <tbody>\n",
       "    <tr>\n",
       "      <th>9675708</th>\n",
       "      <td>1338292</td>\n",
       "      <td>VelvetElvis</td>\n",
       "      <td>Tennessee</td>\n",
       "      <td>She's literally his daughter.  She gets protec...</td>\n",
       "      <td>2016-11-13 19:48:54</td>\n",
       "      <td>0</td>\n",
       "      <td>d9ysgkq</td>\n",
       "      <td>5cr08j</td>\n",
       "      <td>d9ys9w2</td>\n",
       "      <td>-1</td>\n",
       "      <td></td>\n",
       "      <td>-0.6249,0.194,0.806,0.0</td>\n",
       "      <td>{'she': 2, ''s': 1, 'literally': 1, 'daughter'...</td>\n",
       "      <td>Negative</td>\n",
       "    </tr>\n",
       "    <tr>\n",
       "      <th>6354669</th>\n",
       "      <td>157593</td>\n",
       "      <td>thegoodvibe</td>\n",
       "      <td>Illinois</td>\n",
       "      <td>In high level positions? yes.</td>\n",
       "      <td>2016-10-04 02:00:49</td>\n",
       "      <td>0</td>\n",
       "      <td>d8czpf9</td>\n",
       "      <td>55pphk</td>\n",
       "      <td>d8cxm5x</td>\n",
       "      <td>-1</td>\n",
       "      <td></td>\n",
       "      <td>0.4019,0.0,0.597,0.403</td>\n",
       "      <td>{'in': 1, 'high': 1, 'level': 1, 'position': 1...</td>\n",
       "      <td>Positive</td>\n",
       "    </tr>\n",
       "    <tr>\n",
       "      <th>7647043</th>\n",
       "      <td>1449967</td>\n",
       "      <td>rediced</td>\n",
       "      <td>New Jersey</td>\n",
       "      <td>Chinese steel?</td>\n",
       "      <td>2016-10-20 11:52:56</td>\n",
       "      <td>0</td>\n",
       "      <td>d906341</td>\n",
       "      <td>58ekat</td>\n",
       "      <td>d8zu0z7</td>\n",
       "      <td>-1</td>\n",
       "      <td>GPE Chinese</td>\n",
       "      <td>0.0,0.0,1.0,0.0</td>\n",
       "      <td>{'chinese': 1, 'steel': 1, '?': 1}</td>\n",
       "      <td>Neutral</td>\n",
       "    </tr>\n",
       "    <tr>\n",
       "      <th>6559566</th>\n",
       "      <td>362490</td>\n",
       "      <td>Arthrawn</td>\n",
       "      <td>Indiana</td>\n",
       "      <td>Oh right. The guy who can't name a world leade...</td>\n",
       "      <td>2016-10-07 16:57:27</td>\n",
       "      <td>0</td>\n",
       "      <td>d8i33nn</td>\n",
       "      <td>56bxy0</td>\n",
       "      <td>d8i1u6n</td>\n",
       "      <td>-1</td>\n",
       "      <td>PERSON Harambe</td>\n",
       "      <td>0.6908,0.0,0.729,0.271</td>\n",
       "      <td>{'oh': 1, 'right': 1, '.': 3, 'the': 1, 'guy':...</td>\n",
       "      <td>Positive</td>\n",
       "    </tr>\n",
       "    <tr>\n",
       "      <th>10534399</th>\n",
       "      <td>2196983</td>\n",
       "      <td>gonzoparenting</td>\n",
       "      <td>California</td>\n",
       "      <td>They can choose from the top three vote getter...</td>\n",
       "      <td>2016-11-25 15:59:46</td>\n",
       "      <td>0</td>\n",
       "      <td>daf5hpj</td>\n",
       "      <td>5ettea</td>\n",
       "      <td>daf4rbs</td>\n",
       "      <td>-1</td>\n",
       "      <td>PERSON Trump,PERSON Clinton,PERSON Pence,GPE K...</td>\n",
       "      <td>-0.0418,0.049,0.905,0.045</td>\n",
       "      <td>{'they': 2, 'choose': 1, 'top': 1, 'three': 1,...</td>\n",
       "      <td>Neutral</td>\n",
       "    </tr>\n",
       "  </tbody>\n",
       "</table>\n",
       "</div>"
      ],
      "text/plain": [
       "            index          author author_flair_text  \\\n",
       "9675708   1338292     VelvetElvis         Tennessee   \n",
       "6354669    157593     thegoodvibe          Illinois   \n",
       "7647043   1449967         rediced        New Jersey   \n",
       "6559566    362490        Arthrawn           Indiana   \n",
       "10534399  2196983  gonzoparenting        California   \n",
       "\n",
       "                                                       body  \\\n",
       "9675708   She's literally his daughter.  She gets protec...   \n",
       "6354669                       In high level positions? yes.   \n",
       "7647043                                      Chinese steel?   \n",
       "6559566   Oh right. The guy who can't name a world leade...   \n",
       "10534399  They can choose from the top three vote getter...   \n",
       "\n",
       "                 created_utc  gilded       id link_id parent_id  score  \\\n",
       "9675708  2016-11-13 19:48:54       0  d9ysgkq  5cr08j   d9ys9w2     -1   \n",
       "6354669  2016-10-04 02:00:49       0  d8czpf9  55pphk   d8cxm5x     -1   \n",
       "7647043  2016-10-20 11:52:56       0  d906341  58ekat   d8zu0z7     -1   \n",
       "6559566  2016-10-07 16:57:27       0  d8i33nn  56bxy0   d8i1u6n     -1   \n",
       "10534399 2016-11-25 15:59:46       0  daf5hpj  5ettea   daf4rbs     -1   \n",
       "\n",
       "                                                     entity  \\\n",
       "9675708                                                       \n",
       "6354669                                                       \n",
       "7647043                                         GPE Chinese   \n",
       "6559566                                      PERSON Harambe   \n",
       "10534399  PERSON Trump,PERSON Clinton,PERSON Pence,GPE K...   \n",
       "\n",
       "                          sentiment  \\\n",
       "9675708     -0.6249,0.194,0.806,0.0   \n",
       "6354669      0.4019,0.0,0.597,0.403   \n",
       "7647043             0.0,0.0,1.0,0.0   \n",
       "6559566      0.6908,0.0,0.729,0.271   \n",
       "10534399  -0.0418,0.049,0.905,0.045   \n",
       "\n",
       "                                                  wordcount     label  \n",
       "9675708   {'she': 2, ''s': 1, 'literally': 1, 'daughter'...  Negative  \n",
       "6354669   {'in': 1, 'high': 1, 'level': 1, 'position': 1...  Positive  \n",
       "7647043                  {'chinese': 1, 'steel': 1, '?': 1}   Neutral  \n",
       "6559566   {'oh': 1, 'right': 1, '.': 3, 'the': 1, 'guy':...  Positive  \n",
       "10534399  {'they': 2, 'choose': 1, 'top': 1, 'three': 1,...   Neutral  "
      ]
     },
     "execution_count": 24,
     "metadata": {},
     "output_type": "execute_result"
    }
   ],
   "source": [
    "bad_score = sample_sorted_score[sample_sorted_score['score'] < 0].copy()\n",
    "\n",
    "bad_score.head()"
   ]
  },
  {
   "cell_type": "code",
   "execution_count": 25,
   "metadata": {},
   "outputs": [],
   "source": [
    "word_positive_bad = get_word_count(bad_score, 'Positive')\n",
    "word_negative_bad = get_word_count(bad_score, 'Negative')\n",
    "word_count_bad = get_word_count(bad_score, 'None')"
   ]
  },
  {
   "cell_type": "code",
   "execution_count": 26,
   "metadata": {},
   "outputs": [
    {
     "data": {
      "text/plain": [
       "[('.', 128),\n",
       " (',', 77),\n",
       " ('i', 45),\n",
       " (\"'s\", 22),\n",
       " (\"n't\", 19),\n",
       " ('?', 17),\n",
       " (':', 11),\n",
       " ('trump', 11),\n",
       " ('like', 10),\n",
       " ('hillary', 10)]"
      ]
     },
     "execution_count": 26,
     "metadata": {},
     "output_type": "execute_result"
    }
   ],
   "source": [
    "word_positive_bad.most_common(10)"
   ]
  },
  {
   "cell_type": "code",
   "execution_count": 27,
   "metadata": {},
   "outputs": [
    {
     "data": {
      "text/plain": [
       "[('.', 189),\n",
       " (',', 111),\n",
       " (\"n't\", 53),\n",
       " ('i', 51),\n",
       " (\"'s\", 47),\n",
       " ('?', 29),\n",
       " ('&', 22),\n",
       " (';', 22),\n",
       " ('trump', 19),\n",
       " ('``', 17)]"
      ]
     },
     "execution_count": 27,
     "metadata": {},
     "output_type": "execute_result"
    }
   ],
   "source": [
    "word_negative_bad.most_common(10)"
   ]
  },
  {
   "cell_type": "code",
   "execution_count": 28,
   "metadata": {},
   "outputs": [
    {
     "data": {
      "text/plain": [
       "[('.', 419),\n",
       " (',', 237),\n",
       " ('i', 112),\n",
       " (\"'s\", 92),\n",
       " (\"n't\", 86),\n",
       " ('?', 58),\n",
       " ('trump', 42),\n",
       " ('&', 39),\n",
       " (';', 39),\n",
       " (\"''\", 34)]"
      ]
     },
     "execution_count": 28,
     "metadata": {},
     "output_type": "execute_result"
    }
   ],
   "source": [
    "word_count_bad.most_common(10)"
   ]
  },
  {
   "cell_type": "markdown",
   "metadata": {},
   "source": [
    "#### Compare good and bad\n",
    "Which one are in both sets?"
   ]
  },
  {
   "cell_type": "code",
   "execution_count": 29,
   "metadata": {},
   "outputs": [],
   "source": [
    "both = []\n",
    "good_only = nltk.FreqDist()\n",
    "for good in word_count_good:\n",
    "    if good in word_count_bad:\n",
    "        both.append(good)\n",
    "    else:\n",
    "        good_only[good] = word_count_good.get(good)"
   ]
  },
  {
   "cell_type": "code",
   "execution_count": 30,
   "metadata": {},
   "outputs": [
    {
     "data": {
      "text/plain": [
       "['this',\n",
       " ',',\n",
       " 'i',\n",
       " 'give',\n",
       " 'thanks',\n",
       " 'native',\n",
       " 'american',\n",
       " 'people',\n",
       " 'standing',\n",
       " '.']"
      ]
     },
     "execution_count": 30,
     "metadata": {},
     "output_type": "execute_result"
    }
   ],
   "source": [
    "both[:10]"
   ]
  },
  {
   "cell_type": "code",
   "execution_count": 31,
   "metadata": {},
   "outputs": [
    {
     "data": {
      "text/plain": [
       "[('hated', 5),\n",
       " ('exam', 2),\n",
       " ('thanksgiving', 1),\n",
       " ('protesting', 1),\n",
       " ('fight', 1),\n",
       " ('november', 1),\n",
       " ('28th', 1),\n",
       " ('single', 1),\n",
       " ('politicize', 1),\n",
       " ('cell', 1)]"
      ]
     },
     "execution_count": 31,
     "metadata": {},
     "output_type": "execute_result"
    }
   ],
   "source": [
    "good_only.most_common(10)"
   ]
  },
  {
   "cell_type": "code",
   "execution_count": 32,
   "metadata": {},
   "outputs": [],
   "source": [
    "bad_only = nltk.FreqDist()\n",
    "for bad in word_count_bad:\n",
    "    if bad not in word_count_good:\n",
    "        bad_only[bad] = word_count_bad.get(bad)"
   ]
  },
  {
   "cell_type": "code",
   "execution_count": 33,
   "metadata": {},
   "outputs": [
    {
     "data": {
      "text/plain": [
       "[('?', 58),\n",
       " ('trump', 42),\n",
       " ('gt', 33),\n",
       " (':', 31),\n",
       " ('...', 30),\n",
       " ('the', 26),\n",
       " ('would', 24),\n",
       " ('election', 21),\n",
       " (')', 21),\n",
       " ('(', 20)]"
      ]
     },
     "execution_count": 33,
     "metadata": {},
     "output_type": "execute_result"
    }
   ],
   "source": [
    "bad_only.most_common(10)"
   ]
  },
  {
   "cell_type": "markdown",
   "metadata": {},
   "source": [
    "## Entities"
   ]
  },
  {
   "cell_type": "code",
   "execution_count": 34,
   "metadata": {},
   "outputs": [],
   "source": [
    "def get_score(row, firstName, lastName, out_states):\n",
    "    current_state = row['author_flair_text']\n",
    "    if firstName in row['entity'] or lastName in row['entity']:\n",
    "        if row['label'] == 'Positive':          \n",
    "            out_states.loc[current_state, 'score_'+lastName] += 1\n",
    "        elif row['label'] == 'Negative':\n",
    "            out_states.loc[current_state, 'score_'+lastName] -= 1"
   ]
  },
  {
   "cell_type": "code",
   "execution_count": 35,
   "metadata": {},
   "outputs": [
    {
     "data": {
      "text/html": [
       "<div>\n",
       "<style scoped>\n",
       "    .dataframe tbody tr th:only-of-type {\n",
       "        vertical-align: middle;\n",
       "    }\n",
       "\n",
       "    .dataframe tbody tr th {\n",
       "        vertical-align: top;\n",
       "    }\n",
       "\n",
       "    .dataframe thead th {\n",
       "        text-align: right;\n",
       "    }\n",
       "</style>\n",
       "<table border=\"1\" class=\"dataframe\">\n",
       "  <thead>\n",
       "    <tr style=\"text-align: right;\">\n",
       "      <th></th>\n",
       "      <th>score_Trump</th>\n",
       "      <th>score_Clinton</th>\n",
       "    </tr>\n",
       "    <tr>\n",
       "      <th>name</th>\n",
       "      <th></th>\n",
       "      <th></th>\n",
       "    </tr>\n",
       "  </thead>\n",
       "  <tbody>\n",
       "    <tr>\n",
       "      <th>Michigan</th>\n",
       "      <td>-5</td>\n",
       "      <td>3</td>\n",
       "    </tr>\n",
       "    <tr>\n",
       "      <th>Maine</th>\n",
       "      <td>1</td>\n",
       "      <td>0</td>\n",
       "    </tr>\n",
       "    <tr>\n",
       "      <th>New Mexico</th>\n",
       "      <td>0</td>\n",
       "      <td>1</td>\n",
       "    </tr>\n",
       "    <tr>\n",
       "      <th>Vermont</th>\n",
       "      <td>0</td>\n",
       "      <td>1</td>\n",
       "    </tr>\n",
       "    <tr>\n",
       "      <th>Massachusetts</th>\n",
       "      <td>5</td>\n",
       "      <td>-1</td>\n",
       "    </tr>\n",
       "  </tbody>\n",
       "</table>\n",
       "</div>"
      ],
      "text/plain": [
       "               score_Trump  score_Clinton\n",
       "name                                     \n",
       "Michigan                -5              3\n",
       "Maine                    1              0\n",
       "New Mexico               0              1\n",
       "Vermont                  0              1\n",
       "Massachusetts            5             -1"
      ]
     },
     "execution_count": 35,
     "metadata": {},
     "output_type": "execute_result"
    }
   ],
   "source": [
    "state_list = list(set(state_full))\n",
    "state_df = pd.DataFrame(state_list, columns=['name'])\n",
    "state_df.set_index('name', inplace=True)\n",
    "state_df['score_Trump'] = 0\n",
    "state_df['score_Clinton'] = 0\n",
    "\n",
    "sample_sorted_score.apply(get_score, firstName='Donald', lastName='Trump', out_states=state_df, axis=1)\n",
    "sample_sorted_score.apply(get_score, firstName='Hillary', lastName='Clinton', out_states=state_df, axis=1)\n",
    "\n",
    "\n",
    "state_df.head()"
   ]
  },
  {
   "cell_type": "code",
   "execution_count": 36,
   "metadata": {},
   "outputs": [],
   "source": [
    "#TODO plot"
   ]
  },
  {
   "cell_type": "markdown",
   "metadata": {},
   "source": [
    "## Visualizing data"
   ]
  },
  {
   "cell_type": "markdown",
   "metadata": {},
   "source": [
    "To get a feel for the dataset, a histogram with the number of comments for each day is plotted."
   ]
  },
  {
   "cell_type": "code",
   "execution_count": 37,
   "metadata": {
    "scrolled": false
   },
   "outputs": [],
   "source": [
    "# computation of the number of days the dataset spans\n",
    "days = (politics.iloc[-1].created_utc - politics.iloc[0].created_utc).days + 1"
   ]
  },
  {
   "cell_type": "code",
   "execution_count": 38,
   "metadata": {},
   "outputs": [
    {
     "data": {
      "image/png": "[encoded data removed]",
      "text/plain": [
       "<Figure size 1080x360 with 1 Axes>"
      ]
     },
     "metadata": {},
     "output_type": "display_data"
    }
   ],
   "source": [
    "plt.figure(figsize=(15,5))\n",
    "plt.grid()\n",
    "plt.hist(politics['created_utc'], bins=days)\n",
    "plt.ylabel('Number of comments')\n",
    "plt.xlabel('Time')\n",
    "plt.title('Distribution of the comments')\n",
    "plt.show()"
   ]
  },
  {
   "cell_type": "code",
   "execution_count": null,
   "metadata": {},
   "outputs": [],
   "source": []
  }
 ],
 "metadata": {
  "kernelspec": {
   "display_name": "Python 3",
   "language": "python",
   "name": "python3"
  },
  "language_info": {
   "codemirror_mode": {
    "name": "ipython",
    "version": 3
   },
   "file_extension": ".py",
   "mimetype": "text/x-python",
   "name": "python",
   "nbconvert_exporter": "python",
   "pygments_lexer": "ipython3",
   "version": "3.6.4"
  }
 },
 "nbformat": 4,
 "nbformat_minor": 2
}
