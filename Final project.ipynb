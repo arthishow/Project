{
 "cells": [
  {
   "cell_type": "markdown",
   "metadata": {},
   "source": [
    "# ADA - Final project\n",
    "This notebook aims at giving technical explanations necessary to understand how the results given in the final report were found.\n",
    "\n",
    "First off, the following commands allow you to retrieve the data necessary to run this notebook locally from the cluster used for this class.\n",
    "1. Upload the files script.sh and script.py using the following command:  \n",
    "```bash \n",
    "scp -r -p /path/to/script.py GASPAR@iccluster028.iccluster.epfl.ch:/home/GASPAR/script.py  \n",
    "scp -r -p /path/to/script.sh GASPAR@iccluster028.iccluster.epfl.ch:/home/GASPAR/script.sh\n",
    "```\n",
    "2. Connect to the cluster using a second terminal and run the scripts:  \n",
    "```bash \n",
    "ssh GASPAR@iccluster028.iccluster.epfl.ch  \n",
    "sh script.sh script.py  \n",
    "```\n",
    "3. Store the output in the home folder:  \n",
    "```bash \n",
    "hadoop fs -get /user/GASPAR/politics_2016_* file:///home/GASPAR\n",
    "```\n",
    "4. Download the data locally using the first terminal:  \n",
    "```bash \n",
    "scp -r GASPAR@iccluster028.iccluster.epfl.ch:/home/GASPAR/politics_2016_* /local/path/to/folder\n",
    "```\n",
    "\n",
    "The retrieved dataset consists of several different features listed below:\n",
    "* **author**: The username of the author of the comment.\n",
    "* **author_flair_text**: Users can pick so-called *flairs* which are basically tags intended to briefly summarize the user.  They're different for each subreddit, and users can only pick one per subreddit.\n",
    "* **body**: The content of the comment.\n",
    "* **created_utc**: The date at which the comment was originally posted.\n",
    "* **gilded**: Denotes if the comment received a gold. A gold is a form of gratification users can give one another. They're not common because gilding someone costs money.\n",
    "* **id**: A unique ID that defines the comment.\n",
    "* **link_id**: A unique ID that determines the post in which the comment was posted to.\n",
    "* **parent_id**: A unique ID that determines to what the comment is responding to. If it starts with *t1*, the comment is a response to another comment. If it starts with *t3*, the comment is responding directly to the original post.\n",
    "* **score**: The number of upvotes minus the number of downvotes the comment received.\n"
   ]
  },
  {
   "cell_type": "markdown",
   "metadata": {},
   "source": [
    "## Imports"
   ]
  },
  {
   "cell_type": "code",
   "execution_count": 1,
   "metadata": {},
   "outputs": [],
   "source": [
    "import nltk\n",
    "import numpy as np\n",
    "import pandas as pd\n",
    "import matplotlib.pyplot as plt\n",
    "from nltk.sentiment.vader import SentimentIntensityAnalyzer\n",
    "import string\n",
    "\n",
    "%matplotlib inline"
   ]
  },
  {
   "cell_type": "markdown",
   "metadata": {},
   "source": [
    "## Loading data"
   ]
  },
  {
   "cell_type": "code",
   "execution_count": 2,
   "metadata": {},
   "outputs": [],
   "source": [
    "DATA_PATH = 'data/'"
   ]
  },
  {
   "cell_type": "code",
   "execution_count": 179,
   "metadata": {},
   "outputs": [],
   "source": [
    "states = pd.read_csv(DATA_PATH + 'states.csv')"
   ]
  },
  {
   "cell_type": "code",
   "execution_count": 181,
   "metadata": {},
   "outputs": [
    {
     "data": {
      "text/plain": [
       "(50, 2)"
      ]
     },
     "execution_count": 181,
     "metadata": {},
     "output_type": "execute_result"
    }
   ],
   "source": [
    "states.shape"
   ]
  },
  {
   "cell_type": "code",
   "execution_count": 5,
   "metadata": {},
   "outputs": [],
   "source": [
    "politics_06 = pd.read_parquet(DATA_PATH + 'politics_2016_06/')\n",
    "politics_07 = pd.read_parquet(DATA_PATH + 'politics_2016_07/')\n",
    "politics_08 = pd.read_parquet(DATA_PATH + 'politics_2016_08/')\n",
    "politics_09 = pd.read_parquet(DATA_PATH + 'politics_2016_09/')\n",
    "politics_10 = pd.read_parquet(DATA_PATH + 'politics_2016_10/')\n",
    "politics_11 = pd.read_parquet(DATA_PATH + 'politics_2016_11/')"
   ]
  },
  {
   "cell_type": "markdown",
   "metadata": {},
   "source": [
    "## Cleaning data\n",
    "\n",
    "Features are converted into appropriate format.  \n",
    "Redundant data are removed as well.  \n",
    "  \n",
    "It is possible to retrieve if the comment was responding to a post or to another comment by matching *link_id* and *parent_id*."
   ]
  },
  {
   "cell_type": "code",
   "execution_count": 6,
   "metadata": {},
   "outputs": [],
   "source": [
    "# created_utc is converted to the datetime format\n",
    "politics_06['created_utc'] = pd.to_datetime(politics_06['created_utc'], unit='s')\n",
    "politics_07['created_utc'] = pd.to_datetime(politics_07['created_utc'], unit='s')\n",
    "politics_08['created_utc'] = pd.to_datetime(politics_08['created_utc'], unit='s')\n",
    "politics_09['created_utc'] = pd.to_datetime(politics_09['created_utc'], unit='s')\n",
    "politics_10['created_utc'] = pd.to_datetime(politics_10['created_utc'], unit='s')\n",
    "politics_11['created_utc'] = pd.to_datetime(politics_11['created_utc'], unit='s')\n",
    "\n",
    "# author_flair_text is converted to a category\n",
    "politics_06['author_flair_text'] = politics_06['author_flair_text'].astype('category')\n",
    "politics_07['author_flair_text'] = politics_07['author_flair_text'].astype('category')\n",
    "politics_08['author_flair_text'] = politics_08['author_flair_text'].astype('category')\n",
    "politics_09['author_flair_text'] = politics_09['author_flair_text'].astype('category')\n",
    "politics_10['author_flair_text'] = politics_10['author_flair_text'].astype('category')\n",
    "politics_11['author_flair_text'] = politics_11['author_flair_text'].astype('category')\n",
    "\n",
    "# remove unnecessary information in link_id and parent_id\n",
    "politics_06['link_id'] = politics_06['link_id'].str.slice(3)\n",
    "politics_07['link_id'] = politics_07['link_id'].str.slice(3)\n",
    "politics_08['link_id'] = politics_08['link_id'].str.slice(3)\n",
    "politics_09['link_id'] = politics_09['link_id'].str.slice(3)\n",
    "politics_10['link_id'] = politics_10['link_id'].str.slice(3)\n",
    "politics_11['link_id'] = politics_11['link_id'].str.slice(3)\n",
    "politics_06['parent_id'] = politics_06['parent_id'].str.slice(3)\n",
    "politics_07['parent_id'] = politics_07['parent_id'].str.slice(3)\n",
    "politics_08['parent_id'] = politics_08['parent_id'].str.slice(3)\n",
    "politics_09['parent_id'] = politics_09['parent_id'].str.slice(3)\n",
    "politics_10['parent_id'] = politics_10['parent_id'].str.slice(3)\n",
    "politics_11['parent_id'] = politics_11['parent_id'].str.slice(3)\n"
   ]
  },
  {
   "cell_type": "code",
   "execution_count": 7,
   "metadata": {},
   "outputs": [
    {
     "data": {
      "text/html": [
       "<div>\n",
       "<style scoped>\n",
       "    .dataframe tbody tr th:only-of-type {\n",
       "        vertical-align: middle;\n",
       "    }\n",
       "\n",
       "    .dataframe tbody tr th {\n",
       "        vertical-align: top;\n",
       "    }\n",
       "\n",
       "    .dataframe thead th {\n",
       "        text-align: right;\n",
       "    }\n",
       "</style>\n",
       "<table border=\"1\" class=\"dataframe\">\n",
       "  <thead>\n",
       "    <tr style=\"text-align: right;\">\n",
       "      <th></th>\n",
       "      <th>author</th>\n",
       "      <th>author_flair_text</th>\n",
       "      <th>body</th>\n",
       "      <th>created_utc</th>\n",
       "      <th>gilded</th>\n",
       "      <th>id</th>\n",
       "      <th>link_id</th>\n",
       "      <th>parent_id</th>\n",
       "      <th>score</th>\n",
       "    </tr>\n",
       "  </thead>\n",
       "  <tbody>\n",
       "    <tr>\n",
       "      <th>0</th>\n",
       "      <td>wheresthecheese</td>\n",
       "      <td>NaN</td>\n",
       "      <td>I'm very glad I read that. The first well thou...</td>\n",
       "      <td>2016-06-01 00:00:00</td>\n",
       "      <td>0</td>\n",
       "      <td>d3r38dt</td>\n",
       "      <td>4lxbri</td>\n",
       "      <td>4lxbri</td>\n",
       "      <td>3</td>\n",
       "    </tr>\n",
       "    <tr>\n",
       "      <th>1</th>\n",
       "      <td>ifCreepyImJoking</td>\n",
       "      <td>NaN</td>\n",
       "      <td>Eh, once you start adding qualifiers instead o...</td>\n",
       "      <td>2016-06-01 00:00:03</td>\n",
       "      <td>0</td>\n",
       "      <td>d3r38gd</td>\n",
       "      <td>4lwef1</td>\n",
       "      <td>d3r17zv</td>\n",
       "      <td>0</td>\n",
       "    </tr>\n",
       "    <tr>\n",
       "      <th>2</th>\n",
       "      <td>Sam_Munhi</td>\n",
       "      <td>NaN</td>\n",
       "      <td>How so? Clinton and Trump are the two most dis...</td>\n",
       "      <td>2016-06-01 00:00:12</td>\n",
       "      <td>0</td>\n",
       "      <td>d3r38n2</td>\n",
       "      <td>4lxbzg</td>\n",
       "      <td>d3r0tm6</td>\n",
       "      <td>4</td>\n",
       "    </tr>\n",
       "    <tr>\n",
       "      <th>3</th>\n",
       "      <td>VowOfKsitigarbha</td>\n",
       "      <td>NaN</td>\n",
       "      <td>Is he attacking the wrong target?</td>\n",
       "      <td>2016-06-01 00:00:12</td>\n",
       "      <td>0</td>\n",
       "      <td>d3r38n4</td>\n",
       "      <td>4lycd3</td>\n",
       "      <td>4lycd3</td>\n",
       "      <td>25</td>\n",
       "    </tr>\n",
       "    <tr>\n",
       "      <th>4</th>\n",
       "      <td>iAMADisposableAcc</td>\n",
       "      <td>NaN</td>\n",
       "      <td>We can agree on that, although I guess we have...</td>\n",
       "      <td>2016-06-01 00:00:15</td>\n",
       "      <td>0</td>\n",
       "      <td>d3r38q3</td>\n",
       "      <td>4lw22m</td>\n",
       "      <td>d3r2rv0</td>\n",
       "      <td>2</td>\n",
       "    </tr>\n",
       "  </tbody>\n",
       "</table>\n",
       "</div>"
      ],
      "text/plain": [
       "              author author_flair_text  \\\n",
       "0    wheresthecheese               NaN   \n",
       "1   ifCreepyImJoking               NaN   \n",
       "2          Sam_Munhi               NaN   \n",
       "3   VowOfKsitigarbha               NaN   \n",
       "4  iAMADisposableAcc               NaN   \n",
       "\n",
       "                                                body         created_utc  \\\n",
       "0  I'm very glad I read that. The first well thou... 2016-06-01 00:00:00   \n",
       "1  Eh, once you start adding qualifiers instead o... 2016-06-01 00:00:03   \n",
       "2  How so? Clinton and Trump are the two most dis... 2016-06-01 00:00:12   \n",
       "3                 Is he attacking the wrong target?  2016-06-01 00:00:12   \n",
       "4  We can agree on that, although I guess we have... 2016-06-01 00:00:15   \n",
       "\n",
       "   gilded       id link_id parent_id  score  \n",
       "0       0  d3r38dt  4lxbri    4lxbri      3  \n",
       "1       0  d3r38gd  4lwef1   d3r17zv      0  \n",
       "2       0  d3r38n2  4lxbzg   d3r0tm6      4  \n",
       "3       0  d3r38n4  4lycd3    4lycd3     25  \n",
       "4       0  d3r38q3  4lw22m   d3r2rv0      2  "
      ]
     },
     "execution_count": 7,
     "metadata": {},
     "output_type": "execute_result"
    }
   ],
   "source": [
    "politics_06.head()"
   ]
  },
  {
   "cell_type": "markdown",
   "metadata": {},
   "source": [
    "Dataframes for each month are then concatenated into one massive Dataframe whose data types are just as expected."
   ]
  },
  {
   "cell_type": "code",
   "execution_count": 8,
   "metadata": {},
   "outputs": [],
   "source": [
    "politics = pd.concat([politics_06, politics_07, politics_08, politics_09, politics_10, politics_11]).reset_index()\n",
    "politics['author_flair_text'] = politics['author_flair_text'].astype('category') #necessary to do it again"
   ]
  },
  {
   "cell_type": "code",
   "execution_count": 9,
   "metadata": {
    "scrolled": true
   },
   "outputs": [
    {
     "data": {
      "text/plain": [
       "index                         int64\n",
       "author                       object\n",
       "author_flair_text          category\n",
       "body                         object\n",
       "created_utc          datetime64[ns]\n",
       "gilded                        int64\n",
       "id                           object\n",
       "link_id                      object\n",
       "parent_id                    object\n",
       "score                         int64\n",
       "dtype: object"
      ]
     },
     "execution_count": 9,
     "metadata": {},
     "output_type": "execute_result"
    }
   ],
   "source": [
    "politics.dtypes"
   ]
  },
  {
   "cell_type": "code",
   "execution_count": 10,
   "metadata": {},
   "outputs": [
    {
     "data": {
      "text/html": [
       "<div>\n",
       "<style scoped>\n",
       "    .dataframe tbody tr th:only-of-type {\n",
       "        vertical-align: middle;\n",
       "    }\n",
       "\n",
       "    .dataframe tbody tr th {\n",
       "        vertical-align: top;\n",
       "    }\n",
       "\n",
       "    .dataframe thead th {\n",
       "        text-align: right;\n",
       "    }\n",
       "</style>\n",
       "<table border=\"1\" class=\"dataframe\">\n",
       "  <thead>\n",
       "    <tr style=\"text-align: right;\">\n",
       "      <th></th>\n",
       "      <th>index</th>\n",
       "      <th>gilded</th>\n",
       "      <th>score</th>\n",
       "    </tr>\n",
       "  </thead>\n",
       "  <tbody>\n",
       "    <tr>\n",
       "      <th>count</th>\n",
       "      <td>1.086033e+07</td>\n",
       "      <td>1.086033e+07</td>\n",
       "      <td>1.086033e+07</td>\n",
       "    </tr>\n",
       "    <tr>\n",
       "      <th>mean</th>\n",
       "      <td>9.539365e+05</td>\n",
       "      <td>3.835981e-04</td>\n",
       "      <td>6.766324e+00</td>\n",
       "    </tr>\n",
       "    <tr>\n",
       "      <th>std</th>\n",
       "      <td>6.041415e+05</td>\n",
       "      <td>2.441999e-02</td>\n",
       "      <td>5.706394e+01</td>\n",
       "    </tr>\n",
       "    <tr>\n",
       "      <th>min</th>\n",
       "      <td>0.000000e+00</td>\n",
       "      <td>0.000000e+00</td>\n",
       "      <td>-8.620000e+02</td>\n",
       "    </tr>\n",
       "    <tr>\n",
       "      <th>25%</th>\n",
       "      <td>4.525130e+05</td>\n",
       "      <td>0.000000e+00</td>\n",
       "      <td>1.000000e+00</td>\n",
       "    </tr>\n",
       "    <tr>\n",
       "      <th>50%</th>\n",
       "      <td>9.050270e+05</td>\n",
       "      <td>0.000000e+00</td>\n",
       "      <td>1.000000e+00</td>\n",
       "    </tr>\n",
       "    <tr>\n",
       "      <th>75%</th>\n",
       "      <td>1.370547e+06</td>\n",
       "      <td>0.000000e+00</td>\n",
       "      <td>4.000000e+00</td>\n",
       "    </tr>\n",
       "    <tr>\n",
       "      <th>max</th>\n",
       "      <td>2.522909e+06</td>\n",
       "      <td>1.400000e+01</td>\n",
       "      <td>1.901100e+04</td>\n",
       "    </tr>\n",
       "  </tbody>\n",
       "</table>\n",
       "</div>"
      ],
      "text/plain": [
       "              index        gilded         score\n",
       "count  1.086033e+07  1.086033e+07  1.086033e+07\n",
       "mean   9.539365e+05  3.835981e-04  6.766324e+00\n",
       "std    6.041415e+05  2.441999e-02  5.706394e+01\n",
       "min    0.000000e+00  0.000000e+00 -8.620000e+02\n",
       "25%    4.525130e+05  0.000000e+00  1.000000e+00\n",
       "50%    9.050270e+05  0.000000e+00  1.000000e+00\n",
       "75%    1.370547e+06  0.000000e+00  4.000000e+00\n",
       "max    2.522909e+06  1.400000e+01  1.901100e+04"
      ]
     },
     "execution_count": 10,
     "metadata": {},
     "output_type": "execute_result"
    }
   ],
   "source": [
    "politics.describe()"
   ]
  },
  {
   "cell_type": "code",
   "execution_count": 11,
   "metadata": {
    "scrolled": true
   },
   "outputs": [
    {
     "data": {
      "text/html": [
       "<div>\n",
       "<style scoped>\n",
       "    .dataframe tbody tr th:only-of-type {\n",
       "        vertical-align: middle;\n",
       "    }\n",
       "\n",
       "    .dataframe tbody tr th {\n",
       "        vertical-align: top;\n",
       "    }\n",
       "\n",
       "    .dataframe thead th {\n",
       "        text-align: right;\n",
       "    }\n",
       "</style>\n",
       "<table border=\"1\" class=\"dataframe\">\n",
       "  <thead>\n",
       "    <tr style=\"text-align: right;\">\n",
       "      <th></th>\n",
       "      <th>index</th>\n",
       "      <th>author</th>\n",
       "      <th>author_flair_text</th>\n",
       "      <th>body</th>\n",
       "      <th>created_utc</th>\n",
       "      <th>gilded</th>\n",
       "      <th>id</th>\n",
       "      <th>link_id</th>\n",
       "      <th>parent_id</th>\n",
       "      <th>score</th>\n",
       "    </tr>\n",
       "  </thead>\n",
       "  <tbody>\n",
       "    <tr>\n",
       "      <th>0</th>\n",
       "      <td>0</td>\n",
       "      <td>wheresthecheese</td>\n",
       "      <td>NaN</td>\n",
       "      <td>I'm very glad I read that. The first well thou...</td>\n",
       "      <td>2016-06-01 00:00:00</td>\n",
       "      <td>0</td>\n",
       "      <td>d3r38dt</td>\n",
       "      <td>4lxbri</td>\n",
       "      <td>4lxbri</td>\n",
       "      <td>3</td>\n",
       "    </tr>\n",
       "    <tr>\n",
       "      <th>1</th>\n",
       "      <td>1</td>\n",
       "      <td>ifCreepyImJoking</td>\n",
       "      <td>NaN</td>\n",
       "      <td>Eh, once you start adding qualifiers instead o...</td>\n",
       "      <td>2016-06-01 00:00:03</td>\n",
       "      <td>0</td>\n",
       "      <td>d3r38gd</td>\n",
       "      <td>4lwef1</td>\n",
       "      <td>d3r17zv</td>\n",
       "      <td>0</td>\n",
       "    </tr>\n",
       "    <tr>\n",
       "      <th>2</th>\n",
       "      <td>2</td>\n",
       "      <td>Sam_Munhi</td>\n",
       "      <td>NaN</td>\n",
       "      <td>How so? Clinton and Trump are the two most dis...</td>\n",
       "      <td>2016-06-01 00:00:12</td>\n",
       "      <td>0</td>\n",
       "      <td>d3r38n2</td>\n",
       "      <td>4lxbzg</td>\n",
       "      <td>d3r0tm6</td>\n",
       "      <td>4</td>\n",
       "    </tr>\n",
       "    <tr>\n",
       "      <th>3</th>\n",
       "      <td>3</td>\n",
       "      <td>VowOfKsitigarbha</td>\n",
       "      <td>NaN</td>\n",
       "      <td>Is he attacking the wrong target?</td>\n",
       "      <td>2016-06-01 00:00:12</td>\n",
       "      <td>0</td>\n",
       "      <td>d3r38n4</td>\n",
       "      <td>4lycd3</td>\n",
       "      <td>4lycd3</td>\n",
       "      <td>25</td>\n",
       "    </tr>\n",
       "    <tr>\n",
       "      <th>4</th>\n",
       "      <td>4</td>\n",
       "      <td>iAMADisposableAcc</td>\n",
       "      <td>NaN</td>\n",
       "      <td>We can agree on that, although I guess we have...</td>\n",
       "      <td>2016-06-01 00:00:15</td>\n",
       "      <td>0</td>\n",
       "      <td>d3r38q3</td>\n",
       "      <td>4lw22m</td>\n",
       "      <td>d3r2rv0</td>\n",
       "      <td>2</td>\n",
       "    </tr>\n",
       "  </tbody>\n",
       "</table>\n",
       "</div>"
      ],
      "text/plain": [
       "   index             author author_flair_text  \\\n",
       "0      0    wheresthecheese               NaN   \n",
       "1      1   ifCreepyImJoking               NaN   \n",
       "2      2          Sam_Munhi               NaN   \n",
       "3      3   VowOfKsitigarbha               NaN   \n",
       "4      4  iAMADisposableAcc               NaN   \n",
       "\n",
       "                                                body         created_utc  \\\n",
       "0  I'm very glad I read that. The first well thou... 2016-06-01 00:00:00   \n",
       "1  Eh, once you start adding qualifiers instead o... 2016-06-01 00:00:03   \n",
       "2  How so? Clinton and Trump are the two most dis... 2016-06-01 00:00:12   \n",
       "3                 Is he attacking the wrong target?  2016-06-01 00:00:12   \n",
       "4  We can agree on that, although I guess we have... 2016-06-01 00:00:15   \n",
       "\n",
       "   gilded       id link_id parent_id  score  \n",
       "0       0  d3r38dt  4lxbri    4lxbri      3  \n",
       "1       0  d3r38gd  4lwef1   d3r17zv      0  \n",
       "2       0  d3r38n2  4lxbzg   d3r0tm6      4  \n",
       "3       0  d3r38n4  4lycd3    4lycd3     25  \n",
       "4       0  d3r38q3  4lw22m   d3r2rv0      2  "
      ]
     },
     "execution_count": 11,
     "metadata": {},
     "output_type": "execute_result"
    }
   ],
   "source": [
    "politics.head()"
   ]
  },
  {
   "cell_type": "code",
   "execution_count": 12,
   "metadata": {
    "scrolled": false
   },
   "outputs": [
    {
     "name": "stdout",
     "output_type": "stream",
     "text": [
      "{'District Of Colombia', 'Mainers for Fair Wages', 'Colorado', 'NORML', 'Alex Merced (L-NY)', 'Gloria La Riva, 2016 Socialist candidate for president', 'Chris Cataldo (MA)', 'Mississippi', 'David Daley, Author - \"Ratf**ked\"', 'I voted', 'Russ Feingold (D-WI)', 'Maria Teresa Kumar, CEO of Voto Latino', 'Popcorn', 'New Mexico', 'North Carolina', 'Nevada', 'California', 'Michigan', 'Hector Sigala, NWWA', 'Matt Welch, Reason Magazine Editor at Large', 'Kieran Fitzgerald, co-writer of \"Snowden\"', 'Puerto Rico', 'Northern Marianas', 'Arizona', 'Florida', 'Scott Wiener (D-CA)', 'Harri Hursti, creator of the Hursti Hack', 'Mayor Matthew Avitabile (Middleburgh, NY)', 'Arkansas', 'Jesse Ventura (I-MN)', 'American Civil Liberties Union', 'Colorado Families for a Fair Wage', 'abolition.org', 'Oregon', 'Tennessee', 'Pamela Smith, President of Verified Voting', 'Rhode Island', 'American Samoa', 'South Carolina', 'District Of Columbia', 'America', 'Guam', 'AZ Healthy Working Families', 'Zephyr Teachout (D-NY)', 'Libby Babbott-Klein, NWWA', 'Montana', 'Damien LaVera NWWA', 'Kansas', 'Steve Gladstone (I-MD)', 'No On 61', 'Nicholas Schou, author of \"Spooked\"', 'Steve Gladstone', 'Josh Hendler, NWWA', 'Wisconsin', 'Ken Bone', 'Josh Marshall, Talking Points Memo founder', 'New Jersey', 'California | the AMA guy', 'KNOW 1-491', 'Dan Rolle (D-NV)', 'Oklahoma', 'Texas', 'Washington', 'Vermont', 'Eliot Nelson, Huffington Post political reporter', 'Matt Mitchell, founder of CryptoHarlem', 'Iowa', 'Sr. Economic Analyst', 'Keep Colorado Working', 'Retain A Just Nebraska', 'Louisiana', 'Virginia', ' Beau Kilmer, Co-Director of RAND Drug Policy Research Center', 'Alexander Zaitchik, author of \"The Gilded Rage\"', 'Connecticut', 'America’s favorite democracy holiday', 'South Dakota', 'Commissioner Walter Deleon (DC)', 'Indiana', 'Minnesota', 'Ohio', 'Jim Burke (D-TX)', 'extra butter', 'Chad Marlow, Advocacy and Policy Counsel at ACLU', 'Alaska', 'Hawaii', 'Sara Tabatabaie, Digital Manager of Rock The Vote', 'Maine', 'Illinois', 'Utah', 'Idaho', 'Popcorn with extra salt.', 'Nebraska', 'Wyoming', 'Republic of Popcornia', 'Evan Siegfried, author of \"GOP GPS\"', 'Massachusetts', 'Popcorn Express', 'Maryland', 'ColoradoCare YES', 'No on 66', 'Kentucky', 'Delaware', 'Rosy Kalfus, NWWA', 'Om nom nom', 'Sen. Bob Casey (D-PA)', 'Foreign', 'New Hampshire', 'Georgia', 'West Virginia', 'Margaret Stock, AK senate candidate (I)', 'H.A. Goodman', 'Eddie Goldberg, author of \"Joint Ventured Nation\"', 'New York', 'Missouri', 'North Dakota', 'Pennsylvania', 'Alabama', 'Maine Ranked Choice Voting Campaign'}\n",
      "119\n"
     ]
    }
   ],
   "source": [
    "print(set(politics['author_flair_text'].dropna()))\n",
    "print(len(set(politics['author_flair_text'].dropna())))"
   ]
  },
  {
   "cell_type": "code",
   "execution_count": 96,
   "metadata": {
    "scrolled": true
   },
   "outputs": [
    {
     "name": "stdout",
     "output_type": "stream",
     "text": [
      "{'Florida', 'Kansas', 'Ohio', 'Minnesota', 'Colorado', 'Arkansas', 'Wisconsin', 'Alaska', 'New Jersey', 'Oregon', 'Hawaii', 'Maine', 'Oklahoma', 'Illinois', 'Mississippi', 'Idaho', 'Tennessee', 'Nebraska', 'Texas', 'Utah', 'Vermont', 'Washington', 'Wyoming', 'Massachusetts', 'Maryland', 'Kentucky', 'Delaware', 'Iowa', 'Rhode Island', 'Louisiana', 'New Mexico', 'Nevada', 'North Carolina', 'Virginia', 'New Hampshire', 'California', 'Georgia', 'Michigan', 'South Carolina', 'West Virginia', 'Connecticut', 'New York', 'Missouri', 'Montana', 'North Dakota', 'Pennsylvania', 'South Dakota', 'Alabama', 'Arizona', 'Indiana'}\n",
      "50\n"
     ]
    }
   ],
   "source": [
    "state_full = set(np.array(states['State']))\n",
    "abbreviation = set(np.array(states['Abbreviation']))\n",
    "print(state_full)\n",
    "print(len(state_full))"
   ]
  },
  {
   "cell_type": "code",
   "execution_count": 97,
   "metadata": {
    "scrolled": true
   },
   "outputs": [
    {
     "name": "stdout",
     "output_type": "stream",
     "text": [
      "['Florida', 'Ohio', 'Kansas', 'Colorado', 'Arkansas', 'Wisconsin', 'Alaska', 'Indiana', 'New Jersey', 'Oregon', 'Hawaii', 'Maine', 'Vermont', 'Texas', 'Washington', 'Illinois', 'Tennessee', 'Idaho', 'Utah', 'Oklahoma', 'Nebraska', 'Mississippi', 'Wyoming', 'Massachusetts', 'Maryland', 'Kentucky', 'Delaware', 'Iowa', 'Rhode Island', 'Louisiana', 'New Mexico', 'North Carolina', 'Nevada', 'Virginia', 'New Hampshire', 'Michigan', 'California', 'Georgia', 'South Carolina', 'West Virginia', 'Connecticut', 'New York', 'Missouri', 'Montana', 'North Dakota', 'Pennsylvania', 'South Dakota', 'Alabama', 'Arizona', 'Minnesota']\n"
     ]
    },
    {
     "data": {
      "text/plain": [
       "50"
      ]
     },
     "execution_count": 97,
     "metadata": {},
     "output_type": "execute_result"
    }
   ],
   "source": [
    "flair_politics = politics[politics['author_flair_text'].isin(state_full) | politics['author_flair_text'].isin(abbreviation)]\n",
    "state_list = list(set(flair_politics['author_flair_text']))\n",
    "print(state_list)\n",
    "len(state_list)"
   ]
  },
  {
   "cell_type": "code",
   "execution_count": 98,
   "metadata": {},
   "outputs": [
    {
     "name": "stdout",
     "output_type": "stream",
     "text": [
      "(214934, 10)\n"
     ]
    },
    {
     "data": {
      "text/html": [
       "<div>\n",
       "<style scoped>\n",
       "    .dataframe tbody tr th:only-of-type {\n",
       "        vertical-align: middle;\n",
       "    }\n",
       "\n",
       "    .dataframe tbody tr th {\n",
       "        vertical-align: top;\n",
       "    }\n",
       "\n",
       "    .dataframe thead th {\n",
       "        text-align: right;\n",
       "    }\n",
       "</style>\n",
       "<table border=\"1\" class=\"dataframe\">\n",
       "  <thead>\n",
       "    <tr style=\"text-align: right;\">\n",
       "      <th></th>\n",
       "      <th>index</th>\n",
       "      <th>author</th>\n",
       "      <th>author_flair_text</th>\n",
       "      <th>body</th>\n",
       "      <th>created_utc</th>\n",
       "      <th>gilded</th>\n",
       "      <th>id</th>\n",
       "      <th>link_id</th>\n",
       "      <th>parent_id</th>\n",
       "      <th>score</th>\n",
       "    </tr>\n",
       "  </thead>\n",
       "  <tbody>\n",
       "    <tr>\n",
       "      <th>6147305</th>\n",
       "      <td>1669459</td>\n",
       "      <td>Qu1nlan</td>\n",
       "      <td>California</td>\n",
       "      <td>Hi `juno255`. Thank you for participating in /...</td>\n",
       "      <td>2016-09-30 02:31:46</td>\n",
       "      <td>0</td>\n",
       "      <td>d87sxgv</td>\n",
       "      <td>5552n9</td>\n",
       "      <td>5552n9</td>\n",
       "      <td>1</td>\n",
       "    </tr>\n",
       "    <tr>\n",
       "      <th>6147372</th>\n",
       "      <td>1669526</td>\n",
       "      <td>Qu1nlan</td>\n",
       "      <td>California</td>\n",
       "      <td>Hi `Alejandro_Last_Name`. Thank you for partic...</td>\n",
       "      <td>2016-09-30 02:33:36</td>\n",
       "      <td>0</td>\n",
       "      <td>d87t05c</td>\n",
       "      <td>5556yb</td>\n",
       "      <td>5556yb</td>\n",
       "      <td>1</td>\n",
       "    </tr>\n",
       "    <tr>\n",
       "      <th>6147390</th>\n",
       "      <td>1669544</td>\n",
       "      <td>Qu1nlan</td>\n",
       "      <td>California</td>\n",
       "      <td>Hi `ImNotJesus`. Thank you for participating i...</td>\n",
       "      <td>2016-09-30 02:33:57</td>\n",
       "      <td>0</td>\n",
       "      <td>d87t0p2</td>\n",
       "      <td>5548v7</td>\n",
       "      <td>5548v7</td>\n",
       "      <td>1</td>\n",
       "    </tr>\n",
       "    <tr>\n",
       "      <th>6147458</th>\n",
       "      <td>1669612</td>\n",
       "      <td>Qu1nlan</td>\n",
       "      <td>California</td>\n",
       "      <td>Hi `cmonshoe`. Thank you for participating in ...</td>\n",
       "      <td>2016-09-30 02:35:17</td>\n",
       "      <td>0</td>\n",
       "      <td>d87t2mq</td>\n",
       "      <td>5541x2</td>\n",
       "      <td>5541x2</td>\n",
       "      <td>1</td>\n",
       "    </tr>\n",
       "    <tr>\n",
       "      <th>6147507</th>\n",
       "      <td>1669661</td>\n",
       "      <td>Qu1nlan</td>\n",
       "      <td>California</td>\n",
       "      <td>Hi `abourne`. Thank you for participating in /...</td>\n",
       "      <td>2016-09-30 02:36:23</td>\n",
       "      <td>0</td>\n",
       "      <td>d87t4ep</td>\n",
       "      <td>554okj</td>\n",
       "      <td>554okj</td>\n",
       "      <td>1</td>\n",
       "    </tr>\n",
       "  </tbody>\n",
       "</table>\n",
       "</div>"
      ],
      "text/plain": [
       "           index   author author_flair_text  \\\n",
       "6147305  1669459  Qu1nlan        California   \n",
       "6147372  1669526  Qu1nlan        California   \n",
       "6147390  1669544  Qu1nlan        California   \n",
       "6147458  1669612  Qu1nlan        California   \n",
       "6147507  1669661  Qu1nlan        California   \n",
       "\n",
       "                                                      body  \\\n",
       "6147305  Hi `juno255`. Thank you for participating in /...   \n",
       "6147372  Hi `Alejandro_Last_Name`. Thank you for partic...   \n",
       "6147390  Hi `ImNotJesus`. Thank you for participating i...   \n",
       "6147458  Hi `cmonshoe`. Thank you for participating in ...   \n",
       "6147507  Hi `abourne`. Thank you for participating in /...   \n",
       "\n",
       "                created_utc  gilded       id link_id parent_id  score  \n",
       "6147305 2016-09-30 02:31:46       0  d87sxgv  5552n9    5552n9      1  \n",
       "6147372 2016-09-30 02:33:36       0  d87t05c  5556yb    5556yb      1  \n",
       "6147390 2016-09-30 02:33:57       0  d87t0p2  5548v7    5548v7      1  \n",
       "6147458 2016-09-30 02:35:17       0  d87t2mq  5541x2    5541x2      1  \n",
       "6147507 2016-09-30 02:36:23       0  d87t4ep  554okj    554okj      1  "
      ]
     },
     "execution_count": 98,
     "metadata": {},
     "output_type": "execute_result"
    }
   ],
   "source": [
    "print(flair_politics.shape)\n",
    "flair_politics.head()"
   ]
  },
  {
   "cell_type": "markdown",
   "metadata": {},
   "source": [
    "## Processing data"
   ]
  },
  {
   "cell_type": "code",
   "execution_count": 16,
   "metadata": {
    "scrolled": false
   },
   "outputs": [],
   "source": [
    "def nlp_entity(body):\n",
    "    \"\"\"Creates a string with each named entity preceded by its corresponding tag and separated with a comma\"\"\"\n",
    "    entities = ''\n",
    "    for sent in nltk.sent_tokenize(body):\n",
    "        for chunk in nltk.ne_chunk(nltk.pos_tag(nltk.word_tokenize(sent))):\n",
    "            if hasattr(chunk, 'label'):\n",
    "                 entities += (chunk.label() + ' ' + ' '.join(c[0] for c in chunk) + ',' )\n",
    "    return entities[:-1]\n",
    "                \n",
    "def nlp_sentiment(body, sid=SentimentIntensityAnalyzer()):\n",
    "    \"\"\"Creates a string containing 4 numeric values corresponding to a sentiment analysis\n",
    "    oredered as such compound, neg, neu, pos separated by a comma.\"\"\"\n",
    "    ss = sid.polarity_scores(body)\n",
    "    sentiment = \"\"\n",
    "    for k in sorted(ss):\n",
    "        sentiment += '{},'.format(ss[k])\n",
    "    return sentiment[:-1]\n",
    "\n",
    "def nlp_wordcount(body, lemmatizer=nltk.WordNetLemmatizer(), stops=set(nltk.corpus.stopwords.words(\"english\"))):\n",
    "    \"\"\"Returns a dictionnary with words frequency easily plottable.\"\"\"\n",
    "    fdist = nltk.FreqDist()\n",
    "    body = body.translate(str.maketrans('','',string.punctuation))\n",
    "    tokens = nltk.word_tokenize(body)\n",
    "    filtered_words = [word for word in tokens if word not in stops and len(word) > 1]\n",
    "    for word in filtered_words:\n",
    "        fdist[lemmatizer.lemmatize(word.lower())] += 1      \n",
    "    return fdist\n",
    "\n",
    "def sentiment_to_label(sentiment):\n",
    "    ss = sentiment.split(',')\n",
    "    compound = float(ss[0])\n",
    "    if (compound > 0.2):\n",
    "        return \"Positive\"\n",
    "    elif (compound < -0.2):\n",
    "        return \"Negative\"\n",
    "    else:\n",
    "        return \"Neutral\""
   ]
  },
  {
   "cell_type": "code",
   "execution_count": 17,
   "metadata": {
    "scrolled": true
   },
   "outputs": [
    {
     "data": {
      "text/html": [
       "<div>\n",
       "<style scoped>\n",
       "    .dataframe tbody tr th:only-of-type {\n",
       "        vertical-align: middle;\n",
       "    }\n",
       "\n",
       "    .dataframe tbody tr th {\n",
       "        vertical-align: top;\n",
       "    }\n",
       "\n",
       "    .dataframe thead th {\n",
       "        text-align: right;\n",
       "    }\n",
       "</style>\n",
       "<table border=\"1\" class=\"dataframe\">\n",
       "  <thead>\n",
       "    <tr style=\"text-align: right;\">\n",
       "      <th></th>\n",
       "      <th>index</th>\n",
       "      <th>author</th>\n",
       "      <th>author_flair_text</th>\n",
       "      <th>body</th>\n",
       "      <th>created_utc</th>\n",
       "      <th>gilded</th>\n",
       "      <th>id</th>\n",
       "      <th>link_id</th>\n",
       "      <th>parent_id</th>\n",
       "      <th>score</th>\n",
       "      <th>entity</th>\n",
       "      <th>sentiment</th>\n",
       "      <th>wordcount</th>\n",
       "      <th>label</th>\n",
       "    </tr>\n",
       "  </thead>\n",
       "  <tbody>\n",
       "    <tr>\n",
       "      <th>7719401</th>\n",
       "      <td>1522325</td>\n",
       "      <td>Kantina</td>\n",
       "      <td>NaN</td>\n",
       "      <td>With nuts.</td>\n",
       "      <td>2016-10-21 12:34:32</td>\n",
       "      <td>0</td>\n",
       "      <td>d91nov3</td>\n",
       "      <td>58mrt4</td>\n",
       "      <td>d91nnw3</td>\n",
       "      <td>67</td>\n",
       "      <td></td>\n",
       "      <td>-0.3182,0.697,0.303,0.0</td>\n",
       "      <td>{'with': 1, 'nut': 1}</td>\n",
       "      <td>Negative</td>\n",
       "    </tr>\n",
       "    <tr>\n",
       "      <th>9034490</th>\n",
       "      <td>697074</td>\n",
       "      <td>razorpiggies</td>\n",
       "      <td>NaN</td>\n",
       "      <td>I mean, there's 150 million people that will s...</td>\n",
       "      <td>2016-11-09 03:16:33</td>\n",
       "      <td>0</td>\n",
       "      <td>d9s4y4g</td>\n",
       "      <td>5bxrwr</td>\n",
       "      <td>d9s4umd</td>\n",
       "      <td>5</td>\n",
       "      <td></td>\n",
       "      <td>0.0772,0.17,0.638,0.191</td>\n",
       "      <td>{'mean': 1, 'there': 1, '150': 1, 'million': 1...</td>\n",
       "      <td>Neutral</td>\n",
       "    </tr>\n",
       "    <tr>\n",
       "      <th>10380484</th>\n",
       "      <td>2043068</td>\n",
       "      <td>NeverHadTheLatin</td>\n",
       "      <td>NaN</td>\n",
       "      <td>Think about this: after some random audience m...</td>\n",
       "      <td>2016-11-22 23:33:49</td>\n",
       "      <td>0</td>\n",
       "      <td>dabpbco</td>\n",
       "      <td>5edx6c</td>\n",
       "      <td>dabotgh</td>\n",
       "      <td>5</td>\n",
       "      <td>ORGANIZATION Haamilton,GPE Washington,ORGANIZA...</td>\n",
       "      <td>0.5106,0.038,0.881,0.08</td>\n",
       "      <td>{'think': 1, 'random': 1, 'audience': 1, 'memb...</td>\n",
       "      <td>Positive</td>\n",
       "    </tr>\n",
       "    <tr>\n",
       "      <th>374983</th>\n",
       "      <td>374983</td>\n",
       "      <td>YabuSama2k</td>\n",
       "      <td>NaN</td>\n",
       "      <td>&amp;gt;  piss-poor attitude\\n\\nPiss poor?  He scr...</td>\n",
       "      <td>2016-06-08 07:06:33</td>\n",
       "      <td>0</td>\n",
       "      <td>d40lac6</td>\n",
       "      <td>4n32p9</td>\n",
       "      <td>d40kmkj</td>\n",
       "      <td>2</td>\n",
       "      <td>PERSON Piss</td>\n",
       "      <td>-0.9022,0.312,0.629,0.059</td>\n",
       "      <td>{'gt': 1, 'pisspoor': 1, 'attitude': 1, 'piss'...</td>\n",
       "      <td>Negative</td>\n",
       "    </tr>\n",
       "    <tr>\n",
       "      <th>2260398</th>\n",
       "      <td>967893</td>\n",
       "      <td>Wilsonethan44</td>\n",
       "      <td>NaN</td>\n",
       "      <td>A background check and waiting period is not i...</td>\n",
       "      <td>2016-07-22 19:29:59</td>\n",
       "      <td>0</td>\n",
       "      <td>d5mr3o4</td>\n",
       "      <td>4u2lha</td>\n",
       "      <td>d5mqz44</td>\n",
       "      <td>3</td>\n",
       "      <td></td>\n",
       "      <td>0.0,0.0,1.0,0.0</td>\n",
       "      <td>{'background': 1, 'check': 1, 'waiting': 1, 'p...</td>\n",
       "      <td>Neutral</td>\n",
       "    </tr>\n",
       "    <tr>\n",
       "      <th>591850</th>\n",
       "      <td>591850</td>\n",
       "      <td>TahMephs</td>\n",
       "      <td>NaN</td>\n",
       "      <td>No it just proves everyone but Hillary is vuln...</td>\n",
       "      <td>2016-06-12 14:20:48</td>\n",
       "      <td>0</td>\n",
       "      <td>d45zlg3</td>\n",
       "      <td>4no69w</td>\n",
       "      <td>d45jibt</td>\n",
       "      <td>1</td>\n",
       "      <td>PERSON Hillary</td>\n",
       "      <td>-0.4497,0.283,0.717,0.0</td>\n",
       "      <td>{'no': 1, 'prof': 1, 'everyone': 1, 'hillary':...</td>\n",
       "      <td>Negative</td>\n",
       "    </tr>\n",
       "    <tr>\n",
       "      <th>2714615</th>\n",
       "      <td>1422110</td>\n",
       "      <td>RC1206-Fierfek</td>\n",
       "      <td>NaN</td>\n",
       "      <td>Nope... just hate.</td>\n",
       "      <td>2016-07-27 17:16:08</td>\n",
       "      <td>0</td>\n",
       "      <td>d5t7a6x</td>\n",
       "      <td>4uvq0o</td>\n",
       "      <td>d5t78rt</td>\n",
       "      <td>2</td>\n",
       "      <td>GPE Nope</td>\n",
       "      <td>-0.5719,0.649,0.351,0.0</td>\n",
       "      <td>{'nope': 1, 'hate': 1}</td>\n",
       "      <td>Negative</td>\n",
       "    </tr>\n",
       "    <tr>\n",
       "      <th>6609680</th>\n",
       "      <td>412604</td>\n",
       "      <td>ibeforeme</td>\n",
       "      <td>NaN</td>\n",
       "      <td>Let me go back to 2009 real quick</td>\n",
       "      <td>2016-10-08 03:29:46</td>\n",
       "      <td>0</td>\n",
       "      <td>d8iteuc</td>\n",
       "      <td>56evkp</td>\n",
       "      <td>d8iqzi8</td>\n",
       "      <td>2</td>\n",
       "      <td></td>\n",
       "      <td>0.0,0.0,1.0,0.0</td>\n",
       "      <td>{'let': 1, 'go': 1, 'back': 1, '2009': 1, 'rea...</td>\n",
       "      <td>Neutral</td>\n",
       "    </tr>\n",
       "    <tr>\n",
       "      <th>4579076</th>\n",
       "      <td>101230</td>\n",
       "      <td>empanadacat</td>\n",
       "      <td>NaN</td>\n",
       "      <td>it's almost like someone decided the record ne...</td>\n",
       "      <td>2016-09-03 16:33:09</td>\n",
       "      <td>0</td>\n",
       "      <td>d7847w3</td>\n",
       "      <td>50utmo</td>\n",
       "      <td>d7761a3</td>\n",
       "      <td>3</td>\n",
       "      <td></td>\n",
       "      <td>0.2975,0.0,0.784,0.216</td>\n",
       "      <td>{'almost': 1, 'like': 1, 'someone': 1, 'decide...</td>\n",
       "      <td>Positive</td>\n",
       "    </tr>\n",
       "    <tr>\n",
       "      <th>4304230</th>\n",
       "      <td>1226072</td>\n",
       "      <td>illios</td>\n",
       "      <td>NaN</td>\n",
       "      <td>At least you get frequent naps.</td>\n",
       "      <td>2016-08-27 00:57:37</td>\n",
       "      <td>0</td>\n",
       "      <td>d6ya3rp</td>\n",
       "      <td>4zpaf7</td>\n",
       "      <td>d6y7kd5</td>\n",
       "      <td>1</td>\n",
       "      <td></td>\n",
       "      <td>0.0,0.0,1.0,0.0</td>\n",
       "      <td>{'at': 1, 'least': 1, 'get': 1, 'frequent': 1,...</td>\n",
       "      <td>Neutral</td>\n",
       "    </tr>\n",
       "  </tbody>\n",
       "</table>\n",
       "</div>"
      ],
      "text/plain": [
       "            index            author author_flair_text  \\\n",
       "7719401   1522325           Kantina               NaN   \n",
       "9034490    697074      razorpiggies               NaN   \n",
       "10380484  2043068  NeverHadTheLatin               NaN   \n",
       "374983     374983        YabuSama2k               NaN   \n",
       "2260398    967893     Wilsonethan44               NaN   \n",
       "591850     591850          TahMephs               NaN   \n",
       "2714615   1422110    RC1206-Fierfek               NaN   \n",
       "6609680    412604         ibeforeme               NaN   \n",
       "4579076    101230       empanadacat               NaN   \n",
       "4304230   1226072            illios               NaN   \n",
       "\n",
       "                                                       body  \\\n",
       "7719401                                          With nuts.   \n",
       "9034490   I mean, there's 150 million people that will s...   \n",
       "10380484  Think about this: after some random audience m...   \n",
       "374983    &gt;  piss-poor attitude\\n\\nPiss poor?  He scr...   \n",
       "2260398   A background check and waiting period is not i...   \n",
       "591850    No it just proves everyone but Hillary is vuln...   \n",
       "2714615                                  Nope... just hate.   \n",
       "6609680                   Let me go back to 2009 real quick   \n",
       "4579076   it's almost like someone decided the record ne...   \n",
       "4304230                     At least you get frequent naps.   \n",
       "\n",
       "                 created_utc  gilded       id link_id parent_id  score  \\\n",
       "7719401  2016-10-21 12:34:32       0  d91nov3  58mrt4   d91nnw3     67   \n",
       "9034490  2016-11-09 03:16:33       0  d9s4y4g  5bxrwr   d9s4umd      5   \n",
       "10380484 2016-11-22 23:33:49       0  dabpbco  5edx6c   dabotgh      5   \n",
       "374983   2016-06-08 07:06:33       0  d40lac6  4n32p9   d40kmkj      2   \n",
       "2260398  2016-07-22 19:29:59       0  d5mr3o4  4u2lha   d5mqz44      3   \n",
       "591850   2016-06-12 14:20:48       0  d45zlg3  4no69w   d45jibt      1   \n",
       "2714615  2016-07-27 17:16:08       0  d5t7a6x  4uvq0o   d5t78rt      2   \n",
       "6609680  2016-10-08 03:29:46       0  d8iteuc  56evkp   d8iqzi8      2   \n",
       "4579076  2016-09-03 16:33:09       0  d7847w3  50utmo   d7761a3      3   \n",
       "4304230  2016-08-27 00:57:37       0  d6ya3rp  4zpaf7   d6y7kd5      1   \n",
       "\n",
       "                                                     entity  \\\n",
       "7719401                                                       \n",
       "9034490                                                       \n",
       "10380484  ORGANIZATION Haamilton,GPE Washington,ORGANIZA...   \n",
       "374983                                          PERSON Piss   \n",
       "2260398                                                       \n",
       "591850                                       PERSON Hillary   \n",
       "2714615                                            GPE Nope   \n",
       "6609680                                                       \n",
       "4579076                                                       \n",
       "4304230                                                       \n",
       "\n",
       "                          sentiment  \\\n",
       "7719401     -0.3182,0.697,0.303,0.0   \n",
       "9034490     0.0772,0.17,0.638,0.191   \n",
       "10380484    0.5106,0.038,0.881,0.08   \n",
       "374983    -0.9022,0.312,0.629,0.059   \n",
       "2260398             0.0,0.0,1.0,0.0   \n",
       "591850      -0.4497,0.283,0.717,0.0   \n",
       "2714615     -0.5719,0.649,0.351,0.0   \n",
       "6609680             0.0,0.0,1.0,0.0   \n",
       "4579076      0.2975,0.0,0.784,0.216   \n",
       "4304230             0.0,0.0,1.0,0.0   \n",
       "\n",
       "                                                  wordcount     label  \n",
       "7719401                               {'with': 1, 'nut': 1}  Negative  \n",
       "9034490   {'mean': 1, 'there': 1, '150': 1, 'million': 1...   Neutral  \n",
       "10380484  {'think': 1, 'random': 1, 'audience': 1, 'memb...  Positive  \n",
       "374983    {'gt': 1, 'pisspoor': 1, 'attitude': 1, 'piss'...  Negative  \n",
       "2260398   {'background': 1, 'check': 1, 'waiting': 1, 'p...   Neutral  \n",
       "591850    {'no': 1, 'prof': 1, 'everyone': 1, 'hillary':...  Negative  \n",
       "2714615                              {'nope': 1, 'hate': 1}  Negative  \n",
       "6609680   {'let': 1, 'go': 1, 'back': 1, '2009': 1, 'rea...   Neutral  \n",
       "4579076   {'almost': 1, 'like': 1, 'someone': 1, 'decide...  Positive  \n",
       "4304230   {'at': 1, 'least': 1, 'get': 1, 'frequent': 1,...   Neutral  "
      ]
     },
     "execution_count": 17,
     "metadata": {},
     "output_type": "execute_result"
    }
   ],
   "source": [
    "sample = politics.sample(10).copy()\n",
    "\n",
    "sample['entity'] = sample['body'].apply(nlp_entity)\n",
    "sample['sentiment'] = sample['body'].apply(nlp_sentiment)\n",
    "sample['wordcount'] = sample['body'].apply(nlp_wordcount)\n",
    "sample['label'] = sample['sentiment'].apply(sentiment_to_label)\n",
    "sample"
   ]
  },
  {
   "cell_type": "code",
   "execution_count": 20,
   "metadata": {
    "scrolled": false
   },
   "outputs": [
    {
     "data": {
      "image/png": "[encoded data removed]",
      "text/plain": [
       "<Figure size 1080x360 with 1 Axes>"
      ]
     },
     "metadata": {
      "needs_background": "light"
     },
     "output_type": "display_data"
    }
   ],
   "source": [
    "plt.figure(figsize=(15,5))\n",
    "nltk.FreqDist(dict(sample.iloc[2]['wordcount'].most_common(20))).plot()\n"
   ]
  },
  {
   "cell_type": "markdown",
   "metadata": {},
   "source": [
    "### Words positive or negative\n",
    "Using flair only dataset"
   ]
  },
  {
   "cell_type": "code",
   "execution_count": 99,
   "metadata": {},
   "outputs": [
    {
     "data": {
      "text/html": [
       "<div>\n",
       "<style scoped>\n",
       "    .dataframe tbody tr th:only-of-type {\n",
       "        vertical-align: middle;\n",
       "    }\n",
       "\n",
       "    .dataframe tbody tr th {\n",
       "        vertical-align: top;\n",
       "    }\n",
       "\n",
       "    .dataframe thead th {\n",
       "        text-align: right;\n",
       "    }\n",
       "</style>\n",
       "<table border=\"1\" class=\"dataframe\">\n",
       "  <thead>\n",
       "    <tr style=\"text-align: right;\">\n",
       "      <th></th>\n",
       "      <th>index</th>\n",
       "      <th>author</th>\n",
       "      <th>author_flair_text</th>\n",
       "      <th>body</th>\n",
       "      <th>created_utc</th>\n",
       "      <th>gilded</th>\n",
       "      <th>id</th>\n",
       "      <th>link_id</th>\n",
       "      <th>parent_id</th>\n",
       "      <th>score</th>\n",
       "      <th>entity</th>\n",
       "      <th>sentiment</th>\n",
       "      <th>wordcount</th>\n",
       "      <th>label</th>\n",
       "    </tr>\n",
       "  </thead>\n",
       "  <tbody>\n",
       "    <tr>\n",
       "      <th>6474124</th>\n",
       "      <td>277048</td>\n",
       "      <td>3Suze</td>\n",
       "      <td>South Carolina</td>\n",
       "      <td>[Here is one of the ads he might sue over](htt...</td>\n",
       "      <td>2016-10-05 21:06:14</td>\n",
       "      <td>1</td>\n",
       "      <td>d8fk8jp</td>\n",
       "      <td>561k0t</td>\n",
       "      <td>d8fi07v</td>\n",
       "      <td>2180</td>\n",
       "      <td>PERSON Donnie</td>\n",
       "      <td>0.7564,0.043,0.786,0.171</td>\n",
       "      <td>{'here': 1, 'one': 1, 'ad': 1, 'might': 1, 'su...</td>\n",
       "      <td>Positive</td>\n",
       "    </tr>\n",
       "    <tr>\n",
       "      <th>7208980</th>\n",
       "      <td>1011904</td>\n",
       "      <td>deathtotheemperor</td>\n",
       "      <td>Kansas</td>\n",
       "      <td>You know, I just disagreed with Romney and McC...</td>\n",
       "      <td>2016-10-14 20:12:49</td>\n",
       "      <td>1</td>\n",
       "      <td>d8s83ze</td>\n",
       "      <td>57ibst</td>\n",
       "      <td>57ibst</td>\n",
       "      <td>1411</td>\n",
       "      <td>PERSON Romney,GPE McCain,PERSON George W Bush,...</td>\n",
       "      <td>0.5514,0.129,0.69,0.181</td>\n",
       "      <td>{'you': 1, 'know': 1, 'disagreed': 1, 'romney'...</td>\n",
       "      <td>Positive</td>\n",
       "    </tr>\n",
       "    <tr>\n",
       "      <th>7840136</th>\n",
       "      <td>1643060</td>\n",
       "      <td>Byteflux</td>\n",
       "      <td>California</td>\n",
       "      <td>Seriously. Fuck this deal.</td>\n",
       "      <td>2016-10-24 00:29:45</td>\n",
       "      <td>0</td>\n",
       "      <td>d94y41w</td>\n",
       "      <td>591def</td>\n",
       "      <td>591def</td>\n",
       "      <td>1339</td>\n",
       "      <td>GPE Fuck</td>\n",
       "      <td>-0.6369,0.722,0.278,0.0</td>\n",
       "      <td>{'seriously': 1, 'fuck': 1, 'deal': 1}</td>\n",
       "      <td>Negative</td>\n",
       "    </tr>\n",
       "    <tr>\n",
       "      <th>7203081</th>\n",
       "      <td>1006005</td>\n",
       "      <td>Lynx_Rufus</td>\n",
       "      <td>Maine</td>\n",
       "      <td>Gloria Allred is the jurisprudence version of ...</td>\n",
       "      <td>2016-10-14 18:50:00</td>\n",
       "      <td>0</td>\n",
       "      <td>d8s45kh</td>\n",
       "      <td>57hya5</td>\n",
       "      <td>57hya5</td>\n",
       "      <td>1315</td>\n",
       "      <td>GPE Gloria,ORGANIZATION Allred,PERSON Omar Lit...</td>\n",
       "      <td>-0.6597,0.144,0.856,0.0</td>\n",
       "      <td>{'gloria': 1, 'allred': 1, 'jurisprudence': 1,...</td>\n",
       "      <td>Negative</td>\n",
       "    </tr>\n",
       "    <tr>\n",
       "      <th>7606136</th>\n",
       "      <td>1409060</td>\n",
       "      <td>WistfulAether</td>\n",
       "      <td>California</td>\n",
       "      <td>Congratulations to President Hillary Clinton</td>\n",
       "      <td>2016-10-20 02:37:28</td>\n",
       "      <td>0</td>\n",
       "      <td>d8zrs1d</td>\n",
       "      <td>58eh18</td>\n",
       "      <td>58eh18</td>\n",
       "      <td>1236</td>\n",
       "      <td>PERSON Hillary Clinton</td>\n",
       "      <td>0.5994,0.0,0.506,0.494</td>\n",
       "      <td>{'congratulation': 1, 'president': 1, 'hillary...</td>\n",
       "      <td>Positive</td>\n",
       "    </tr>\n",
       "  </tbody>\n",
       "</table>\n",
       "</div>"
      ],
      "text/plain": [
       "           index             author author_flair_text  \\\n",
       "6474124   277048              3Suze    South Carolina   \n",
       "7208980  1011904  deathtotheemperor            Kansas   \n",
       "7840136  1643060           Byteflux        California   \n",
       "7203081  1006005         Lynx_Rufus             Maine   \n",
       "7606136  1409060      WistfulAether        California   \n",
       "\n",
       "                                                      body  \\\n",
       "6474124  [Here is one of the ads he might sue over](htt...   \n",
       "7208980  You know, I just disagreed with Romney and McC...   \n",
       "7840136                         Seriously. Fuck this deal.   \n",
       "7203081  Gloria Allred is the jurisprudence version of ...   \n",
       "7606136       Congratulations to President Hillary Clinton   \n",
       "\n",
       "                created_utc  gilded       id link_id parent_id  score  \\\n",
       "6474124 2016-10-05 21:06:14       1  d8fk8jp  561k0t   d8fi07v   2180   \n",
       "7208980 2016-10-14 20:12:49       1  d8s83ze  57ibst    57ibst   1411   \n",
       "7840136 2016-10-24 00:29:45       0  d94y41w  591def    591def   1339   \n",
       "7203081 2016-10-14 18:50:00       0  d8s45kh  57hya5    57hya5   1315   \n",
       "7606136 2016-10-20 02:37:28       0  d8zrs1d  58eh18    58eh18   1236   \n",
       "\n",
       "                                                    entity  \\\n",
       "6474124                                      PERSON Donnie   \n",
       "7208980  PERSON Romney,GPE McCain,PERSON George W Bush,...   \n",
       "7840136                                           GPE Fuck   \n",
       "7203081  GPE Gloria,ORGANIZATION Allred,PERSON Omar Lit...   \n",
       "7606136                             PERSON Hillary Clinton   \n",
       "\n",
       "                        sentiment  \\\n",
       "6474124  0.7564,0.043,0.786,0.171   \n",
       "7208980   0.5514,0.129,0.69,0.181   \n",
       "7840136   -0.6369,0.722,0.278,0.0   \n",
       "7203081   -0.6597,0.144,0.856,0.0   \n",
       "7606136    0.5994,0.0,0.506,0.494   \n",
       "\n",
       "                                                 wordcount     label  \n",
       "6474124  {'here': 1, 'one': 1, 'ad': 1, 'might': 1, 'su...  Positive  \n",
       "7208980  {'you': 1, 'know': 1, 'disagreed': 1, 'romney'...  Positive  \n",
       "7840136             {'seriously': 1, 'fuck': 1, 'deal': 1}  Negative  \n",
       "7203081  {'gloria': 1, 'allred': 1, 'jurisprudence': 1,...  Negative  \n",
       "7606136  {'congratulation': 1, 'president': 1, 'hillary...  Positive  "
      ]
     },
     "execution_count": 99,
     "metadata": {},
     "output_type": "execute_result"
    }
   ],
   "source": [
    "def get_word_count(df, sentiment):\n",
    "    \"\"\" Get the word count according to the sentiment. Can be 'Positive', 'Negative', 'Neutral' or 'None' \"\"\"\n",
    "    if sentiment != 'None':\n",
    "        filtered_df = df[df['label'] == sentiment]\n",
    "    else:\n",
    "        filtered_df = df.copy()\n",
    "    fdists = list(filtered_df['wordcount'])\n",
    "    tot_fd = nltk.FreqDist()\n",
    "    for fdist in fdists:\n",
    "        for key in fdist:\n",
    "            tot_fd[key] += fdist.get(key)\n",
    "            \n",
    "    return tot_fd\n",
    "\n",
    "sample_sorted_score = flair_politics.copy().sample(5000).sort_values(by=['score'], ascending=False)\n",
    "sample_sorted_score['entity'] = sample_sorted_score['body'].apply(nlp_entity)\n",
    "sample_sorted_score['sentiment'] = sample_sorted_score['body'].apply(nlp_sentiment)\n",
    "sample_sorted_score['wordcount'] = sample_sorted_score['body'].apply(nlp_wordcount)\n",
    "sample_sorted_score['label'] = sample_sorted_score['sentiment'].apply(sentiment_to_label)\n",
    "sample_sorted_score.head()"
   ]
  },
  {
   "cell_type": "markdown",
   "metadata": {},
   "source": [
    "#### Taking good scores into account"
   ]
  },
  {
   "cell_type": "code",
   "execution_count": 100,
   "metadata": {},
   "outputs": [],
   "source": [
    "good_score = sample_sorted_score[sample_sorted_score['score'] > 50].copy()"
   ]
  },
  {
   "cell_type": "code",
   "execution_count": 101,
   "metadata": {},
   "outputs": [],
   "source": [
    "word_positive_good = get_word_count(good_score, 'Positive')\n",
    "word_negative_good = get_word_count(good_score, 'Negative')\n",
    "word_count_good = get_word_count(good_score, 'None')"
   ]
  },
  {
   "cell_type": "code",
   "execution_count": 102,
   "metadata": {},
   "outputs": [
    {
     "data": {
      "text/plain": [
       "[('trump', 27),\n",
       " ('would', 20),\n",
       " ('like', 20),\n",
       " ('he', 14),\n",
       " ('republican', 13),\n",
       " ('one', 12),\n",
       " ('never', 12),\n",
       " ('if', 12),\n",
       " ('it', 11),\n",
       " ('election', 11)]"
      ]
     },
     "execution_count": 102,
     "metadata": {},
     "output_type": "execute_result"
    }
   ],
   "source": [
    "word_positive_good.most_common(10)"
   ]
  },
  {
   "cell_type": "code",
   "execution_count": 103,
   "metadata": {},
   "outputs": [
    {
     "data": {
      "text/plain": [
       "[('he', 19),\n",
       " ('people', 18),\n",
       " ('going', 15),\n",
       " ('trump', 14),\n",
       " ('fuck', 12),\n",
       " ('like', 10),\n",
       " ('the', 10),\n",
       " ('dont', 9),\n",
       " ('it', 8),\n",
       " ('right', 7)]"
      ]
     },
     "execution_count": 103,
     "metadata": {},
     "output_type": "execute_result"
    }
   ],
   "source": [
    "word_negative_good.most_common(10)"
   ]
  },
  {
   "cell_type": "code",
   "execution_count": 104,
   "metadata": {},
   "outputs": [
    {
     "data": {
      "text/plain": [
       "[('trump', 53),\n",
       " ('he', 37),\n",
       " ('like', 36),\n",
       " ('people', 35),\n",
       " ('would', 31),\n",
       " ('going', 24),\n",
       " ('it', 23),\n",
       " ('the', 23),\n",
       " ('think', 22),\n",
       " ('dont', 21)]"
      ]
     },
     "execution_count": 104,
     "metadata": {},
     "output_type": "execute_result"
    }
   ],
   "source": [
    "word_count_good.most_common(10)"
   ]
  },
  {
   "cell_type": "markdown",
   "metadata": {},
   "source": [
    "#### Bad scores"
   ]
  },
  {
   "cell_type": "code",
   "execution_count": 105,
   "metadata": {},
   "outputs": [
    {
     "data": {
      "text/html": [
       "<div>\n",
       "<style scoped>\n",
       "    .dataframe tbody tr th:only-of-type {\n",
       "        vertical-align: middle;\n",
       "    }\n",
       "\n",
       "    .dataframe tbody tr th {\n",
       "        vertical-align: top;\n",
       "    }\n",
       "\n",
       "    .dataframe thead th {\n",
       "        text-align: right;\n",
       "    }\n",
       "</style>\n",
       "<table border=\"1\" class=\"dataframe\">\n",
       "  <thead>\n",
       "    <tr style=\"text-align: right;\">\n",
       "      <th></th>\n",
       "      <th>index</th>\n",
       "      <th>author</th>\n",
       "      <th>author_flair_text</th>\n",
       "      <th>body</th>\n",
       "      <th>created_utc</th>\n",
       "      <th>gilded</th>\n",
       "      <th>id</th>\n",
       "      <th>link_id</th>\n",
       "      <th>parent_id</th>\n",
       "      <th>score</th>\n",
       "      <th>entity</th>\n",
       "      <th>sentiment</th>\n",
       "      <th>wordcount</th>\n",
       "      <th>label</th>\n",
       "    </tr>\n",
       "  </thead>\n",
       "  <tbody>\n",
       "    <tr>\n",
       "      <th>6549926</th>\n",
       "      <td>352850</td>\n",
       "      <td>Banned4SevenDays</td>\n",
       "      <td>Texas</td>\n",
       "      <td>Sounds like a German problem ehhhh?! This is A...</td>\n",
       "      <td>2016-10-07 14:10:13</td>\n",
       "      <td>0</td>\n",
       "      <td>d8hvdr6</td>\n",
       "      <td>56ak66</td>\n",
       "      <td>d8hus4z</td>\n",
       "      <td>-1</td>\n",
       "      <td>GPE Sounds,GPE German,ORGANIZATION America Jack</td>\n",
       "      <td>-0.3382,0.131,0.768,0.102</td>\n",
       "      <td>{'sound': 1, 'like': 1, 'german': 1, 'problem'...</td>\n",
       "      <td>Negative</td>\n",
       "    </tr>\n",
       "    <tr>\n",
       "      <th>7835288</th>\n",
       "      <td>1638212</td>\n",
       "      <td>duffmanhb</td>\n",
       "      <td>Nevada</td>\n",
       "      <td>Eh liberal PACs definitely were involved. Peop...</td>\n",
       "      <td>2016-10-23 22:23:59</td>\n",
       "      <td>0</td>\n",
       "      <td>d94t5q5</td>\n",
       "      <td>58yror</td>\n",
       "      <td>58yror</td>\n",
       "      <td>-1</td>\n",
       "      <td>ORGANIZATION PACs,ORGANIZATION PACs,PERSON Don...</td>\n",
       "      <td>-0.6249,0.113,0.855,0.031</td>\n",
       "      <td>{'eh': 1, 'liberal': 3, 'pac': 3, 'definitely'...</td>\n",
       "      <td>Negative</td>\n",
       "    </tr>\n",
       "    <tr>\n",
       "      <th>6527233</th>\n",
       "      <td>330157</td>\n",
       "      <td>winterd</td>\n",
       "      <td>Illinois</td>\n",
       "      <td>k</td>\n",
       "      <td>2016-10-06 22:04:09</td>\n",
       "      <td>0</td>\n",
       "      <td>d8h2le4</td>\n",
       "      <td>5669dj</td>\n",
       "      <td>d8h08u3</td>\n",
       "      <td>-1</td>\n",
       "      <td></td>\n",
       "      <td>0.0,0.0,0.0,0.0</td>\n",
       "      <td>{}</td>\n",
       "      <td>Neutral</td>\n",
       "    </tr>\n",
       "    <tr>\n",
       "      <th>6993949</th>\n",
       "      <td>796873</td>\n",
       "      <td>1gnominious</td>\n",
       "      <td>Texas</td>\n",
       "      <td>There was even a stupid meme about it after a ...</td>\n",
       "      <td>2016-10-12 01:56:18</td>\n",
       "      <td>0</td>\n",
       "      <td>d8o7yz7</td>\n",
       "      <td>571iov</td>\n",
       "      <td>d8o7p0g</td>\n",
       "      <td>-1</td>\n",
       "      <td>PERSON Hillary,PERSON Bernie</td>\n",
       "      <td>-0.2942,0.08,0.866,0.054</td>\n",
       "      <td>{'there': 1, 'even': 1, 'stupid': 1, 'meme': 1...</td>\n",
       "      <td>Negative</td>\n",
       "    </tr>\n",
       "    <tr>\n",
       "      <th>6521679</th>\n",
       "      <td>324603</td>\n",
       "      <td>SuperSulf</td>\n",
       "      <td>Florida</td>\n",
       "      <td>Democrats don't stop people from voting, just ...</td>\n",
       "      <td>2016-10-06 20:07:54</td>\n",
       "      <td>0</td>\n",
       "      <td>d8gx010</td>\n",
       "      <td>565vp5</td>\n",
       "      <td>d8gw671</td>\n",
       "      <td>-1</td>\n",
       "      <td>PERSON Sorry,GPE Americans,ORGANIZATION GOP</td>\n",
       "      <td>-0.0714,0.117,0.773,0.11</td>\n",
       "      <td>{'democrat': 1, 'dont': 2, 'stop': 1, 'people'...</td>\n",
       "      <td>Neutral</td>\n",
       "    </tr>\n",
       "  </tbody>\n",
       "</table>\n",
       "</div>"
      ],
      "text/plain": [
       "           index            author author_flair_text  \\\n",
       "6549926   352850  Banned4SevenDays             Texas   \n",
       "7835288  1638212         duffmanhb            Nevada   \n",
       "6527233   330157           winterd          Illinois   \n",
       "6993949   796873       1gnominious             Texas   \n",
       "6521679   324603         SuperSulf           Florida   \n",
       "\n",
       "                                                      body  \\\n",
       "6549926  Sounds like a German problem ehhhh?! This is A...   \n",
       "7835288  Eh liberal PACs definitely were involved. Peop...   \n",
       "6527233                                                  k   \n",
       "6993949  There was even a stupid meme about it after a ...   \n",
       "6521679  Democrats don't stop people from voting, just ...   \n",
       "\n",
       "                created_utc  gilded       id link_id parent_id  score  \\\n",
       "6549926 2016-10-07 14:10:13       0  d8hvdr6  56ak66   d8hus4z     -1   \n",
       "7835288 2016-10-23 22:23:59       0  d94t5q5  58yror    58yror     -1   \n",
       "6527233 2016-10-06 22:04:09       0  d8h2le4  5669dj   d8h08u3     -1   \n",
       "6993949 2016-10-12 01:56:18       0  d8o7yz7  571iov   d8o7p0g     -1   \n",
       "6521679 2016-10-06 20:07:54       0  d8gx010  565vp5   d8gw671     -1   \n",
       "\n",
       "                                                    entity  \\\n",
       "6549926    GPE Sounds,GPE German,ORGANIZATION America Jack   \n",
       "7835288  ORGANIZATION PACs,ORGANIZATION PACs,PERSON Don...   \n",
       "6527233                                                      \n",
       "6993949                       PERSON Hillary,PERSON Bernie   \n",
       "6521679        PERSON Sorry,GPE Americans,ORGANIZATION GOP   \n",
       "\n",
       "                         sentiment  \\\n",
       "6549926  -0.3382,0.131,0.768,0.102   \n",
       "7835288  -0.6249,0.113,0.855,0.031   \n",
       "6527233            0.0,0.0,0.0,0.0   \n",
       "6993949   -0.2942,0.08,0.866,0.054   \n",
       "6521679   -0.0714,0.117,0.773,0.11   \n",
       "\n",
       "                                                 wordcount     label  \n",
       "6549926  {'sound': 1, 'like': 1, 'german': 1, 'problem'...  Negative  \n",
       "7835288  {'eh': 1, 'liberal': 3, 'pac': 3, 'definitely'...  Negative  \n",
       "6527233                                                 {}   Neutral  \n",
       "6993949  {'there': 1, 'even': 1, 'stupid': 1, 'meme': 1...  Negative  \n",
       "6521679  {'democrat': 1, 'dont': 2, 'stop': 1, 'people'...   Neutral  "
      ]
     },
     "execution_count": 105,
     "metadata": {},
     "output_type": "execute_result"
    }
   ],
   "source": [
    "bad_score = sample_sorted_score[sample_sorted_score['score'] < 0].copy()\n",
    "\n",
    "bad_score.head()"
   ]
  },
  {
   "cell_type": "code",
   "execution_count": 106,
   "metadata": {},
   "outputs": [],
   "source": [
    "word_positive_bad = get_word_count(bad_score, 'Positive')\n",
    "word_negative_bad = get_word_count(bad_score, 'Negative')\n",
    "word_count_bad = get_word_count(bad_score, 'None')"
   ]
  },
  {
   "cell_type": "code",
   "execution_count": 107,
   "metadata": {},
   "outputs": [
    {
     "data": {
      "text/plain": [
       "[('like', 15),\n",
       " ('trump', 15),\n",
       " ('clinton', 14),\n",
       " ('get', 9),\n",
       " ('im', 9),\n",
       " ('you', 9),\n",
       " ('he', 9),\n",
       " ('well', 9),\n",
       " ('right', 8),\n",
       " ('know', 8)]"
      ]
     },
     "execution_count": 107,
     "metadata": {},
     "output_type": "execute_result"
    }
   ],
   "source": [
    "word_positive_bad.most_common(10)"
   ]
  },
  {
   "cell_type": "code",
   "execution_count": 108,
   "metadata": {},
   "outputs": [
    {
     "data": {
      "text/plain": [
       "[('people', 22),\n",
       " ('hillary', 21),\n",
       " ('trump', 17),\n",
       " ('dont', 15),\n",
       " ('like', 13),\n",
       " ('he', 13),\n",
       " ('election', 13),\n",
       " ('would', 12),\n",
       " ('im', 12),\n",
       " ('gt', 12)]"
      ]
     },
     "execution_count": 108,
     "metadata": {},
     "output_type": "execute_result"
    }
   ],
   "source": [
    "word_negative_bad.most_common(10)"
   ]
  },
  {
   "cell_type": "code",
   "execution_count": 109,
   "metadata": {},
   "outputs": [
    {
     "data": {
      "text/plain": [
       "[('trump', 43),\n",
       " ('like', 36),\n",
       " ('people', 34),\n",
       " ('hillary', 30),\n",
       " ('it', 27),\n",
       " ('clinton', 26),\n",
       " ('dont', 25),\n",
       " ('im', 24),\n",
       " ('he', 23),\n",
       " ('get', 22)]"
      ]
     },
     "execution_count": 109,
     "metadata": {},
     "output_type": "execute_result"
    }
   ],
   "source": [
    "word_count_bad.most_common(10)"
   ]
  },
  {
   "cell_type": "markdown",
   "metadata": {},
   "source": [
    "#### Compare good and bad\n",
    "Which one are in both sets?"
   ]
  },
  {
   "cell_type": "code",
   "execution_count": 110,
   "metadata": {},
   "outputs": [],
   "source": [
    "both = []\n",
    "good_only = nltk.FreqDist()\n",
    "for good in word_count_good:\n",
    "    if good in word_count_bad:\n",
    "        both.append(good)\n",
    "    else:\n",
    "        good_only[good] = word_count_good.get(good)"
   ]
  },
  {
   "cell_type": "code",
   "execution_count": 111,
   "metadata": {},
   "outputs": [
    {
     "data": {
      "text/plain": [
       "['one',\n",
       " 'ad',\n",
       " 'might',\n",
       " 'probably',\n",
       " 'would',\n",
       " 'another',\n",
       " 'edit',\n",
       " 'looking',\n",
       " 'it',\n",
       " 'mean']"
      ]
     },
     "execution_count": 111,
     "metadata": {},
     "output_type": "execute_result"
    }
   ],
   "source": [
    "both[:10]"
   ]
  },
  {
   "cell_type": "code",
   "execution_count": 112,
   "metadata": {},
   "outputs": [
    {
     "data": {
      "text/plain": [
       "[('romney', 6),\n",
       " ('paid', 6),\n",
       " ('whole', 6),\n",
       " ('week', 5),\n",
       " ('address', 5),\n",
       " ('obamacare', 5),\n",
       " ('medicare', 5),\n",
       " ('expectation', 4),\n",
       " ('hour', 4),\n",
       " ('elected', 4)]"
      ]
     },
     "execution_count": 112,
     "metadata": {},
     "output_type": "execute_result"
    }
   ],
   "source": [
    "good_only.most_common(10)"
   ]
  },
  {
   "cell_type": "code",
   "execution_count": 113,
   "metadata": {},
   "outputs": [],
   "source": [
    "bad_only = nltk.FreqDist()\n",
    "for bad in word_count_bad:\n",
    "    if bad not in word_count_good:\n",
    "        bad_only[bad] = word_count_bad.get(bad)"
   ]
  },
  {
   "cell_type": "code",
   "execution_count": 114,
   "metadata": {},
   "outputs": [
    {
     "data": {
      "text/plain": [
       "[('percent', 8),\n",
       " ('sander', 7),\n",
       " ('primary', 6),\n",
       " ('common', 6),\n",
       " ('criminal', 6),\n",
       " ('10', 6),\n",
       " ('crime', 5),\n",
       " ('russia', 5),\n",
       " ('general', 5),\n",
       " ('crash', 5)]"
      ]
     },
     "execution_count": 114,
     "metadata": {},
     "output_type": "execute_result"
    }
   ],
   "source": [
    "bad_only.most_common(10)"
   ]
  },
  {
   "cell_type": "markdown",
   "metadata": {},
   "source": [
    "## Entities"
   ]
  },
  {
   "cell_type": "code",
   "execution_count": 162,
   "metadata": {},
   "outputs": [
    {
     "name": "stderr",
     "output_type": "stream",
     "text": [
      "/Library/Frameworks/Python.framework/Versions/3.7/lib/python3.7/site-packages/ipykernel_launcher.py:1: SettingWithCopyWarning: \n",
      "A value is trying to be set on a copy of a slice from a DataFrame.\n",
      "Try using .loc[row_indexer,col_indexer] = value instead\n",
      "\n",
      "See the caveats in the documentation: http://pandas.pydata.org/pandas-docs/stable/indexing.html#indexing-view-versus-copy\n",
      "  \"\"\"Entry point for launching an IPython kernel.\n",
      "/Library/Frameworks/Python.framework/Versions/3.7/lib/python3.7/site-packages/ipykernel_launcher.py:2: SettingWithCopyWarning: \n",
      "A value is trying to be set on a copy of a slice from a DataFrame.\n",
      "Try using .loc[row_indexer,col_indexer] = value instead\n",
      "\n",
      "See the caveats in the documentation: http://pandas.pydata.org/pandas-docs/stable/indexing.html#indexing-view-versus-copy\n",
      "  \n",
      "/Library/Frameworks/Python.framework/Versions/3.7/lib/python3.7/site-packages/ipykernel_launcher.py:3: SettingWithCopyWarning: \n",
      "A value is trying to be set on a copy of a slice from a DataFrame.\n",
      "Try using .loc[row_indexer,col_indexer] = value instead\n",
      "\n",
      "See the caveats in the documentation: http://pandas.pydata.org/pandas-docs/stable/indexing.html#indexing-view-versus-copy\n",
      "  This is separate from the ipykernel package so we can avoid doing imports until\n",
      "/Library/Frameworks/Python.framework/Versions/3.7/lib/python3.7/site-packages/ipykernel_launcher.py:4: SettingWithCopyWarning: \n",
      "A value is trying to be set on a copy of a slice from a DataFrame.\n",
      "Try using .loc[row_indexer,col_indexer] = value instead\n",
      "\n",
      "See the caveats in the documentation: http://pandas.pydata.org/pandas-docs/stable/indexing.html#indexing-view-versus-copy\n",
      "  after removing the cwd from sys.path.\n"
     ]
    }
   ],
   "source": [
    "flair_politics['entity'] = flair_politics['body'].apply(nlp_entity)\n",
    "flair_politics['sentiment'] = flair_politics['body'].apply(nlp_sentiment)\n",
    "flair_politics['wordcount'] = flair_politics['body'].apply(nlp_wordcount)\n",
    "flair_politics['label'] = flair_politics['sentiment'].apply(sentiment_to_label)"
   ]
  },
  {
   "cell_type": "code",
   "execution_count": 163,
   "metadata": {},
   "outputs": [
    {
     "data": {
      "text/html": [
       "<div>\n",
       "<style scoped>\n",
       "    .dataframe tbody tr th:only-of-type {\n",
       "        vertical-align: middle;\n",
       "    }\n",
       "\n",
       "    .dataframe tbody tr th {\n",
       "        vertical-align: top;\n",
       "    }\n",
       "\n",
       "    .dataframe thead th {\n",
       "        text-align: right;\n",
       "    }\n",
       "</style>\n",
       "<table border=\"1\" class=\"dataframe\">\n",
       "  <thead>\n",
       "    <tr style=\"text-align: right;\">\n",
       "      <th></th>\n",
       "      <th>index</th>\n",
       "      <th>author</th>\n",
       "      <th>author_flair_text</th>\n",
       "      <th>body</th>\n",
       "      <th>created_utc</th>\n",
       "      <th>gilded</th>\n",
       "      <th>id</th>\n",
       "      <th>link_id</th>\n",
       "      <th>parent_id</th>\n",
       "      <th>score</th>\n",
       "      <th>entity</th>\n",
       "      <th>sentiment</th>\n",
       "      <th>wordcount</th>\n",
       "      <th>label</th>\n",
       "    </tr>\n",
       "  </thead>\n",
       "  <tbody>\n",
       "    <tr>\n",
       "      <th>6147305</th>\n",
       "      <td>1669459</td>\n",
       "      <td>Qu1nlan</td>\n",
       "      <td>California</td>\n",
       "      <td>Hi `juno255`. Thank you for participating in /...</td>\n",
       "      <td>2016-09-30 02:31:46</td>\n",
       "      <td>0</td>\n",
       "      <td>d87sxgv</td>\n",
       "      <td>5552n9</td>\n",
       "      <td>5552n9</td>\n",
       "      <td>1</td>\n",
       "      <td>PERSON Title,ORGANIZATION Reddit</td>\n",
       "      <td>0.8738,0.0,0.883,0.117</td>\n",
       "      <td>{'hi': 1, 'juno255': 1, 'thank': 1, 'participa...</td>\n",
       "      <td>Positive</td>\n",
       "    </tr>\n",
       "    <tr>\n",
       "      <th>6147372</th>\n",
       "      <td>1669526</td>\n",
       "      <td>Qu1nlan</td>\n",
       "      <td>California</td>\n",
       "      <td>Hi `Alejandro_Last_Name`. Thank you for partic...</td>\n",
       "      <td>2016-09-30 02:33:36</td>\n",
       "      <td>0</td>\n",
       "      <td>d87t05c</td>\n",
       "      <td>5556yb</td>\n",
       "      <td>5556yb</td>\n",
       "      <td>1</td>\n",
       "      <td>PERSON Title,ORGANIZATION Reddit</td>\n",
       "      <td>0.8738,0.0,0.883,0.117</td>\n",
       "      <td>{'hi': 1, 'alejandrolastname': 1, 'thank': 1, ...</td>\n",
       "      <td>Positive</td>\n",
       "    </tr>\n",
       "    <tr>\n",
       "      <th>6147390</th>\n",
       "      <td>1669544</td>\n",
       "      <td>Qu1nlan</td>\n",
       "      <td>California</td>\n",
       "      <td>Hi `ImNotJesus`. Thank you for participating i...</td>\n",
       "      <td>2016-09-30 02:33:57</td>\n",
       "      <td>0</td>\n",
       "      <td>d87t0p2</td>\n",
       "      <td>5548v7</td>\n",
       "      <td>5548v7</td>\n",
       "      <td>1</td>\n",
       "      <td>ORGANIZATION ImNotJesus,PERSON Title,ORGANIZAT...</td>\n",
       "      <td>0.8738,0.0,0.883,0.117</td>\n",
       "      <td>{'hi': 1, 'imnotjesus': 1, 'thank': 1, 'partic...</td>\n",
       "      <td>Positive</td>\n",
       "    </tr>\n",
       "    <tr>\n",
       "      <th>6147458</th>\n",
       "      <td>1669612</td>\n",
       "      <td>Qu1nlan</td>\n",
       "      <td>California</td>\n",
       "      <td>Hi `cmonshoe`. Thank you for participating in ...</td>\n",
       "      <td>2016-09-30 02:35:17</td>\n",
       "      <td>0</td>\n",
       "      <td>d87t2mq</td>\n",
       "      <td>5541x2</td>\n",
       "      <td>5541x2</td>\n",
       "      <td>1</td>\n",
       "      <td>PERSON Rehosted Content,GPE Video,ORGANIZATION...</td>\n",
       "      <td>0.9163,0.0,0.843,0.157</td>\n",
       "      <td>{'hi': 1, 'cmonshoe': 1, 'thank': 1, 'particip...</td>\n",
       "      <td>Positive</td>\n",
       "    </tr>\n",
       "    <tr>\n",
       "      <th>6147507</th>\n",
       "      <td>1669661</td>\n",
       "      <td>Qu1nlan</td>\n",
       "      <td>California</td>\n",
       "      <td>Hi `abourne`. Thank you for participating in /...</td>\n",
       "      <td>2016-09-30 02:36:23</td>\n",
       "      <td>0</td>\n",
       "      <td>d87t4ep</td>\n",
       "      <td>554okj</td>\n",
       "      <td>554okj</td>\n",
       "      <td>1</td>\n",
       "      <td>PERSON Title,ORGANIZATION Reddit</td>\n",
       "      <td>0.8738,0.0,0.883,0.117</td>\n",
       "      <td>{'hi': 1, 'abourne': 1, 'thank': 1, 'participa...</td>\n",
       "      <td>Positive</td>\n",
       "    </tr>\n",
       "  </tbody>\n",
       "</table>\n",
       "</div>"
      ],
      "text/plain": [
       "           index   author author_flair_text  \\\n",
       "6147305  1669459  Qu1nlan        California   \n",
       "6147372  1669526  Qu1nlan        California   \n",
       "6147390  1669544  Qu1nlan        California   \n",
       "6147458  1669612  Qu1nlan        California   \n",
       "6147507  1669661  Qu1nlan        California   \n",
       "\n",
       "                                                      body  \\\n",
       "6147305  Hi `juno255`. Thank you for participating in /...   \n",
       "6147372  Hi `Alejandro_Last_Name`. Thank you for partic...   \n",
       "6147390  Hi `ImNotJesus`. Thank you for participating i...   \n",
       "6147458  Hi `cmonshoe`. Thank you for participating in ...   \n",
       "6147507  Hi `abourne`. Thank you for participating in /...   \n",
       "\n",
       "                created_utc  gilded       id link_id parent_id  score  \\\n",
       "6147305 2016-09-30 02:31:46       0  d87sxgv  5552n9    5552n9      1   \n",
       "6147372 2016-09-30 02:33:36       0  d87t05c  5556yb    5556yb      1   \n",
       "6147390 2016-09-30 02:33:57       0  d87t0p2  5548v7    5548v7      1   \n",
       "6147458 2016-09-30 02:35:17       0  d87t2mq  5541x2    5541x2      1   \n",
       "6147507 2016-09-30 02:36:23       0  d87t4ep  554okj    554okj      1   \n",
       "\n",
       "                                                    entity  \\\n",
       "6147305                   PERSON Title,ORGANIZATION Reddit   \n",
       "6147372                   PERSON Title,ORGANIZATION Reddit   \n",
       "6147390  ORGANIZATION ImNotJesus,PERSON Title,ORGANIZAT...   \n",
       "6147458  PERSON Rehosted Content,GPE Video,ORGANIZATION...   \n",
       "6147507                   PERSON Title,ORGANIZATION Reddit   \n",
       "\n",
       "                      sentiment  \\\n",
       "6147305  0.8738,0.0,0.883,0.117   \n",
       "6147372  0.8738,0.0,0.883,0.117   \n",
       "6147390  0.8738,0.0,0.883,0.117   \n",
       "6147458  0.9163,0.0,0.843,0.157   \n",
       "6147507  0.8738,0.0,0.883,0.117   \n",
       "\n",
       "                                                 wordcount     label  \n",
       "6147305  {'hi': 1, 'juno255': 1, 'thank': 1, 'participa...  Positive  \n",
       "6147372  {'hi': 1, 'alejandrolastname': 1, 'thank': 1, ...  Positive  \n",
       "6147390  {'hi': 1, 'imnotjesus': 1, 'thank': 1, 'partic...  Positive  \n",
       "6147458  {'hi': 1, 'cmonshoe': 1, 'thank': 1, 'particip...  Positive  \n",
       "6147507  {'hi': 1, 'abourne': 1, 'thank': 1, 'participa...  Positive  "
      ]
     },
     "execution_count": 163,
     "metadata": {},
     "output_type": "execute_result"
    }
   ],
   "source": [
    "flair_politics.head()"
   ]
  },
  {
   "cell_type": "code",
   "execution_count": 169,
   "metadata": {},
   "outputs": [],
   "source": [
    "#remplacé ancienne methode score par celle ci pour pas faire 2 loops\n",
    "def get_score(row, candidate1, candidate2, out_states, score= False):\n",
    "    current_state = row['author_flair_text']\n",
    "    firstName1=candidate1[0]\n",
    "    lastName1=candidate1[1]\n",
    "    firstName2=candidate2[0]\n",
    "    lastName2=candidate2[1]\n",
    "    if firstName1 in row['entity'] or lastName1 in row['entity']:\n",
    "        if row['label'] == 'Positive': \n",
    "            if score : \n",
    "                out_states.loc[current_state, 'score_'+lastName1] += row['score']\n",
    "            else :\n",
    "                out_states.loc[current_state, 'score_'+lastName1] += 1\n",
    "        elif row['label'] == 'Negative':\n",
    "            if score : \n",
    "                out_states.loc[current_state, 'score_'+lastName1] -= row['score']\n",
    "            else :\n",
    "                out_states.loc[current_state, 'score_'+lastName1] -= 1\n",
    "    \n",
    "    if firstName2 in row['entity'] or lastName2 in row['entity']:\n",
    "        if row['label'] == 'Positive':          \n",
    "            if score : \n",
    "                out_states.loc[current_state, 'score_'+lastName2] += row['score']\n",
    "            else :\n",
    "                out_states.loc[current_state, 'score_'+lastName2] += 1\n",
    "        elif row['label'] == 'Negative':\n",
    "            if score : \n",
    "                out_states.loc[current_state, 'score_'+lastName2] -= row['score']\n",
    "            else :\n",
    "                out_states.loc[current_state, 'score_'+lastName2] -= 1"
   ]
  },
  {
   "cell_type": "code",
   "execution_count": 170,
   "metadata": {},
   "outputs": [],
   "source": [
    "def comp_winner(state_df):\n",
    "    final_score = []\n",
    "    for state in state_df.index :\n",
    "        if (state_df.loc[state, 'score_Clinton']>state_df.loc[state, 'score_Trump']):\n",
    "            #0 if Clinton wins\n",
    "            final_score.append(0)\n",
    "        else :\n",
    "            #1 if Trump wins\n",
    "            final_score.append(1)\n",
    "    return final_score"
   ]
  },
  {
   "cell_type": "markdown",
   "metadata": {},
   "source": [
    "## Scores do not count : "
   ]
  },
  {
   "cell_type": "code",
   "execution_count": 171,
   "metadata": {},
   "outputs": [
    {
     "data": {
      "text/html": [
       "<div>\n",
       "<style scoped>\n",
       "    .dataframe tbody tr th:only-of-type {\n",
       "        vertical-align: middle;\n",
       "    }\n",
       "\n",
       "    .dataframe tbody tr th {\n",
       "        vertical-align: top;\n",
       "    }\n",
       "\n",
       "    .dataframe thead th {\n",
       "        text-align: right;\n",
       "    }\n",
       "</style>\n",
       "<table border=\"1\" class=\"dataframe\">\n",
       "  <thead>\n",
       "    <tr style=\"text-align: right;\">\n",
       "      <th></th>\n",
       "      <th>Abbreviation</th>\n",
       "    </tr>\n",
       "    <tr>\n",
       "      <th>State</th>\n",
       "      <th></th>\n",
       "    </tr>\n",
       "  </thead>\n",
       "  <tbody>\n",
       "    <tr>\n",
       "      <th>Alabama</th>\n",
       "      <td>AL</td>\n",
       "    </tr>\n",
       "    <tr>\n",
       "      <th>Alaska</th>\n",
       "      <td>AK</td>\n",
       "    </tr>\n",
       "    <tr>\n",
       "      <th>Arizona</th>\n",
       "      <td>AZ</td>\n",
       "    </tr>\n",
       "    <tr>\n",
       "      <th>Arkansas</th>\n",
       "      <td>AR</td>\n",
       "    </tr>\n",
       "    <tr>\n",
       "      <th>California</th>\n",
       "      <td>CA</td>\n",
       "    </tr>\n",
       "  </tbody>\n",
       "</table>\n",
       "</div>"
      ],
      "text/plain": [
       "           Abbreviation\n",
       "State                  \n",
       "Alabama              AL\n",
       "Alaska               AK\n",
       "Arizona              AZ\n",
       "Arkansas             AR\n",
       "California           CA"
      ]
     },
     "execution_count": 171,
     "metadata": {},
     "output_type": "execute_result"
    }
   ],
   "source": [
    "state_df = states.copy()\n",
    "state_df.set_index('State', inplace=True)\n",
    "state_df.head()"
   ]
  },
  {
   "cell_type": "code",
   "execution_count": 172,
   "metadata": {},
   "outputs": [
    {
     "data": {
      "text/html": [
       "<div>\n",
       "<style scoped>\n",
       "    .dataframe tbody tr th:only-of-type {\n",
       "        vertical-align: middle;\n",
       "    }\n",
       "\n",
       "    .dataframe tbody tr th {\n",
       "        vertical-align: top;\n",
       "    }\n",
       "\n",
       "    .dataframe thead th {\n",
       "        text-align: right;\n",
       "    }\n",
       "</style>\n",
       "<table border=\"1\" class=\"dataframe\">\n",
       "  <thead>\n",
       "    <tr style=\"text-align: right;\">\n",
       "      <th></th>\n",
       "      <th>State</th>\n",
       "      <th>score_Trump</th>\n",
       "      <th>score_Clinton</th>\n",
       "      <th>Winner</th>\n",
       "    </tr>\n",
       "    <tr>\n",
       "      <th>Abbreviation</th>\n",
       "      <th></th>\n",
       "      <th></th>\n",
       "      <th></th>\n",
       "      <th></th>\n",
       "    </tr>\n",
       "  </thead>\n",
       "  <tbody>\n",
       "    <tr>\n",
       "      <th>AL</th>\n",
       "      <td>Alabama</td>\n",
       "      <td>9</td>\n",
       "      <td>16</td>\n",
       "      <td>0</td>\n",
       "    </tr>\n",
       "    <tr>\n",
       "      <th>AK</th>\n",
       "      <td>Alaska</td>\n",
       "      <td>-26</td>\n",
       "      <td>2</td>\n",
       "      <td>0</td>\n",
       "    </tr>\n",
       "    <tr>\n",
       "      <th>AZ</th>\n",
       "      <td>Arizona</td>\n",
       "      <td>-16</td>\n",
       "      <td>-25</td>\n",
       "      <td>1</td>\n",
       "    </tr>\n",
       "    <tr>\n",
       "      <th>AR</th>\n",
       "      <td>Arkansas</td>\n",
       "      <td>7</td>\n",
       "      <td>1</td>\n",
       "      <td>1</td>\n",
       "    </tr>\n",
       "    <tr>\n",
       "      <th>CA</th>\n",
       "      <td>California</td>\n",
       "      <td>102</td>\n",
       "      <td>189</td>\n",
       "      <td>0</td>\n",
       "    </tr>\n",
       "  </tbody>\n",
       "</table>\n",
       "</div>"
      ],
      "text/plain": [
       "                   State  score_Trump  score_Clinton  Winner\n",
       "Abbreviation                                                \n",
       "AL               Alabama            9             16       0\n",
       "AK                Alaska          -26              2       0\n",
       "AZ               Arizona          -16            -25       1\n",
       "AR              Arkansas            7              1       1\n",
       "CA            California          102            189       0"
      ]
     },
     "execution_count": 172,
     "metadata": {},
     "output_type": "execute_result"
    }
   ],
   "source": [
    "state_df['score_Trump'] = 0\n",
    "state_df['score_Clinton'] = 0\n",
    "candidate1 = ['Donald', 'Trump']\n",
    "candidate2 = ['Hillary', 'Clinton']\n",
    "\n",
    "flair_politics.apply(get_score, candidate1=candidate1, candidate2=candidate2, out_states=state_df, axis=1)\n",
    "state_df['Winner'] = comp_winner(state_df)\n",
    "state_df.reset_index(inplace = True)\n",
    "state_df.set_index('Abbreviation', inplace=True)\n",
    "\n",
    "state_df.head()"
   ]
  },
  {
   "cell_type": "code",
   "execution_count": 143,
   "metadata": {},
   "outputs": [],
   "source": [
    "def us_election_colors(state_df, state):\n",
    "    \"\"\"Maps Clinton wins to blue and Trump wins to red.\"\"\"\n",
    "    clinton_win = state_df.loc[state, 'Winner'] == 0\n",
    "    if clinton_win:\n",
    "        return '#0000ff'\n",
    "    else:\n",
    "        return '#ff0000'"
   ]
  },
  {
   "cell_type": "code",
   "execution_count": 167,
   "metadata": {},
   "outputs": [
    {
     "data": {
      "text/html": [
       "<div style=\"width:100%;\"><div style=\"position:relative;width:100%;height:0;padding-bottom:60%;\"><iframe src=\"data:text/html;charset=utf-8;base64,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\" style=\"position:absolute;width:100%;height:100%;left:0;top:0;border:none !important;\" allowfullscreen webkitallowfullscreen mozallowfullscreen></iframe></div></div>"
      ],
      "text/plain": [
       "<folium.folium.Map at 0x288a41eb8>"
      ]
     },
     "execution_count": 167,
     "metadata": {},
     "output_type": "execute_result"
    }
   ],
   "source": [
    "state_geo_path = DATA_PATH + r'us-states.json'\n",
    "geo_json_data = json.load(open(state_geo_path))\n",
    "\n",
    "results_map = folium.Map([43,-100], tiles='cartodbpositron', zoom_start=4)\n",
    "folium.GeoJson(\n",
    "    geo_json_data,\n",
    "    style_function=lambda feature: {\n",
    "        'fillColor': us_election_colors(state_df, feature['id']),\n",
    "        'color' : 'black',\n",
    "        'weight' : 2,\n",
    "        'dashArray' : '5, 5'\n",
    "        }\n",
    "    ).add_to(results_map)\n",
    "\n",
    "results_map"
   ]
  },
  {
   "cell_type": "code",
   "execution_count": 168,
   "metadata": {},
   "outputs": [],
   "source": [
    "results_map.save('US_Election_Prediction_2016.html')"
   ]
  },
  {
   "cell_type": "markdown",
   "metadata": {},
   "source": [
    "## Scores count :"
   ]
  },
  {
   "cell_type": "code",
   "execution_count": 176,
   "metadata": {},
   "outputs": [
    {
     "data": {
      "text/html": [
       "<div>\n",
       "<style scoped>\n",
       "    .dataframe tbody tr th:only-of-type {\n",
       "        vertical-align: middle;\n",
       "    }\n",
       "\n",
       "    .dataframe tbody tr th {\n",
       "        vertical-align: top;\n",
       "    }\n",
       "\n",
       "    .dataframe thead th {\n",
       "        text-align: right;\n",
       "    }\n",
       "</style>\n",
       "<table border=\"1\" class=\"dataframe\">\n",
       "  <thead>\n",
       "    <tr style=\"text-align: right;\">\n",
       "      <th></th>\n",
       "      <th>State</th>\n",
       "      <th>score_Trump</th>\n",
       "      <th>score_Clinton</th>\n",
       "      <th>Winner</th>\n",
       "    </tr>\n",
       "    <tr>\n",
       "      <th>Abbreviation</th>\n",
       "      <th></th>\n",
       "      <th></th>\n",
       "      <th></th>\n",
       "      <th></th>\n",
       "    </tr>\n",
       "  </thead>\n",
       "  <tbody>\n",
       "    <tr>\n",
       "      <th>AL</th>\n",
       "      <td>Alabama</td>\n",
       "      <td>-557</td>\n",
       "      <td>591</td>\n",
       "      <td>0</td>\n",
       "    </tr>\n",
       "    <tr>\n",
       "      <th>AK</th>\n",
       "      <td>Alaska</td>\n",
       "      <td>747</td>\n",
       "      <td>523</td>\n",
       "      <td>1</td>\n",
       "    </tr>\n",
       "    <tr>\n",
       "      <th>AZ</th>\n",
       "      <td>Arizona</td>\n",
       "      <td>-151</td>\n",
       "      <td>230</td>\n",
       "      <td>0</td>\n",
       "    </tr>\n",
       "    <tr>\n",
       "      <th>AR</th>\n",
       "      <td>Arkansas</td>\n",
       "      <td>-980</td>\n",
       "      <td>-37</td>\n",
       "      <td>0</td>\n",
       "    </tr>\n",
       "    <tr>\n",
       "      <th>CA</th>\n",
       "      <td>California</td>\n",
       "      <td>4939</td>\n",
       "      <td>4770</td>\n",
       "      <td>1</td>\n",
       "    </tr>\n",
       "  </tbody>\n",
       "</table>\n",
       "</div>"
      ],
      "text/plain": [
       "                   State  score_Trump  score_Clinton  Winner\n",
       "Abbreviation                                                \n",
       "AL               Alabama         -557            591       0\n",
       "AK                Alaska          747            523       1\n",
       "AZ               Arizona         -151            230       0\n",
       "AR              Arkansas         -980            -37       0\n",
       "CA            California         4939           4770       1"
      ]
     },
     "execution_count": 176,
     "metadata": {},
     "output_type": "execute_result"
    }
   ],
   "source": [
    "state_df2 = states.copy()\n",
    "state_df2.set_index('State', inplace=True)\n",
    "state_df2['score_Trump'] = 0\n",
    "state_df2['score_Clinton'] = 0\n",
    "\n",
    "flair_politics.apply(get_score, candidate1=candidate1, candidate2=candidate2, out_states=state_df2, score=True, axis=1)\n",
    "state_df2['Winner'] = comp_winner(state_df2)\n",
    "state_df2.reset_index(inplace = True)\n",
    "state_df2.set_index('Abbreviation', inplace=True)\n",
    "\n",
    "state_df2.head()"
   ]
  },
  {
   "cell_type": "code",
   "execution_count": 177,
   "metadata": {},
   "outputs": [
    {
     "data": {
      "text/html": [
       "<div style=\"width:100%;\"><div style=\"position:relative;width:100%;height:0;padding-bottom:60%;\"><iframe src=\"data:text/html;charset=utf-8;base64,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\" style=\"position:absolute;width:100%;height:100%;left:0;top:0;border:none !important;\" allowfullscreen webkitallowfullscreen mozallowfullscreen></iframe></div></div>"
      ],
      "text/plain": [
       "<folium.folium.Map at 0x28f2bc8d0>"
      ]
     },
     "execution_count": 177,
     "metadata": {},
     "output_type": "execute_result"
    }
   ],
   "source": [
    "results_map_score = folium.Map([43,-100], tiles='cartodbpositron', zoom_start=4)\n",
    "folium.GeoJson(\n",
    "    geo_json_data,\n",
    "    style_function=lambda feature: {\n",
    "        'fillColor': us_election_colors(state_df2, feature['id']),\n",
    "        'color' : 'black',\n",
    "        'weight' : 2,\n",
    "        'dashArray' : '5, 5'\n",
    "        }\n",
    "    ).add_to(results_map_score)\n",
    "\n",
    "results_map_score"
   ]
  },
  {
   "cell_type": "code",
   "execution_count": 178,
   "metadata": {},
   "outputs": [],
   "source": [
    "results_map_score.save('US_Election_Pred_Using_Scores_2016.html')"
   ]
  },
  {
   "cell_type": "markdown",
   "metadata": {},
   "source": [
    "## Visualizing data"
   ]
  },
  {
   "cell_type": "markdown",
   "metadata": {},
   "source": [
    "To get a feel for the dataset, a histogram with the number of comments for each day is plotted."
   ]
  },
  {
   "cell_type": "code",
   "execution_count": 37,
   "metadata": {
    "scrolled": false
   },
   "outputs": [],
   "source": [
    "# computation of the number of days the dataset spans\n",
    "days = (politics.iloc[-1].created_utc - politics.iloc[0].created_utc).days + 1"
   ]
  },
  {
   "cell_type": "code",
   "execution_count": 38,
   "metadata": {},
   "outputs": [
    {
     "data": {
      "image/png": "[encoded data removed]",
      "text/plain": [
       "<Figure size 1080x360 with 1 Axes>"
      ]
     },
     "metadata": {},
     "output_type": "display_data"
    }
   ],
   "source": [
    "plt.figure(figsize=(15,5))\n",
    "plt.grid()\n",
    "plt.hist(politics['created_utc'], bins=days)\n",
    "plt.ylabel('Number of comments')\n",
    "plt.xlabel('Time')\n",
    "plt.title('Distribution of the comments')\n",
    "plt.show()"
   ]
  },
  {
   "cell_type": "code",
   "execution_count": null,
   "metadata": {},
   "outputs": [],
   "source": []
  }
 ],
 "metadata": {
  "kernelspec": {
   "display_name": "Python 3",
   "language": "python",
   "name": "python3"
  },
  "language_info": {
   "codemirror_mode": {
    "name": "ipython",
    "version": 3
   },
   "file_extension": ".py",
   "mimetype": "text/x-python",
   "name": "python",
   "nbconvert_exporter": "python",
   "pygments_lexer": "ipython3",
   "version": "3.7.0"
  }
 },
 "nbformat": 4,
 "nbformat_minor": 2
}
