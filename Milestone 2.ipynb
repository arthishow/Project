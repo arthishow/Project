{
 "cells": [
  {
   "cell_type": "markdown",
   "metadata": {},
   "source": [
    "# MILESTONE 2\n",
    "\n",
    "In order to get a feel for what we're trying to achieve in our project, you'll find below a descriptive analysis of 3 specificaly curated subsets of the Reddit dataset.\n",
    "These datasets consist of the comments posted on the famous subreddit <a href=\"https://www.reddit.com/r/politics/\">__r/politics__</a> during the months of October 2008, 2012 and 2016. The United States presidential elections always happen at the beggining of November, which is why the datasets timeframes were picked that way. We aim to uncover possible relationships between the outcomes of the elections and influential comments or users.  \n",
    "  \n",
    "These 3 datasets were obtained using the python script *script.py* the following way (on MacOS).  \n",
    "1. Upload the files script.sh and script.py using the following command:  \n",
    "```bash \n",
    "scp -r -p /path/to/script.py GASPAR@iccluster028.iccluster.epfl.ch:/home/GASPAR/script.py  \n",
    "scp -r -p /path/to/script.sh GASPAR@iccluster028.iccluster.epfl.ch:/home/GASPAR/script.sh\n",
    "```\n",
    "2. Connect to the cluster using a second terminal and run the scripts:  \n",
    "```bash \n",
    "ssh GASPAR@iccluster028.iccluster.epfl.ch  \n",
    "sh script.sh script.py  \n",
    "```\n",
    "3. Store the output in convenient JSON files in the home folder:  \n",
    "```bash \n",
    "hadoop fs -cat /user/GASPAR/sample_2008_10.json/* > sample_2008_10.json  \n",
    "hadoop fs -cat /user/GASPAR/sample_2012_10.json/* > sample_2012_10.json  \n",
    "hadoop fs -cat /user/GASPAR/sample_2016_10.json/* > sample_2016_10.json  \n",
    "```\n",
    "4. Download the JSON files locally:  \n",
    "```bash \n",
    "scp GASPAR@iccluster028.iccluster.epfl.ch:/home/GASPAR/sample_2008_10.json /local/path/to/sample_2008_10.json  \n",
    "scp GASPAR@iccluster028.iccluster.epfl.ch:/home/GASPAR/sample_2012_10.json /local/path/to/sample_2012_10.json  \n",
    "scp GASPAR@iccluster028.iccluster.epfl.ch:/home/GASPAR/sample_2016_10.json /local/path/to/sample_2016_10.json\n",
    "```\n",
    "  \n",
    "The scripts already take care of removing unnecessary columns, and only keep useful records i.e. records whose body wasn't deleted."
   ]
  },
  {
   "cell_type": "code",
   "execution_count": 1,
   "metadata": {},
   "outputs": [],
   "source": [
    "import numpy as np\n",
    "import pandas as pd\n",
    "import matplotlib.pyplot as plt\n",
    "%matplotlib inline"
   ]
  },
  {
   "cell_type": "code",
   "execution_count": 2,
   "metadata": {},
   "outputs": [],
   "source": [
    "DATA_PATH = \"data/\""
   ]
  },
  {
   "cell_type": "markdown",
   "metadata": {},
   "source": [
    "## Getting the datas"
   ]
  },
  {
   "cell_type": "code",
   "execution_count": 3,
   "metadata": {
    "scrolled": true
   },
   "outputs": [
    {
     "data": {
      "text/html": [
       "<div>\n",
       "<style scoped>\n",
       "    .dataframe tbody tr th:only-of-type {\n",
       "        vertical-align: middle;\n",
       "    }\n",
       "\n",
       "    .dataframe tbody tr th {\n",
       "        vertical-align: top;\n",
       "    }\n",
       "\n",
       "    .dataframe thead th {\n",
       "        text-align: right;\n",
       "    }\n",
       "</style>\n",
       "<table border=\"1\" class=\"dataframe\">\n",
       "  <thead>\n",
       "    <tr style=\"text-align: right;\">\n",
       "      <th></th>\n",
       "      <th>author</th>\n",
       "      <th>body</th>\n",
       "      <th>created_utc</th>\n",
       "      <th>gilded</th>\n",
       "      <th>score</th>\n",
       "    </tr>\n",
       "  </thead>\n",
       "  <tbody>\n",
       "    <tr>\n",
       "      <th>0</th>\n",
       "      <td>Facepuncher</td>\n",
       "      <td>dun dun dunnnnnnn!</td>\n",
       "      <td>2008-10-01 00:00:02</td>\n",
       "      <td>0</td>\n",
       "      <td>3</td>\n",
       "    </tr>\n",
       "    <tr>\n",
       "      <th>1</th>\n",
       "      <td>Mr_Smartypants</td>\n",
       "      <td>Yeah, but he put his hand back up when the guy...</td>\n",
       "      <td>2008-10-01 00:00:05</td>\n",
       "      <td>0</td>\n",
       "      <td>15</td>\n",
       "    </tr>\n",
       "    <tr>\n",
       "      <th>2</th>\n",
       "      <td>kwan</td>\n",
       "      <td>There are more than two candidates.</td>\n",
       "      <td>2008-10-01 00:00:15</td>\n",
       "      <td>0</td>\n",
       "      <td>0</td>\n",
       "    </tr>\n",
       "    <tr>\n",
       "      <th>3</th>\n",
       "      <td>stone11</td>\n",
       "      <td>The 'script' being reality.</td>\n",
       "      <td>2008-10-01 00:00:32</td>\n",
       "      <td>0</td>\n",
       "      <td>3</td>\n",
       "    </tr>\n",
       "    <tr>\n",
       "      <th>4</th>\n",
       "      <td>digiphaze</td>\n",
       "      <td>I still haven't heard a good argument as to WH...</td>\n",
       "      <td>2008-10-01 00:01:16</td>\n",
       "      <td>0</td>\n",
       "      <td>5</td>\n",
       "    </tr>\n",
       "  </tbody>\n",
       "</table>\n",
       "</div>"
      ],
      "text/plain": [
       "           author                                               body  \\\n",
       "0     Facepuncher                                 dun dun dunnnnnnn!   \n",
       "1  Mr_Smartypants  Yeah, but he put his hand back up when the guy...   \n",
       "2            kwan               There are more than two candidates.    \n",
       "3         stone11                        The 'script' being reality.   \n",
       "4       digiphaze  I still haven't heard a good argument as to WH...   \n",
       "\n",
       "          created_utc  gilded  score  \n",
       "0 2008-10-01 00:00:02       0      3  \n",
       "1 2008-10-01 00:00:05       0     15  \n",
       "2 2008-10-01 00:00:15       0      0  \n",
       "3 2008-10-01 00:00:32       0      3  \n",
       "4 2008-10-01 00:01:16       0      5  "
      ]
     },
     "execution_count": 3,
     "metadata": {},
     "output_type": "execute_result"
    }
   ],
   "source": [
    "df_2008 = pd.read_json(DATA_PATH + \"sample_2008_10.json\", lines=True)\n",
    "df_2008['created_utc'] = pd.to_datetime(df_2008['created_utc'], unit='s')\n",
    "df_2008.head()"
   ]
  },
  {
   "cell_type": "code",
   "execution_count": 4,
   "metadata": {},
   "outputs": [
    {
     "data": {
      "text/html": [
       "<div>\n",
       "<style scoped>\n",
       "    .dataframe tbody tr th:only-of-type {\n",
       "        vertical-align: middle;\n",
       "    }\n",
       "\n",
       "    .dataframe tbody tr th {\n",
       "        vertical-align: top;\n",
       "    }\n",
       "\n",
       "    .dataframe thead th {\n",
       "        text-align: right;\n",
       "    }\n",
       "</style>\n",
       "<table border=\"1\" class=\"dataframe\">\n",
       "  <thead>\n",
       "    <tr style=\"text-align: right;\">\n",
       "      <th></th>\n",
       "      <th>author</th>\n",
       "      <th>body</th>\n",
       "      <th>created_utc</th>\n",
       "      <th>gilded</th>\n",
       "      <th>score</th>\n",
       "    </tr>\n",
       "  </thead>\n",
       "  <tbody>\n",
       "    <tr>\n",
       "      <th>0</th>\n",
       "      <td>Offensive_Brute</td>\n",
       "      <td>my breed will never die out. when your kind is...</td>\n",
       "      <td>2012-10-01 00:00:10</td>\n",
       "      <td>0</td>\n",
       "      <td>-5</td>\n",
       "    </tr>\n",
       "    <tr>\n",
       "      <th>1</th>\n",
       "      <td>Averyphotog</td>\n",
       "      <td>To be fair, it just might be too complicated t...</td>\n",
       "      <td>2012-10-01 00:00:11</td>\n",
       "      <td>0</td>\n",
       "      <td>2</td>\n",
       "    </tr>\n",
       "    <tr>\n",
       "      <th>2</th>\n",
       "      <td>seven_seven</td>\n",
       "      <td>Why is there evidence you can cure other menta...</td>\n",
       "      <td>2012-10-01 00:00:18</td>\n",
       "      <td>0</td>\n",
       "      <td>-4</td>\n",
       "    </tr>\n",
       "    <tr>\n",
       "      <th>3</th>\n",
       "      <td>Dinosquid</td>\n",
       "      <td>this title is awful.</td>\n",
       "      <td>2012-10-01 00:00:29</td>\n",
       "      <td>0</td>\n",
       "      <td>4</td>\n",
       "    </tr>\n",
       "    <tr>\n",
       "      <th>4</th>\n",
       "      <td>NickRausch</td>\n",
       "      <td>Unless it is the Black Panthers!</td>\n",
       "      <td>2012-10-01 00:00:34</td>\n",
       "      <td>0</td>\n",
       "      <td>-2</td>\n",
       "    </tr>\n",
       "  </tbody>\n",
       "</table>\n",
       "</div>"
      ],
      "text/plain": [
       "            author                                               body  \\\n",
       "0  Offensive_Brute  my breed will never die out. when your kind is...   \n",
       "1      Averyphotog  To be fair, it just might be too complicated t...   \n",
       "2      seven_seven  Why is there evidence you can cure other menta...   \n",
       "3        Dinosquid                               this title is awful.   \n",
       "4       NickRausch                   Unless it is the Black Panthers!   \n",
       "\n",
       "          created_utc  gilded  score  \n",
       "0 2012-10-01 00:00:10       0     -5  \n",
       "1 2012-10-01 00:00:11       0      2  \n",
       "2 2012-10-01 00:00:18       0     -4  \n",
       "3 2012-10-01 00:00:29       0      4  \n",
       "4 2012-10-01 00:00:34       0     -2  "
      ]
     },
     "execution_count": 4,
     "metadata": {},
     "output_type": "execute_result"
    }
   ],
   "source": [
    "df_2012 = pd.read_json(DATA_PATH + \"sample_2012_10.json\", lines=True)\n",
    "df_2012['created_utc'] = pd.to_datetime(df_2012['created_utc'], unit='s')\n",
    "df_2012.head()"
   ]
  },
  {
   "cell_type": "code",
   "execution_count": 5,
   "metadata": {},
   "outputs": [
    {
     "data": {
      "text/html": [
       "<div>\n",
       "<style scoped>\n",
       "    .dataframe tbody tr th:only-of-type {\n",
       "        vertical-align: middle;\n",
       "    }\n",
       "\n",
       "    .dataframe tbody tr th {\n",
       "        vertical-align: top;\n",
       "    }\n",
       "\n",
       "    .dataframe thead th {\n",
       "        text-align: right;\n",
       "    }\n",
       "</style>\n",
       "<table border=\"1\" class=\"dataframe\">\n",
       "  <thead>\n",
       "    <tr style=\"text-align: right;\">\n",
       "      <th></th>\n",
       "      <th>author</th>\n",
       "      <th>body</th>\n",
       "      <th>created_utc</th>\n",
       "      <th>gilded</th>\n",
       "      <th>score</th>\n",
       "    </tr>\n",
       "  </thead>\n",
       "  <tbody>\n",
       "    <tr>\n",
       "      <th>0</th>\n",
       "      <td>creepyeyes</td>\n",
       "      <td>&amp;gt;Dollar coins finally catch on thanks to tr...</td>\n",
       "      <td>2016-10-01 00:00:00</td>\n",
       "      <td>0</td>\n",
       "      <td>2</td>\n",
       "    </tr>\n",
       "    <tr>\n",
       "      <th>1</th>\n",
       "      <td>Ninbyo</td>\n",
       "      <td>It's a tracking poll. Which means they track t...</td>\n",
       "      <td>2016-10-01 00:00:02</td>\n",
       "      <td>0</td>\n",
       "      <td>3</td>\n",
       "    </tr>\n",
       "    <tr>\n",
       "      <th>2</th>\n",
       "      <td>ArsenyKz</td>\n",
       "      <td>So, do you think that the Civil Rights Act (or...</td>\n",
       "      <td>2016-10-01 00:00:08</td>\n",
       "      <td>0</td>\n",
       "      <td>1</td>\n",
       "    </tr>\n",
       "    <tr>\n",
       "      <th>3</th>\n",
       "      <td>BasketcaseDeplorable</td>\n",
       "      <td>I personally don't see anything wrong here. Th...</td>\n",
       "      <td>2016-10-01 00:00:10</td>\n",
       "      <td>0</td>\n",
       "      <td>5</td>\n",
       "    </tr>\n",
       "    <tr>\n",
       "      <th>4</th>\n",
       "      <td>ChanceTheDog</td>\n",
       "      <td>I admit I liked Bernie and I think Trump V Ber...</td>\n",
       "      <td>2016-10-01 00:00:12</td>\n",
       "      <td>0</td>\n",
       "      <td>1</td>\n",
       "    </tr>\n",
       "  </tbody>\n",
       "</table>\n",
       "</div>"
      ],
      "text/plain": [
       "                 author                                               body  \\\n",
       "0            creepyeyes  &gt;Dollar coins finally catch on thanks to tr...   \n",
       "1                Ninbyo  It's a tracking poll. Which means they track t...   \n",
       "2              ArsenyKz  So, do you think that the Civil Rights Act (or...   \n",
       "3  BasketcaseDeplorable  I personally don't see anything wrong here. Th...   \n",
       "4          ChanceTheDog  I admit I liked Bernie and I think Trump V Ber...   \n",
       "\n",
       "          created_utc  gilded  score  \n",
       "0 2016-10-01 00:00:00       0      2  \n",
       "1 2016-10-01 00:00:02       0      3  \n",
       "2 2016-10-01 00:00:08       0      1  \n",
       "3 2016-10-01 00:00:10       0      5  \n",
       "4 2016-10-01 00:00:12       0      1  "
      ]
     },
     "execution_count": 5,
     "metadata": {},
     "output_type": "execute_result"
    }
   ],
   "source": [
    "df_2016 = pd.read_json(DATA_PATH + \"sample_2016_10.json\", lines=True)\n",
    "df_2016['created_utc'] = pd.to_datetime(df_2016['created_utc'], unit='s')\n",
    "df_2016.head()"
   ]
  },
  {
   "cell_type": "code",
   "execution_count": 12,
   "metadata": {},
   "outputs": [
    {
     "data": {
      "text/html": [
       "<div>\n",
       "<style scoped>\n",
       "    .dataframe tbody tr th:only-of-type {\n",
       "        vertical-align: middle;\n",
       "    }\n",
       "\n",
       "    .dataframe tbody tr th {\n",
       "        vertical-align: top;\n",
       "    }\n",
       "\n",
       "    .dataframe thead th {\n",
       "        text-align: right;\n",
       "    }\n",
       "</style>\n",
       "<table border=\"1\" class=\"dataframe\">\n",
       "  <thead>\n",
       "    <tr style=\"text-align: right;\">\n",
       "      <th></th>\n",
       "      <th>gilded</th>\n",
       "      <th>score</th>\n",
       "    </tr>\n",
       "  </thead>\n",
       "  <tbody>\n",
       "    <tr>\n",
       "      <th>count</th>\n",
       "      <td>128550.0</td>\n",
       "      <td>128550.000000</td>\n",
       "    </tr>\n",
       "    <tr>\n",
       "      <th>mean</th>\n",
       "      <td>0.0</td>\n",
       "      <td>3.391918</td>\n",
       "    </tr>\n",
       "    <tr>\n",
       "      <th>std</th>\n",
       "      <td>0.0</td>\n",
       "      <td>12.596783</td>\n",
       "    </tr>\n",
       "    <tr>\n",
       "      <th>min</th>\n",
       "      <td>0.0</td>\n",
       "      <td>-93.000000</td>\n",
       "    </tr>\n",
       "    <tr>\n",
       "      <th>25%</th>\n",
       "      <td>0.0</td>\n",
       "      <td>1.000000</td>\n",
       "    </tr>\n",
       "    <tr>\n",
       "      <th>50%</th>\n",
       "      <td>0.0</td>\n",
       "      <td>1.000000</td>\n",
       "    </tr>\n",
       "    <tr>\n",
       "      <th>75%</th>\n",
       "      <td>0.0</td>\n",
       "      <td>3.000000</td>\n",
       "    </tr>\n",
       "    <tr>\n",
       "      <th>max</th>\n",
       "      <td>0.0</td>\n",
       "      <td>1225.000000</td>\n",
       "    </tr>\n",
       "  </tbody>\n",
       "</table>\n",
       "</div>"
      ],
      "text/plain": [
       "         gilded          score\n",
       "count  128550.0  128550.000000\n",
       "mean        0.0       3.391918\n",
       "std         0.0      12.596783\n",
       "min         0.0     -93.000000\n",
       "25%         0.0       1.000000\n",
       "50%         0.0       1.000000\n",
       "75%         0.0       3.000000\n",
       "max         0.0    1225.000000"
      ]
     },
     "execution_count": 12,
     "metadata": {},
     "output_type": "execute_result"
    }
   ],
   "source": [
    "df_2008.describe()"
   ]
  },
  {
   "cell_type": "markdown",
   "metadata": {},
   "source": [
    "Here is a description of the different features of the data\n",
    "1. **Author** : Pseudonym of the Reddit user who made the comment\n",
    "2. **body** : Content of the comment\n",
    "3. **created_utc** : Date of the creation of the comment in UTC (not in American time!)\n",
    "4. **glided** : Denotes if the comment received gold. Gold comments highlights it for all to see.\n",
    "5. **score** : number of votes (sum of upvotes minus the downvotes)"
   ]
  },
  {
   "cell_type": "markdown",
   "metadata": {},
   "source": [
    "## Number of comments approaching elections by day.\n",
    "Here we are interested to see if the US election influence the number of comments in the <a href=\"https://www.reddit.com/r/politics/\">subreddit<a/>."
   ]
  },
  {
   "cell_type": "markdown",
   "metadata": {},
   "source": [
    "### 2008"
   ]
  },
  {
   "cell_type": "code",
   "execution_count": 13,
   "metadata": {},
   "outputs": [],
   "source": [
    "days_2008 = df_2008.copy()\n",
    "days_2008['created_utc'] = df_2008['created_utc'].dt.day\n",
    "gr_2008 = days_2008.groupby(['created_utc'])\n",
    "buckets_2008 = gr_2008.size().reset_index(name='counts')"
   ]
  },
  {
   "cell_type": "code",
   "execution_count": 14,
   "metadata": {},
   "outputs": [
    {
     "data": {
      "image/png": "[encoded data removed]",
      "text/plain": [
       "<matplotlib.figure.Figure at 0x7f6f53798f98>"
      ]
     },
     "metadata": {},
     "output_type": "display_data"
    }
   ],
   "source": [
    "plt.figure(figsize=(10,5))\n",
    "plt.plot(buckets_2008['created_utc'],buckets_2008['counts'])\n",
    "plt.ylabel('Number of comments')\n",
    "plt.xlabel('Day')\n",
    "plt.title('Distribution of the comments')\n",
    "plt.show()"
   ]
  },
  {
   "cell_type": "markdown",
   "metadata": {},
   "source": [
    "On the 7th Octobre, there was the second debate and the third one on the 15. This can be seen by an increase number of messages the day (or the next day, since the data is UTC-time based)."
   ]
  },
  {
   "cell_type": "markdown",
   "metadata": {},
   "source": [
    "### 2012"
   ]
  },
  {
   "cell_type": "code",
   "execution_count": 15,
   "metadata": {},
   "outputs": [],
   "source": [
    "days_2012 = df_2012.copy()\n",
    "days_2012['created_utc'] = df_2012['created_utc'].dt.day\n",
    "gr_2012 = days_2012.groupby(['created_utc'])\n",
    "buckets_2012 = gr_2012.size().reset_index(name='counts')"
   ]
  },
  {
   "cell_type": "code",
   "execution_count": 16,
   "metadata": {},
   "outputs": [
    {
     "data": {
      "image/png": "[encoded data removed]",
      "text/plain": [
       "<matplotlib.figure.Figure at 0x7f6f53a5cac8>"
      ]
     },
     "metadata": {},
     "output_type": "display_data"
    }
   ],
   "source": [
    "plt.figure(figsize=(10,5))\n",
    "plt.plot(buckets_2012['created_utc'],buckets_2012['counts'])\n",
    "plt.ylabel('Number of comments')\n",
    "plt.xlabel('Day')\n",
    "plt.title('Distribution of the comments')\n",
    "plt.show()"
   ]
  },
  {
   "cell_type": "markdown",
   "metadata": {},
   "source": [
    "On this years, the debates are on the 3rd, 16th and 24th Octobre. We see an increase number of comments on these dates."
   ]
  },
  {
   "cell_type": "markdown",
   "metadata": {},
   "source": [
    "### 2016"
   ]
  },
  {
   "cell_type": "code",
   "execution_count": 17,
   "metadata": {},
   "outputs": [],
   "source": [
    "days_2016 = df_2016.copy()\n",
    "days_2016['created_utc'] = df_2016['created_utc'].dt.day\n",
    "gr_2016 = days_2016.groupby(['created_utc'])\n",
    "buckets_2016 = gr_2016.size().reset_index(name='counts')"
   ]
  },
  {
   "cell_type": "code",
   "execution_count": 18,
   "metadata": {},
   "outputs": [
    {
     "data": {
      "image/png": "[encoded data removed]",
      "text/plain": [
       "<matplotlib.figure.Figure at 0x7f6f53742390>"
      ]
     },
     "metadata": {},
     "output_type": "display_data"
    }
   ],
   "source": [
    "plt.figure(figsize=(10,5))\n",
    "plt.plot(buckets_2016['created_utc'],buckets_2016['counts'])\n",
    "plt.ylabel('Number of comments')\n",
    "plt.xlabel('Day')\n",
    "plt.title('Distribution of the comments')\n",
    "plt.show()"
   ]
  },
  {
   "cell_type": "markdown",
   "metadata": {},
   "source": [
    "We can see a lot of comments on the 10th Octobre. This date correspond to the second Hillary-Trump debate. <br/> \n",
    "On the 20th, it is the last debate between the two candidates   "
   ]
  },
  {
   "cell_type": "markdown",
   "metadata": {},
   "source": [
    "## Occurence of candidates\n",
    "#### 2008"
   ]
  },
  {
   "cell_type": "code",
   "execution_count": 19,
   "metadata": {},
   "outputs": [
    {
     "data": {
      "text/plain": [
       "13259"
      ]
     },
     "execution_count": 19,
     "metadata": {},
     "output_type": "execute_result"
    }
   ],
   "source": [
    "obama_2008 = days_2008.copy()\n",
    "obama_2008 = obama_2008.where(obama_2008['body'].str.contains('Obama'))\n",
    "obama_2008 = obama_2008.dropna()\n",
    "len(obama_2008.index)"
   ]
  },
  {
   "cell_type": "code",
   "execution_count": 20,
   "metadata": {},
   "outputs": [
    {
     "data": {
      "text/plain": [
       "12511"
      ]
     },
     "execution_count": 20,
     "metadata": {},
     "output_type": "execute_result"
    }
   ],
   "source": [
    "mccain_2008 = days_2008.copy()\n",
    "mccain_2008 = mccain_2008.where(mccain_2008['body'].str.contains('McCain'))\n",
    "mccain_2008 = mccain_2008.dropna()\n",
    "len(mccain_2008.index)"
   ]
  },
  {
   "cell_type": "code",
   "execution_count": 21,
   "metadata": {},
   "outputs": [
    {
     "data": {
      "text/plain": [
       "<matplotlib.legend.Legend at 0x7f6f536d2390>"
      ]
     },
     "execution_count": 21,
     "metadata": {},
     "output_type": "execute_result"
    },
    {
     "data": {
      "image/png": "[encoded data removed]",
      "text/plain": [
       "<matplotlib.figure.Figure at 0x7f6f536b4ba8>"
      ]
     },
     "metadata": {},
     "output_type": "display_data"
    }
   ],
   "source": [
    "perc_ob08 = len(obama_2008.index)/(len(df_2008.index))\n",
    "perc_mc = len(mccain_2008.index)/(len(df_2008.index))\n",
    "\n",
    "p1 = plt.bar([2016], perc_ob08)\n",
    "p2 = plt.bar([2016], perc_mc)\n",
    "\n",
    "\n",
    "plt.ylabel('Percentages')\n",
    "plt.title('Percentages of mention')\n",
    "plt.xticks([2016], ('2016'))\n",
    "plt.legend((p1[0], p2[0]), ('Obama', 'McCain'))\n"
   ]
  },
  {
   "cell_type": "markdown",
   "metadata": {},
   "source": [
    "Both candidates have similar mention in the reddits comments."
   ]
  },
  {
   "cell_type": "markdown",
   "metadata": {},
   "source": [
    "Here are the best comments mentionnig each candidates"
   ]
  },
  {
   "cell_type": "code",
   "execution_count": 22,
   "metadata": {},
   "outputs": [
    {
     "name": "stdout",
     "output_type": "stream",
     "text": [
      "Best comment with score : 847.0 \n",
      " It said \"What's Obama doing hangin' out with Bill Ayers?\" \n",
      "\n",
      "\n",
      "Second best with score : 623.0 \n",
      " This is all well and good, the presidential nominee was a nice guy twenty years ago.\n",
      "\n",
      "But what you should be taking away from this story is not that the guy you want to be president acts in a way that you approve.  What you should be taking away is that one day, when you're in the same situation, you help someone else out.  That's what Obama's campaign is about: not that Obama is great, but that America is great, and we have to do our best to remember that.\n"
     ]
    }
   ],
   "source": [
    "best_ob_comm_2008 = obama_2008.sort_values(by='score', ascending=False)\n",
    "print('Best comment with score :', best_ob_comm_2008[\"score\"].values[0], '\\n',best_ob_comm_2008['body'].values[0],'\\n\\n')\n",
    "print('Second best with score :', best_ob_comm_2008[\"score\"].values[1], '\\n', best_ob_comm_2008['body'].values[1])"
   ]
  },
  {
   "cell_type": "code",
   "execution_count": 23,
   "metadata": {},
   "outputs": [
    {
     "name": "stdout",
     "output_type": "stream",
     "text": [
      "Best comment with score : 593.0 \n",
      " Yeah, but for all us rapists out here, it's a breath of fresh air.\n",
      "\n",
      "Join my facebook group!  *Rapists for McCain/Palin*\n",
      "\n",
      "(How can anyone vote Republican right now?  What is wrong with people?) \n",
      "\n",
      "\n",
      "Second best with score : 584.0 \n",
      " Come on guys, let's be fair. When John McCain was studying mathematics in ancient Babylonia as he grew up, they hadn't yet discovered zero, so I can understand his confusion.\n"
     ]
    }
   ],
   "source": [
    "best_mc_comm = mccain_2008.sort_values(by='score', ascending=False)\n",
    "print('Best comment with score :', best_mc_comm[\"score\"].values[0], '\\n',best_mc_comm['body'].values[0], '\\n\\n')\n",
    "print('Second best with score :', best_mc_comm[\"score\"].values[1], '\\n', best_mc_comm['body'].values[1])"
   ]
  },
  {
   "cell_type": "markdown",
   "metadata": {},
   "source": [
    "However, the best comments regarding Obama see him in a good way, where the ones regarding McCain are negatives."
   ]
  },
  {
   "cell_type": "markdown",
   "metadata": {},
   "source": [
    "#### 2012"
   ]
  },
  {
   "cell_type": "code",
   "execution_count": 24,
   "metadata": {},
   "outputs": [
    {
     "data": {
      "text/plain": [
       "64286"
      ]
     },
     "execution_count": 24,
     "metadata": {},
     "output_type": "execute_result"
    }
   ],
   "source": [
    "obama_2012 = days_2012.copy()\n",
    "obama_2012 = obama_2012.where(obama_2012['body'].str.contains('Obama'))\n",
    "obama_2012 = obama_2012.dropna()\n",
    "len(obama_2012.index)"
   ]
  },
  {
   "cell_type": "code",
   "execution_count": 25,
   "metadata": {},
   "outputs": [
    {
     "data": {
      "text/plain": [
       "63096"
      ]
     },
     "execution_count": 25,
     "metadata": {},
     "output_type": "execute_result"
    }
   ],
   "source": [
    "romney_2012 = days_2012.copy()\n",
    "romney_2012 = romney_2012.where(romney_2012['body'].str.contains('Romney'))\n",
    "romney_2012 = romney_2012.dropna()\n",
    "len(romney_2012.index)"
   ]
  },
  {
   "cell_type": "code",
   "execution_count": 26,
   "metadata": {},
   "outputs": [
    {
     "data": {
      "text/plain": [
       "<matplotlib.legend.Legend at 0x7f6f536780b8>"
      ]
     },
     "execution_count": 26,
     "metadata": {},
     "output_type": "execute_result"
    },
    {
     "data": {
      "image/png": "[encoded data removed]",
      "text/plain": [
       "<matplotlib.figure.Figure at 0x7f6f536b4898>"
      ]
     },
     "metadata": {},
     "output_type": "display_data"
    }
   ],
   "source": [
    "perc_ob12 = len(obama_2012.index)/(len(df_2012.index))\n",
    "perc_ro = len(romney_2012.index)/(len(df_2012.index))\n",
    "\n",
    "p1 = plt.bar([2012], perc_ob12)\n",
    "p2 = plt.bar([2012], perc_ro)\n",
    "\n",
    "\n",
    "plt.ylabel('Percentages')\n",
    "plt.title('Percentages of mention')\n",
    "plt.xticks([2012], ('2012'))\n",
    "plt.legend((p1[0], p2[0]), ('Obama', 'Romney'))\n"
   ]
  },
  {
   "cell_type": "markdown",
   "metadata": {},
   "source": [
    "Again, both candidates are quite equal in mention.\n",
    "<br/>Let's see the best comments"
   ]
  },
  {
   "cell_type": "code",
   "execution_count": 27,
   "metadata": {},
   "outputs": [
    {
     "name": "stdout",
     "output_type": "stream",
     "text": [
      "Best comment with score : 2371.0 \n",
      " Mitt Romney on Obama's Foreign policy \"You can't kill your way out of this problem\"...60 seconds later...\"my policy is simple, go after the bad guys...and kill them\" \n",
      "\n",
      "\n",
      "Second best with score : 1874.0 \n",
      " Romney said he would take 8 to10 years to balance the budget if he were president, why is he harping on Obama for not doing it in 4 years? \n"
     ]
    }
   ],
   "source": [
    "best_ob_comm_2012 = obama_2012.sort_values(by='score', ascending=False)\n",
    "print('Best comment with score :', best_ob_comm_2012[\"score\"].values[0], '\\n', best_ob_comm_2012['body'].values[0], '\\n\\n')\n",
    "print('Second best with score :', best_ob_comm_2012[\"score\"].values[1], '\\n', best_ob_comm_2012['body'].values[1])"
   ]
  },
  {
   "cell_type": "code",
   "execution_count": 28,
   "metadata": {},
   "outputs": [
    {
     "name": "stdout",
     "output_type": "stream",
     "text": [
      "Best comment with score : 2371.0 \n",
      " Mitt Romney on Obama's Foreign policy \"You can't kill your way out of this problem\"...60 seconds later...\"my policy is simple, go after the bad guys...and kill them\" \n",
      "\n",
      "\n",
      "Second best with score : 2084.0 \n",
      " Mitt Romney, I generally think you are an intelligent man who is worthy of my respect. However, you have NO IDEA what you're talking about when it comes to education. You can't in one sentence say that teacher's unions are bad, that class size doesn't matter and neither does teacher pay, and then in the VERY NEXT SENTENCE brag about the fact that Massachusetts has the highest test scores in the country. Wanna know why? Because Massachusetts has the highest test scores in the country because you have the strongest teachers' unions, the lowest class size, and the highest teacher pay. Your schools are so good for the very reasons you claim don't matter/aren't important.\n"
     ]
    }
   ],
   "source": [
    "best_ro_comm = romney_2012.sort_values(by='score', ascending=False)\n",
    "print('Best comment with score :', best_ro_comm[\"score\"].values[0], '\\n', best_ro_comm['body'].values[0], '\\n\\n')\n",
    "print('Second best with score :', best_ro_comm[\"score\"].values[1], '\\n', best_ro_comm['body'].values[1])"
   ]
  },
  {
   "cell_type": "markdown",
   "metadata": {},
   "source": [
    "However, even if the best comments are mentioning Romney, none of them seems to support him."
   ]
  },
  {
   "cell_type": "markdown",
   "metadata": {},
   "source": [
    "#### 2016"
   ]
  },
  {
   "cell_type": "code",
   "execution_count": 29,
   "metadata": {},
   "outputs": [
    {
     "data": {
      "text/plain": [
       "322136"
      ]
     },
     "execution_count": 29,
     "metadata": {},
     "output_type": "execute_result"
    }
   ],
   "source": [
    "trump_2016 = days_2016.copy()\n",
    "trump_2016 = trump_2016.where(trump_2016['body'].str.contains('Trump'))\n",
    "trump_2016 = trump_2016.dropna()\n",
    "len(trump_2016.index)"
   ]
  },
  {
   "cell_type": "code",
   "execution_count": 30,
   "metadata": {},
   "outputs": [
    {
     "data": {
      "text/plain": [
       "133738"
      ]
     },
     "execution_count": 30,
     "metadata": {},
     "output_type": "execute_result"
    }
   ],
   "source": [
    "clinton_2016 = days_2016.copy()\n",
    "clinton_2016 = clinton_2016.where(clinton_2016['body'].str.contains('Clinton'))\n",
    "clinton_2016 = clinton_2016.dropna()\n",
    "len(clinton_2016.index)"
   ]
  },
  {
   "cell_type": "code",
   "execution_count": 31,
   "metadata": {},
   "outputs": [
    {
     "data": {
      "text/plain": [
       "<matplotlib.legend.Legend at 0x7f6f5369fa90>"
      ]
     },
     "execution_count": 31,
     "metadata": {},
     "output_type": "execute_result"
    },
    {
     "data": {
      "image/png": "[encoded data removed]",
      "text/plain": [
       "<matplotlib.figure.Figure at 0x7f6f536e0c18>"
      ]
     },
     "metadata": {},
     "output_type": "display_data"
    }
   ],
   "source": [
    "perc_tr = len(trump_2016.index)/(len(df_2016.index))\n",
    "perc_cl = len(clinton_2016.index)/(len(df_2016.index))\n",
    "\n",
    "p1 = plt.bar([2016], perc_tr)\n",
    "p2 = plt.bar([2016], perc_cl)\n",
    "\n",
    "\n",
    "plt.ylabel('Percentages')\n",
    "plt.title('Percentages of mention')\n",
    "plt.xticks([2016], ('2016'))\n",
    "plt.legend((p1[0], p2[0]), ('Trump', 'Clinton'))\n"
   ]
  },
  {
   "cell_type": "code",
   "execution_count": 32,
   "metadata": {},
   "outputs": [
    {
     "name": "stdout",
     "output_type": "stream",
     "text": [
      "Best comment with score : 4948.0 \n",
      " The full statement from Warren Buffett:\n",
      "\n",
      "&gt; Answering a question last night about his $916 million income tax loss carryforward in 1995, Donald Trump stated that \"Warren Buffett took a massive deduction.\" Mr. Trump says he knows more about taxes than any other human. He has not seen my income tax returns. But I am happy to give him the facts.\n",
      "\n",
      "&gt; My 2015 return shows adjusted gross income of $11,563,931. My deductions totaled $5,477,694, of which *allowable* charitable contributions were $3,469,179. All but $36,037 of the remainder was for state income taxes.\n",
      "\n",
      "&gt; The total charitable contributions I made during the year were $2,858,057,970 of which more than $2.85 billion were not taken as deductions and never will be. Tax law properly limits charitable deductions.\n",
      "\n",
      "&gt; My federal income tax for the year was $1,845,557. Returns for previous years are of a similar nature in respect to contributions, deductions and tax rates.\n",
      "\n",
      "&gt; I have paid federal income tax every year since 1944, when I was 13. (Though, being a slow starter, I owed only $7 in tax that year.) I have copies of all 72 of my returns and none uses a carryforward.\n",
      "\n",
      "&gt; Finally, I have been audited by the IRS multiple times and am currently being audited. I have no problem in releasing my tax information while under audit. Neither would Mr. Trump - at least he would have no *legal* problem. \n",
      "\n",
      "\n",
      "Second best with score : 4830.0 \n",
      "  [George H.W. Bush wrote this note to Bill Clinton 20 years ago when he lost the election.](https://pbs.twimg.com/media/CvJA_nFWEAESx1C.jpg) Perfectly shows the difference between a good, respectable man and a deplorable sack of shit like Trump. \n"
     ]
    }
   ],
   "source": [
    "best_tr_comm = trump_2016.sort_values(by='score', ascending=False)\n",
    "print('Best comment with score :', best_tr_comm[\"score\"].values[0], '\\n',best_tr_comm['body'].values[0], '\\n\\n')\n",
    "print('Second best with score :', best_tr_comm[\"score\"].values[1], '\\n', best_tr_comm['body'].values[1])"
   ]
  },
  {
   "cell_type": "code",
   "execution_count": 3,
   "metadata": {},
   "outputs": [
    {
     "ename": "NameError",
     "evalue": "name 'clinton_2016' is not defined",
     "output_type": "error",
     "traceback": [
      "\u001b[0;31m---------------------------------------------------------------------------\u001b[0m",
      "\u001b[0;31mNameError\u001b[0m                                 Traceback (most recent call last)",
      "\u001b[0;32m<ipython-input-3-540cb90bb253>\u001b[0m in \u001b[0;36m<module>\u001b[0;34m()\u001b[0m\n\u001b[0;32m----> 1\u001b[0;31m \u001b[0mbest_cl_comm\u001b[0m \u001b[0;34m=\u001b[0m \u001b[0mclinton_2016\u001b[0m\u001b[0;34m.\u001b[0m\u001b[0msort_values\u001b[0m\u001b[0;34m(\u001b[0m\u001b[0mby\u001b[0m\u001b[0;34m=\u001b[0m\u001b[0;34m'score'\u001b[0m\u001b[0;34m,\u001b[0m \u001b[0mascending\u001b[0m\u001b[0;34m=\u001b[0m\u001b[0;32mFalse\u001b[0m\u001b[0;34m)\u001b[0m\u001b[0;34m\u001b[0m\u001b[0m\n\u001b[0m\u001b[1;32m      2\u001b[0m \u001b[0mprint\u001b[0m\u001b[0;34m(\u001b[0m\u001b[0;34m'Best comment : \\n'\u001b[0m\u001b[0;34m,\u001b[0m\u001b[0mbest_cl_comm\u001b[0m\u001b[0;34m[\u001b[0m\u001b[0;34m'body'\u001b[0m\u001b[0;34m]\u001b[0m\u001b[0;34m.\u001b[0m\u001b[0mvalues\u001b[0m\u001b[0;34m[\u001b[0m\u001b[0;36m0\u001b[0m\u001b[0;34m]\u001b[0m\u001b[0;34m,\u001b[0m \u001b[0;34m'\\n\\n'\u001b[0m\u001b[0;34m)\u001b[0m\u001b[0;34m\u001b[0m\u001b[0m\n\u001b[1;32m      3\u001b[0m \u001b[0mprint\u001b[0m\u001b[0;34m(\u001b[0m\u001b[0;34m'Second best : \\n'\u001b[0m\u001b[0;34m,\u001b[0m \u001b[0mbest_cl_comm\u001b[0m\u001b[0;34m[\u001b[0m\u001b[0;34m'body'\u001b[0m\u001b[0;34m]\u001b[0m\u001b[0;34m.\u001b[0m\u001b[0mvalues\u001b[0m\u001b[0;34m[\u001b[0m\u001b[0;36m1\u001b[0m\u001b[0;34m]\u001b[0m\u001b[0;34m)\u001b[0m\u001b[0;34m\u001b[0m\u001b[0m\n",
      "\u001b[0;31mNameError\u001b[0m: name 'clinton_2016' is not defined"
     ]
    }
   ],
   "source": [
    "best_cl_comm = clinton_2016.sort_values(by='score', ascending=False)\n",
    "print('Best comment : \\n',best_cl_comm['body'].values[0], '\\n\\n')\n",
    "print('Second best : \\n', best_cl_comm['body'].values[1])"
   ]
  },
  {
   "cell_type": "markdown",
   "metadata": {},
   "source": [
    "<img src=https://pbs.twimg.com/media/CvJA_nFWEAESx1C.jpg>"
   ]
  },
  {
   "cell_type": "markdown",
   "metadata": {},
   "source": [
    "For this one, it's harder to say something with only these few comments, but it seems people dislikes Trump."
   ]
  },
  {
   "cell_type": "code",
   "execution_count": 2,
   "metadata": {},
   "outputs": [],
   "source": [
    "import spacy"
   ]
  },
  {
   "cell_type": "code",
   "execution_count": null,
   "metadata": {},
   "outputs": [],
   "source": []
  }
 ],
 "metadata": {
  "kernelspec": {
   "display_name": "Python [conda env:ada]",
   "language": "python",
   "name": "conda-env-ada-py"
  },
  "language_info": {
   "codemirror_mode": {
    "name": "ipython",
    "version": 3
   },
   "file_extension": ".py",
   "mimetype": "text/x-python",
   "name": "python",
   "nbconvert_exporter": "python",
   "pygments_lexer": "ipython3",
   "version": "3.6.6"
  }
 },
 "nbformat": 4,
 "nbformat_minor": 2
}
