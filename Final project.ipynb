{
 "cells": [
  {
   "cell_type": "markdown",
   "metadata": {},
   "source": [
    "# ADA - Final project\n",
    "This notebook aims at giving technical explanations necessary to understand how the results given in the final report were found.\n",
    "\n",
    "First off, the following commands allow you to retrieve the data necessary to run this notebook locally from the cluster used for this class.\n",
    "1. Upload the files script.sh and script.py using the following command:  \n",
    "```bash \n",
    "scp -r -p /path/to/script.py GASPAR@iccluster028.iccluster.epfl.ch:/home/GASPAR/script.py  \n",
    "scp -r -p /path/to/script.sh GASPAR@iccluster028.iccluster.epfl.ch:/home/GASPAR/script.sh\n",
    "```\n",
    "2. Connect to the cluster using a second terminal and run the scripts:  \n",
    "```bash \n",
    "ssh GASPAR@iccluster028.iccluster.epfl.ch  \n",
    "sh script.sh script.py  \n",
    "```\n",
    "3. Store the output in the home folder:  \n",
    "```bash \n",
    "hadoop fs -get /user/GASPAR/politics_2016_* file:///home/GASPAR\n",
    "```\n",
    "4. Download the data locally using the first terminal:  \n",
    "```bash \n",
    "scp -r GASPAR@iccluster028.iccluster.epfl.ch:/home/GASPAR/politics_2016_* /local/path/to/folder\n",
    "```\n",
    "\n",
    "The retrieved dataset consists of several different features listed below:\n",
    "* **author**: The username of the author of the comment.\n",
    "* **author_flair_text**: Users can pick so-called *flairs* which are basically tags intended to briefly summarize the user.  They're different for each subreddit, and users can only pick one per subreddit.\n",
    "* **body**: The content of the comment.\n",
    "* **created_utc**: The date at which the comment was originally posted.\n",
    "* **gilded**: Denotes if the comment received a gold. A gold is a form of gratification users can give one another. They're not common because gilding someone costs money.\n",
    "* **id**: A unique ID that defines the comment.\n",
    "* **link_id**: A unique ID that determines the post in which the comment was posted to.\n",
    "* **parent_id**: A unique ID that determines to what the comment is responding to. If it starts with *t1*, the comment is a response to another comment. If it starts with *t3*, the comment is responding directly to the original post.\n",
    "* **score**: The number of upvotes minus the number of downvotes the comment received.\n"
   ]
  },
  {
   "cell_type": "markdown",
   "metadata": {},
   "source": [
    "## Imports"
   ]
  },
  {
   "cell_type": "code",
   "execution_count": 62,
   "metadata": {},
   "outputs": [],
   "source": [
    "import nltk\n",
    "import numpy as np\n",
    "import pandas as pd\n",
    "import matplotlib.pyplot as plt\n",
    "from nltk.sentiment.vader import SentimentIntensityAnalyzer\n",
    "\n",
    "%matplotlib inline"
   ]
  },
  {
   "cell_type": "markdown",
   "metadata": {},
   "source": [
    "## Loading data"
   ]
  },
  {
   "cell_type": "code",
   "execution_count": 3,
   "metadata": {},
   "outputs": [],
   "source": [
    "DATA_PATH = 'data/'"
   ]
  },
  {
   "cell_type": "code",
   "execution_count": 4,
   "metadata": {},
   "outputs": [],
   "source": [
    "city_states = colors = pd.read_csv(DATA_PATH + 'us_cities_states_counties.csv', delimiter = '|')"
   ]
  },
  {
   "cell_type": "code",
   "execution_count": 5,
   "metadata": {},
   "outputs": [],
   "source": [
    "politics_06 = pd.read_parquet(DATA_PATH + 'politics_2016_06/')\n",
    "politics_07 = pd.read_parquet(DATA_PATH + 'politics_2016_07/')\n",
    "politics_08 = pd.read_parquet(DATA_PATH + 'politics_2016_08/')\n",
    "politics_09 = pd.read_parquet(DATA_PATH + 'politics_2016_09/')\n",
    "politics_10 = pd.read_parquet(DATA_PATH + 'politics_2016_10/')\n",
    "politics_11 = pd.read_parquet(DATA_PATH + 'politics_2016_11/')"
   ]
  },
  {
   "cell_type": "markdown",
   "metadata": {},
   "source": [
    "## Cleaning data\n",
    "\n",
    "Features are converted into appropriate format.  \n",
    "Redundant data are removed as well.  \n",
    "  \n",
    "It is possible to retrieve if the comment was responding to a post or to another comment by matching *link_id* and *parent_id*."
   ]
  },
  {
   "cell_type": "code",
   "execution_count": 6,
   "metadata": {},
   "outputs": [],
   "source": [
    "# created_utc is converted to the datetime format\n",
    "politics_06['created_utc'] = pd.to_datetime(politics_06['created_utc'], unit='s')\n",
    "politics_07['created_utc'] = pd.to_datetime(politics_07['created_utc'], unit='s')\n",
    "politics_08['created_utc'] = pd.to_datetime(politics_08['created_utc'], unit='s')\n",
    "politics_09['created_utc'] = pd.to_datetime(politics_09['created_utc'], unit='s')\n",
    "politics_10['created_utc'] = pd.to_datetime(politics_10['created_utc'], unit='s')\n",
    "politics_11['created_utc'] = pd.to_datetime(politics_11['created_utc'], unit='s')\n",
    "\n",
    "# author_flair_text is converted to a category\n",
    "politics_06['author_flair_text'] = politics_06['author_flair_text'].astype('category')\n",
    "politics_07['author_flair_text'] = politics_07['author_flair_text'].astype('category')\n",
    "politics_08['author_flair_text'] = politics_08['author_flair_text'].astype('category')\n",
    "politics_09['author_flair_text'] = politics_09['author_flair_text'].astype('category')\n",
    "politics_10['author_flair_text'] = politics_10['author_flair_text'].astype('category')\n",
    "politics_11['author_flair_text'] = politics_11['author_flair_text'].astype('category')\n",
    "\n",
    "# remove unnecessary information in link_id and parent_id\n",
    "politics_06['link_id'] = politics_06['link_id'].str.slice(3)\n",
    "politics_07['link_id'] = politics_07['link_id'].str.slice(3)\n",
    "politics_08['link_id'] = politics_08['link_id'].str.slice(3)\n",
    "politics_09['link_id'] = politics_09['link_id'].str.slice(3)\n",
    "politics_10['link_id'] = politics_10['link_id'].str.slice(3)\n",
    "politics_11['link_id'] = politics_11['link_id'].str.slice(3)\n",
    "politics_06['parent_id'] = politics_06['parent_id'].str.slice(3)\n",
    "politics_07['parent_id'] = politics_07['parent_id'].str.slice(3)\n",
    "politics_08['parent_id'] = politics_08['parent_id'].str.slice(3)\n",
    "politics_09['parent_id'] = politics_09['parent_id'].str.slice(3)\n",
    "politics_10['parent_id'] = politics_10['parent_id'].str.slice(3)\n",
    "politics_11['parent_id'] = politics_11['parent_id'].str.slice(3)\n"
   ]
  },
  {
   "cell_type": "code",
   "execution_count": 7,
   "metadata": {},
   "outputs": [
    {
     "data": {
      "text/html": [
       "<div>\n",
       "<style scoped>\n",
       "    .dataframe tbody tr th:only-of-type {\n",
       "        vertical-align: middle;\n",
       "    }\n",
       "\n",
       "    .dataframe tbody tr th {\n",
       "        vertical-align: top;\n",
       "    }\n",
       "\n",
       "    .dataframe thead th {\n",
       "        text-align: right;\n",
       "    }\n",
       "</style>\n",
       "<table border=\"1\" class=\"dataframe\">\n",
       "  <thead>\n",
       "    <tr style=\"text-align: right;\">\n",
       "      <th></th>\n",
       "      <th>author</th>\n",
       "      <th>author_flair_text</th>\n",
       "      <th>body</th>\n",
       "      <th>created_utc</th>\n",
       "      <th>gilded</th>\n",
       "      <th>id</th>\n",
       "      <th>link_id</th>\n",
       "      <th>parent_id</th>\n",
       "      <th>score</th>\n",
       "    </tr>\n",
       "  </thead>\n",
       "  <tbody>\n",
       "    <tr>\n",
       "      <th>0</th>\n",
       "      <td>wheresthecheese</td>\n",
       "      <td>NaN</td>\n",
       "      <td>I'm very glad I read that. The first well thou...</td>\n",
       "      <td>2016-06-01 00:00:00</td>\n",
       "      <td>0</td>\n",
       "      <td>d3r38dt</td>\n",
       "      <td>4lxbri</td>\n",
       "      <td>4lxbri</td>\n",
       "      <td>3</td>\n",
       "    </tr>\n",
       "    <tr>\n",
       "      <th>1</th>\n",
       "      <td>ifCreepyImJoking</td>\n",
       "      <td>NaN</td>\n",
       "      <td>Eh, once you start adding qualifiers instead o...</td>\n",
       "      <td>2016-06-01 00:00:03</td>\n",
       "      <td>0</td>\n",
       "      <td>d3r38gd</td>\n",
       "      <td>4lwef1</td>\n",
       "      <td>d3r17zv</td>\n",
       "      <td>0</td>\n",
       "    </tr>\n",
       "    <tr>\n",
       "      <th>2</th>\n",
       "      <td>Sam_Munhi</td>\n",
       "      <td>NaN</td>\n",
       "      <td>How so? Clinton and Trump are the two most dis...</td>\n",
       "      <td>2016-06-01 00:00:12</td>\n",
       "      <td>0</td>\n",
       "      <td>d3r38n2</td>\n",
       "      <td>4lxbzg</td>\n",
       "      <td>d3r0tm6</td>\n",
       "      <td>4</td>\n",
       "    </tr>\n",
       "    <tr>\n",
       "      <th>3</th>\n",
       "      <td>VowOfKsitigarbha</td>\n",
       "      <td>NaN</td>\n",
       "      <td>Is he attacking the wrong target?</td>\n",
       "      <td>2016-06-01 00:00:12</td>\n",
       "      <td>0</td>\n",
       "      <td>d3r38n4</td>\n",
       "      <td>4lycd3</td>\n",
       "      <td>4lycd3</td>\n",
       "      <td>25</td>\n",
       "    </tr>\n",
       "    <tr>\n",
       "      <th>4</th>\n",
       "      <td>iAMADisposableAcc</td>\n",
       "      <td>NaN</td>\n",
       "      <td>We can agree on that, although I guess we have...</td>\n",
       "      <td>2016-06-01 00:00:15</td>\n",
       "      <td>0</td>\n",
       "      <td>d3r38q3</td>\n",
       "      <td>4lw22m</td>\n",
       "      <td>d3r2rv0</td>\n",
       "      <td>2</td>\n",
       "    </tr>\n",
       "  </tbody>\n",
       "</table>\n",
       "</div>"
      ],
      "text/plain": [
       "              author author_flair_text  \\\n",
       "0    wheresthecheese               NaN   \n",
       "1   ifCreepyImJoking               NaN   \n",
       "2          Sam_Munhi               NaN   \n",
       "3   VowOfKsitigarbha               NaN   \n",
       "4  iAMADisposableAcc               NaN   \n",
       "\n",
       "                                                body         created_utc  \\\n",
       "0  I'm very glad I read that. The first well thou... 2016-06-01 00:00:00   \n",
       "1  Eh, once you start adding qualifiers instead o... 2016-06-01 00:00:03   \n",
       "2  How so? Clinton and Trump are the two most dis... 2016-06-01 00:00:12   \n",
       "3                 Is he attacking the wrong target?  2016-06-01 00:00:12   \n",
       "4  We can agree on that, although I guess we have... 2016-06-01 00:00:15   \n",
       "\n",
       "   gilded       id link_id parent_id  score  \n",
       "0       0  d3r38dt  4lxbri    4lxbri      3  \n",
       "1       0  d3r38gd  4lwef1   d3r17zv      0  \n",
       "2       0  d3r38n2  4lxbzg   d3r0tm6      4  \n",
       "3       0  d3r38n4  4lycd3    4lycd3     25  \n",
       "4       0  d3r38q3  4lw22m   d3r2rv0      2  "
      ]
     },
     "execution_count": 7,
     "metadata": {},
     "output_type": "execute_result"
    }
   ],
   "source": [
    "politics_06.head()"
   ]
  },
  {
   "cell_type": "markdown",
   "metadata": {},
   "source": [
    "Dataframes for each month are then concatenated into one massive Dataframe whose data types are just as expected."
   ]
  },
  {
   "cell_type": "code",
   "execution_count": 8,
   "metadata": {},
   "outputs": [],
   "source": [
    "politics = pd.concat([politics_06, politics_07, politics_08, politics_09, politics_10, politics_11]).reset_index()\n",
    "politics['author_flair_text'] = politics['author_flair_text'].astype('category') #necessary to do it again"
   ]
  },
  {
   "cell_type": "code",
   "execution_count": 9,
   "metadata": {
    "scrolled": true
   },
   "outputs": [
    {
     "data": {
      "text/plain": [
       "index                         int64\n",
       "author                       object\n",
       "author_flair_text          category\n",
       "body                         object\n",
       "created_utc          datetime64[ns]\n",
       "gilded                        int64\n",
       "id                           object\n",
       "link_id                      object\n",
       "parent_id                    object\n",
       "score                         int64\n",
       "dtype: object"
      ]
     },
     "execution_count": 9,
     "metadata": {},
     "output_type": "execute_result"
    }
   ],
   "source": [
    "politics.dtypes"
   ]
  },
  {
   "cell_type": "code",
   "execution_count": 10,
   "metadata": {},
   "outputs": [
    {
     "data": {
      "text/html": [
       "<div>\n",
       "<style scoped>\n",
       "    .dataframe tbody tr th:only-of-type {\n",
       "        vertical-align: middle;\n",
       "    }\n",
       "\n",
       "    .dataframe tbody tr th {\n",
       "        vertical-align: top;\n",
       "    }\n",
       "\n",
       "    .dataframe thead th {\n",
       "        text-align: right;\n",
       "    }\n",
       "</style>\n",
       "<table border=\"1\" class=\"dataframe\">\n",
       "  <thead>\n",
       "    <tr style=\"text-align: right;\">\n",
       "      <th></th>\n",
       "      <th>index</th>\n",
       "      <th>gilded</th>\n",
       "      <th>score</th>\n",
       "    </tr>\n",
       "  </thead>\n",
       "  <tbody>\n",
       "    <tr>\n",
       "      <th>count</th>\n",
       "      <td>1.086033e+07</td>\n",
       "      <td>1.086033e+07</td>\n",
       "      <td>1.086033e+07</td>\n",
       "    </tr>\n",
       "    <tr>\n",
       "      <th>mean</th>\n",
       "      <td>9.539365e+05</td>\n",
       "      <td>3.835981e-04</td>\n",
       "      <td>6.766324e+00</td>\n",
       "    </tr>\n",
       "    <tr>\n",
       "      <th>std</th>\n",
       "      <td>6.041415e+05</td>\n",
       "      <td>2.441999e-02</td>\n",
       "      <td>5.706394e+01</td>\n",
       "    </tr>\n",
       "    <tr>\n",
       "      <th>min</th>\n",
       "      <td>0.000000e+00</td>\n",
       "      <td>0.000000e+00</td>\n",
       "      <td>-8.620000e+02</td>\n",
       "    </tr>\n",
       "    <tr>\n",
       "      <th>25%</th>\n",
       "      <td>4.525130e+05</td>\n",
       "      <td>0.000000e+00</td>\n",
       "      <td>1.000000e+00</td>\n",
       "    </tr>\n",
       "    <tr>\n",
       "      <th>50%</th>\n",
       "      <td>9.050270e+05</td>\n",
       "      <td>0.000000e+00</td>\n",
       "      <td>1.000000e+00</td>\n",
       "    </tr>\n",
       "    <tr>\n",
       "      <th>75%</th>\n",
       "      <td>1.370547e+06</td>\n",
       "      <td>0.000000e+00</td>\n",
       "      <td>4.000000e+00</td>\n",
       "    </tr>\n",
       "    <tr>\n",
       "      <th>max</th>\n",
       "      <td>2.522909e+06</td>\n",
       "      <td>1.400000e+01</td>\n",
       "      <td>1.901100e+04</td>\n",
       "    </tr>\n",
       "  </tbody>\n",
       "</table>\n",
       "</div>"
      ],
      "text/plain": [
       "              index        gilded         score\n",
       "count  1.086033e+07  1.086033e+07  1.086033e+07\n",
       "mean   9.539365e+05  3.835981e-04  6.766324e+00\n",
       "std    6.041415e+05  2.441999e-02  5.706394e+01\n",
       "min    0.000000e+00  0.000000e+00 -8.620000e+02\n",
       "25%    4.525130e+05  0.000000e+00  1.000000e+00\n",
       "50%    9.050270e+05  0.000000e+00  1.000000e+00\n",
       "75%    1.370547e+06  0.000000e+00  4.000000e+00\n",
       "max    2.522909e+06  1.400000e+01  1.901100e+04"
      ]
     },
     "execution_count": 10,
     "metadata": {},
     "output_type": "execute_result"
    }
   ],
   "source": [
    "politics.describe()"
   ]
  },
  {
   "cell_type": "code",
   "execution_count": 11,
   "metadata": {
    "scrolled": true
   },
   "outputs": [
    {
     "data": {
      "text/html": [
       "<div>\n",
       "<style scoped>\n",
       "    .dataframe tbody tr th:only-of-type {\n",
       "        vertical-align: middle;\n",
       "    }\n",
       "\n",
       "    .dataframe tbody tr th {\n",
       "        vertical-align: top;\n",
       "    }\n",
       "\n",
       "    .dataframe thead th {\n",
       "        text-align: right;\n",
       "    }\n",
       "</style>\n",
       "<table border=\"1\" class=\"dataframe\">\n",
       "  <thead>\n",
       "    <tr style=\"text-align: right;\">\n",
       "      <th></th>\n",
       "      <th>index</th>\n",
       "      <th>author</th>\n",
       "      <th>author_flair_text</th>\n",
       "      <th>body</th>\n",
       "      <th>created_utc</th>\n",
       "      <th>gilded</th>\n",
       "      <th>id</th>\n",
       "      <th>link_id</th>\n",
       "      <th>parent_id</th>\n",
       "      <th>score</th>\n",
       "    </tr>\n",
       "  </thead>\n",
       "  <tbody>\n",
       "    <tr>\n",
       "      <th>0</th>\n",
       "      <td>0</td>\n",
       "      <td>wheresthecheese</td>\n",
       "      <td>NaN</td>\n",
       "      <td>I'm very glad I read that. The first well thou...</td>\n",
       "      <td>2016-06-01 00:00:00</td>\n",
       "      <td>0</td>\n",
       "      <td>d3r38dt</td>\n",
       "      <td>4lxbri</td>\n",
       "      <td>4lxbri</td>\n",
       "      <td>3</td>\n",
       "    </tr>\n",
       "    <tr>\n",
       "      <th>1</th>\n",
       "      <td>1</td>\n",
       "      <td>ifCreepyImJoking</td>\n",
       "      <td>NaN</td>\n",
       "      <td>Eh, once you start adding qualifiers instead o...</td>\n",
       "      <td>2016-06-01 00:00:03</td>\n",
       "      <td>0</td>\n",
       "      <td>d3r38gd</td>\n",
       "      <td>4lwef1</td>\n",
       "      <td>d3r17zv</td>\n",
       "      <td>0</td>\n",
       "    </tr>\n",
       "    <tr>\n",
       "      <th>2</th>\n",
       "      <td>2</td>\n",
       "      <td>Sam_Munhi</td>\n",
       "      <td>NaN</td>\n",
       "      <td>How so? Clinton and Trump are the two most dis...</td>\n",
       "      <td>2016-06-01 00:00:12</td>\n",
       "      <td>0</td>\n",
       "      <td>d3r38n2</td>\n",
       "      <td>4lxbzg</td>\n",
       "      <td>d3r0tm6</td>\n",
       "      <td>4</td>\n",
       "    </tr>\n",
       "    <tr>\n",
       "      <th>3</th>\n",
       "      <td>3</td>\n",
       "      <td>VowOfKsitigarbha</td>\n",
       "      <td>NaN</td>\n",
       "      <td>Is he attacking the wrong target?</td>\n",
       "      <td>2016-06-01 00:00:12</td>\n",
       "      <td>0</td>\n",
       "      <td>d3r38n4</td>\n",
       "      <td>4lycd3</td>\n",
       "      <td>4lycd3</td>\n",
       "      <td>25</td>\n",
       "    </tr>\n",
       "    <tr>\n",
       "      <th>4</th>\n",
       "      <td>4</td>\n",
       "      <td>iAMADisposableAcc</td>\n",
       "      <td>NaN</td>\n",
       "      <td>We can agree on that, although I guess we have...</td>\n",
       "      <td>2016-06-01 00:00:15</td>\n",
       "      <td>0</td>\n",
       "      <td>d3r38q3</td>\n",
       "      <td>4lw22m</td>\n",
       "      <td>d3r2rv0</td>\n",
       "      <td>2</td>\n",
       "    </tr>\n",
       "  </tbody>\n",
       "</table>\n",
       "</div>"
      ],
      "text/plain": [
       "   index             author author_flair_text  \\\n",
       "0      0    wheresthecheese               NaN   \n",
       "1      1   ifCreepyImJoking               NaN   \n",
       "2      2          Sam_Munhi               NaN   \n",
       "3      3   VowOfKsitigarbha               NaN   \n",
       "4      4  iAMADisposableAcc               NaN   \n",
       "\n",
       "                                                body         created_utc  \\\n",
       "0  I'm very glad I read that. The first well thou... 2016-06-01 00:00:00   \n",
       "1  Eh, once you start adding qualifiers instead o... 2016-06-01 00:00:03   \n",
       "2  How so? Clinton and Trump are the two most dis... 2016-06-01 00:00:12   \n",
       "3                 Is he attacking the wrong target?  2016-06-01 00:00:12   \n",
       "4  We can agree on that, although I guess we have... 2016-06-01 00:00:15   \n",
       "\n",
       "   gilded       id link_id parent_id  score  \n",
       "0       0  d3r38dt  4lxbri    4lxbri      3  \n",
       "1       0  d3r38gd  4lwef1   d3r17zv      0  \n",
       "2       0  d3r38n2  4lxbzg   d3r0tm6      4  \n",
       "3       0  d3r38n4  4lycd3    4lycd3     25  \n",
       "4       0  d3r38q3  4lw22m   d3r2rv0      2  "
      ]
     },
     "execution_count": 11,
     "metadata": {},
     "output_type": "execute_result"
    }
   ],
   "source": [
    "politics.head()"
   ]
  },
  {
   "cell_type": "code",
   "execution_count": 56,
   "metadata": {
    "scrolled": false
   },
   "outputs": [
    {
     "name": "stdout",
     "output_type": "stream",
     "text": [
      "{'Alaska', 'Nicholas Schou, author of \"Spooked\"', 'Zephyr Teachout (D-NY)', 'Minnesota', 'America’s favorite democracy holiday', 'Wisconsin', 'Eddie Goldberg, author of \"Joint Ventured Nation\"', 'I voted', 'Montana', 'Maria Teresa Kumar, CEO of Voto Latino', 'Arizona', 'Puerto Rico', 'NORML', 'American Civil Liberties Union', 'Florida', 'Retain A Just Nebraska', 'Nevada', 'Utah', 'California | the AMA guy', 'Chad Marlow, Advocacy and Policy Counsel at ACLU', 'West Virginia', 'Idaho', 'New York', 'Dan Rolle (D-NV)', 'Oklahoma', 'Republic of Popcornia', 'Sara Tabatabaie, Digital Manager of Rock The Vote', 'Steve Gladstone', 'Matt Mitchell, founder of CryptoHarlem', 'Illinois', 'Tennessee', 'District Of Colombia', 'American Samoa', 'Jesse Ventura (I-MN)', 'No on 66', 'Mainers for Fair Wages', 'Commissioner Walter Deleon (DC)', 'Sr. Economic Analyst', 'Keep Colorado Working', 'Eliot Nelson, Huffington Post political reporter', 'Kentucky', 'Michigan', 'Texas', 'Scott Wiener (D-CA)', 'New Mexico', 'Foreign', 'Vermont', 'New Jersey', 'No On 61', 'Hawaii', 'Iowa', 'Jim Burke (D-TX)', 'Indiana', 'California', 'Oregon', 'Russ Feingold (D-WI)', 'David Daley, Author - \"Ratf**ked\"', 'Evan Siegfried, author of \"GOP GPS\"', 'Maine', 'Colorado Families for a Fair Wage', 'Alabama', 'America', 'South Carolina', 'Delaware', 'Maine Ranked Choice Voting Campaign', 'Harri Hursti, creator of the Hursti Hack', 'Hector Sigala, NWWA', 'Nebraska', 'Arkansas', 'District Of Columbia', 'Sen. Bob Casey (D-PA)', 'Om nom nom', 'Pennsylvania', 'Mayor Matthew Avitabile (Middleburgh, NY)', 'extra butter', 'Guam', 'Rhode Island', ' Beau Kilmer, Co-Director of RAND Drug Policy Research Center', 'Josh Marshall, Talking Points Memo founder', 'Louisiana', 'KNOW 1-491', 'Damien LaVera NWWA', 'Wyoming', 'Ken Bone', 'North Carolina', 'ColoradoCare YES', 'Alex Merced (L-NY)', 'Margaret Stock, AK senate candidate (I)', 'Steve Gladstone (I-MD)', 'Northern Marianas', 'Alexander Zaitchik, author of \"The Gilded Rage\"', 'Popcorn Express', 'Gloria La Riva, 2016 Socialist candidate for president', 'Josh Hendler, NWWA', 'Missouri', 'AZ Healthy Working Families', 'Matt Welch, Reason Magazine Editor at Large', 'Libby Babbott-Klein, NWWA', 'Kieran Fitzgerald, co-writer of \"Snowden\"', 'New Hampshire', 'Popcorn with extra salt.', 'Ohio', 'South Dakota', 'H.A. Goodman', 'Colorado', 'Rosy Kalfus, NWWA', 'Popcorn', 'Washington', 'Chris Cataldo (MA)', 'Mississippi', 'Massachusetts', 'North Dakota', 'Maryland', 'Pamela Smith, President of Verified Voting', 'abolition.org', 'Virginia', 'Georgia', 'Connecticut', 'Kansas'}\n",
      "119\n"
     ]
    }
   ],
   "source": [
    "print(set(politics['author_flair_text'].dropna()))\n",
    "print(len(set(politics['author_flair_text'].dropna())))"
   ]
  },
  {
   "cell_type": "code",
   "execution_count": 50,
   "metadata": {
    "scrolled": true
   },
   "outputs": [
    {
     "name": "stdout",
     "output_type": "stream",
     "text": [
      "{'Alaska', 'Maine', 'Wyoming', 'Kentucky', 'Michigan', 'North Carolina', 'Wisconsin', 'Minnesota', 'Delaware', 'South Carolina', 'Alabama', 'Montana', 'Northern Mariana Islands', 'US Armed Forces Europe', 'Arizona', 'Puerto Rico', 'Texas', 'New Mexico', 'Vermont', 'Florida', 'New Jersey', 'Nebraska', 'Nevada', 'Utah', 'Missouri', 'Arkansas', 'Hawaii', 'New Hampshire', 'Iowa', 'Federated States of Micronesia', 'West Virginia', 'Ohio', 'Idaho', 'Pennsylvania', 'New York', 'South Dakota', 'US Armed Forces Pacific', 'Oklahoma', 'Indiana', 'Colorado', 'California', 'Washington, D.C.', 'Guam', 'Oregon', 'Illinois', 'Virgin Islands', 'Rhode Island', 'Washington', 'Palau', 'Mississippi', 'Marshall Islands', 'Tennessee', 'Massachusetts', 'American Samoa', 'North Dakota', 'Maryland', 'Louisiana', 'Virginia', 'Georgia', 'Connecticut', 'Kansas'}\n",
      "61\n"
     ]
    }
   ],
   "source": [
    "state_full = set(np.array(city_states['State_full'].dropna()))\n",
    "print(state_full)\n",
    "print(len(state_full))"
   ]
  },
  {
   "cell_type": "code",
   "execution_count": 52,
   "metadata": {
    "scrolled": true
   },
   "outputs": [
    {
     "name": "stdout",
     "output_type": "stream",
     "text": [
      "{'Alaska', 'Maine', 'Wyoming', 'Kentucky', 'Michigan', 'North Carolina', 'Minnesota', 'Wisconsin', 'Alabama', 'South Carolina', 'Delaware', 'Montana', 'Arizona', 'Puerto Rico', 'Texas', 'New Mexico', 'Vermont', 'Florida', 'New Jersey', 'Nevada', 'Nebraska', 'Utah', 'Missouri', 'Arkansas', 'Hawaii', 'Iowa', 'New Hampshire', 'West Virginia', 'Ohio', 'Idaho', 'Pennsylvania', 'New York', 'South Dakota', 'Oklahoma', 'Indiana', 'Colorado', 'California', 'Oregon', 'Guam', 'Illinois', 'Washington', 'Rhode Island', 'Mississippi', 'Tennessee', 'Massachusetts', 'American Samoa', 'North Dakota', 'Maryland', 'Louisiana', 'Virginia', 'Georgia', 'Connecticut', 'Kansas'}\n"
     ]
    },
    {
     "data": {
      "text/plain": [
       "53"
      ]
     },
     "execution_count": 52,
     "metadata": {},
     "output_type": "execute_result"
    }
   ],
   "source": [
    "flair_politics = politics[politics['author_flair_text'].isin(state_full)]\n",
    "print(set(flair_politics['author_flair_text']))\n",
    "len(set(flair_politics['author_flair_text']))"
   ]
  },
  {
   "cell_type": "code",
   "execution_count": 54,
   "metadata": {},
   "outputs": [
    {
     "name": "stdout",
     "output_type": "stream",
     "text": [
      "(215850, 10)\n"
     ]
    },
    {
     "data": {
      "text/html": [
       "<div>\n",
       "<style scoped>\n",
       "    .dataframe tbody tr th:only-of-type {\n",
       "        vertical-align: middle;\n",
       "    }\n",
       "\n",
       "    .dataframe tbody tr th {\n",
       "        vertical-align: top;\n",
       "    }\n",
       "\n",
       "    .dataframe thead th {\n",
       "        text-align: right;\n",
       "    }\n",
       "</style>\n",
       "<table border=\"1\" class=\"dataframe\">\n",
       "  <thead>\n",
       "    <tr style=\"text-align: right;\">\n",
       "      <th></th>\n",
       "      <th>index</th>\n",
       "      <th>author</th>\n",
       "      <th>author_flair_text</th>\n",
       "      <th>body</th>\n",
       "      <th>created_utc</th>\n",
       "      <th>gilded</th>\n",
       "      <th>id</th>\n",
       "      <th>link_id</th>\n",
       "      <th>parent_id</th>\n",
       "      <th>score</th>\n",
       "    </tr>\n",
       "  </thead>\n",
       "  <tbody>\n",
       "    <tr>\n",
       "      <th>6147305</th>\n",
       "      <td>1669459</td>\n",
       "      <td>Qu1nlan</td>\n",
       "      <td>California</td>\n",
       "      <td>Hi `juno255`. Thank you for participating in /...</td>\n",
       "      <td>2016-09-30 02:31:46</td>\n",
       "      <td>0</td>\n",
       "      <td>d87sxgv</td>\n",
       "      <td>5552n9</td>\n",
       "      <td>5552n9</td>\n",
       "      <td>1</td>\n",
       "    </tr>\n",
       "    <tr>\n",
       "      <th>6147372</th>\n",
       "      <td>1669526</td>\n",
       "      <td>Qu1nlan</td>\n",
       "      <td>California</td>\n",
       "      <td>Hi `Alejandro_Last_Name`. Thank you for partic...</td>\n",
       "      <td>2016-09-30 02:33:36</td>\n",
       "      <td>0</td>\n",
       "      <td>d87t05c</td>\n",
       "      <td>5556yb</td>\n",
       "      <td>5556yb</td>\n",
       "      <td>1</td>\n",
       "    </tr>\n",
       "    <tr>\n",
       "      <th>6147390</th>\n",
       "      <td>1669544</td>\n",
       "      <td>Qu1nlan</td>\n",
       "      <td>California</td>\n",
       "      <td>Hi `ImNotJesus`. Thank you for participating i...</td>\n",
       "      <td>2016-09-30 02:33:57</td>\n",
       "      <td>0</td>\n",
       "      <td>d87t0p2</td>\n",
       "      <td>5548v7</td>\n",
       "      <td>5548v7</td>\n",
       "      <td>1</td>\n",
       "    </tr>\n",
       "    <tr>\n",
       "      <th>6147458</th>\n",
       "      <td>1669612</td>\n",
       "      <td>Qu1nlan</td>\n",
       "      <td>California</td>\n",
       "      <td>Hi `cmonshoe`. Thank you for participating in ...</td>\n",
       "      <td>2016-09-30 02:35:17</td>\n",
       "      <td>0</td>\n",
       "      <td>d87t2mq</td>\n",
       "      <td>5541x2</td>\n",
       "      <td>5541x2</td>\n",
       "      <td>1</td>\n",
       "    </tr>\n",
       "    <tr>\n",
       "      <th>6147507</th>\n",
       "      <td>1669661</td>\n",
       "      <td>Qu1nlan</td>\n",
       "      <td>California</td>\n",
       "      <td>Hi `abourne`. Thank you for participating in /...</td>\n",
       "      <td>2016-09-30 02:36:23</td>\n",
       "      <td>0</td>\n",
       "      <td>d87t4ep</td>\n",
       "      <td>554okj</td>\n",
       "      <td>554okj</td>\n",
       "      <td>1</td>\n",
       "    </tr>\n",
       "  </tbody>\n",
       "</table>\n",
       "</div>"
      ],
      "text/plain": [
       "           index   author author_flair_text  \\\n",
       "6147305  1669459  Qu1nlan        California   \n",
       "6147372  1669526  Qu1nlan        California   \n",
       "6147390  1669544  Qu1nlan        California   \n",
       "6147458  1669612  Qu1nlan        California   \n",
       "6147507  1669661  Qu1nlan        California   \n",
       "\n",
       "                                                      body  \\\n",
       "6147305  Hi `juno255`. Thank you for participating in /...   \n",
       "6147372  Hi `Alejandro_Last_Name`. Thank you for partic...   \n",
       "6147390  Hi `ImNotJesus`. Thank you for participating i...   \n",
       "6147458  Hi `cmonshoe`. Thank you for participating in ...   \n",
       "6147507  Hi `abourne`. Thank you for participating in /...   \n",
       "\n",
       "                created_utc  gilded       id link_id parent_id  score  \n",
       "6147305 2016-09-30 02:31:46       0  d87sxgv  5552n9    5552n9      1  \n",
       "6147372 2016-09-30 02:33:36       0  d87t05c  5556yb    5556yb      1  \n",
       "6147390 2016-09-30 02:33:57       0  d87t0p2  5548v7    5548v7      1  \n",
       "6147458 2016-09-30 02:35:17       0  d87t2mq  5541x2    5541x2      1  \n",
       "6147507 2016-09-30 02:36:23       0  d87t4ep  554okj    554okj      1  "
      ]
     },
     "execution_count": 54,
     "metadata": {},
     "output_type": "execute_result"
    }
   ],
   "source": [
    "print(flair_politics.shape)\n",
    "flair_politics.head()"
   ]
  },
  {
   "cell_type": "markdown",
   "metadata": {},
   "source": [
    "## Processing data"
   ]
  },
  {
   "cell_type": "code",
   "execution_count": 63,
   "metadata": {
    "scrolled": false
   },
   "outputs": [],
   "source": [
    "def nlp_entity(body):\n",
    "    \"\"\"Creates a string with each named entity preceded by its corresponding tag and separated with a comma\"\"\"\n",
    "    entities = ''\n",
    "    for sent in nltk.sent_tokenize(body):\n",
    "        for chunk in nltk.ne_chunk(nltk.pos_tag(nltk.word_tokenize(sent))):\n",
    "            if hasattr(chunk, 'label'):\n",
    "                 entities += (chunk.label() + ' ' + ' '.join(c[0] for c in chunk) + ',' )\n",
    "    return entities[:-1]\n",
    "                \n",
    "def nlp_sentiment(body, sid=SentimentIntensityAnalyzer()):\n",
    "    \"\"\"Creates a string containing 4 numeric values corresponding to a sentiment analysis\n",
    "    oredered as such compound, neg, neu, pos separated by a comma.\"\"\"\n",
    "    ss = sid.polarity_scores(body)\n",
    "    sentiment = \"\"\n",
    "    for k in sorted(ss):\n",
    "        sentiment += '{},'.format(ss[k])\n",
    "    return sentiment[:-1]\n",
    "\n",
    "def nlp_wordcount(body, lemmatizer=nltk.WordNetLemmatizer(), stops=set(nltk.corpus.stopwords.words(\"english\"))):\n",
    "    \"\"\"Returns a dictionnary with words frequency easily plottable.\"\"\"\n",
    "    fdist = nltk.FreqDist()\n",
    "    tokens = nltk.word_tokenize(body)\n",
    "    filtered_words = [word for word in tokens if word not in stops]\n",
    "    for word in filtered_words:\n",
    "        fdist[lemmatizer.lemmatize(word.lower())] += 1      \n",
    "    return fdist\n",
    "\n",
    "def sentiment_to_label(sentiment):\n",
    "    ss = sentiment.split(',')\n",
    "    compound = float(ss[0])\n",
    "    if (compound > 0.2):\n",
    "        return \"Positive\"\n",
    "    elif (compound < -0.2):\n",
    "        return \"Negative\"\n",
    "    else:\n",
    "        return \"Neutral\""
   ]
  },
  {
   "cell_type": "code",
   "execution_count": 64,
   "metadata": {
    "scrolled": true
   },
   "outputs": [
    {
     "data": {
      "text/html": [
       "<div>\n",
       "<style scoped>\n",
       "    .dataframe tbody tr th:only-of-type {\n",
       "        vertical-align: middle;\n",
       "    }\n",
       "\n",
       "    .dataframe tbody tr th {\n",
       "        vertical-align: top;\n",
       "    }\n",
       "\n",
       "    .dataframe thead th {\n",
       "        text-align: right;\n",
       "    }\n",
       "</style>\n",
       "<table border=\"1\" class=\"dataframe\">\n",
       "  <thead>\n",
       "    <tr style=\"text-align: right;\">\n",
       "      <th></th>\n",
       "      <th>index</th>\n",
       "      <th>author</th>\n",
       "      <th>author_flair_text</th>\n",
       "      <th>body</th>\n",
       "      <th>created_utc</th>\n",
       "      <th>gilded</th>\n",
       "      <th>id</th>\n",
       "      <th>link_id</th>\n",
       "      <th>parent_id</th>\n",
       "      <th>score</th>\n",
       "      <th>entity</th>\n",
       "      <th>sentiment</th>\n",
       "      <th>wordcount</th>\n",
       "      <th>label</th>\n",
       "    </tr>\n",
       "  </thead>\n",
       "  <tbody>\n",
       "    <tr>\n",
       "      <th>1464930</th>\n",
       "      <td>172425</td>\n",
       "      <td>Rottendog</td>\n",
       "      <td>NaN</td>\n",
       "      <td>I don't care what anyone says; Jeb never wante...</td>\n",
       "      <td>2016-07-05 20:18:06</td>\n",
       "      <td>0</td>\n",
       "      <td>d50gfki</td>\n",
       "      <td>4rd7ly</td>\n",
       "      <td>d507n4m</td>\n",
       "      <td>9</td>\n",
       "      <td>PERSON Jeb,ORGANIZATION NOPE,GPE Aww</td>\n",
       "      <td>-0.1847,0.112,0.804,0.084</td>\n",
       "      <td>{'i': 5, 'n't': 1, 'care': 1, 'anyone': 1, 'sa...</td>\n",
       "      <td>Neutral</td>\n",
       "    </tr>\n",
       "    <tr>\n",
       "      <th>3327733</th>\n",
       "      <td>249575</td>\n",
       "      <td>BalanceCoil</td>\n",
       "      <td>NaN</td>\n",
       "      <td>Duh a link to the article or page it was inclu...</td>\n",
       "      <td>2016-08-04 20:29:10</td>\n",
       "      <td>0</td>\n",
       "      <td>d64f9je</td>\n",
       "      <td>4w6kr2</td>\n",
       "      <td>d64f4u8</td>\n",
       "      <td>0</td>\n",
       "      <td></td>\n",
       "      <td>0.0,0.0,1.0,0.0</td>\n",
       "      <td>{'duh': 1, 'link': 1, 'article': 1, 'page': 1,...</td>\n",
       "      <td>Neutral</td>\n",
       "    </tr>\n",
       "    <tr>\n",
       "      <th>6117050</th>\n",
       "      <td>1639204</td>\n",
       "      <td>Satyrsol</td>\n",
       "      <td>NaN</td>\n",
       "      <td>Thinking just this election cycle, I'll use Be...</td>\n",
       "      <td>2016-09-29 16:40:40</td>\n",
       "      <td>0</td>\n",
       "      <td>d8734va</td>\n",
       "      <td>55200c</td>\n",
       "      <td>d8725pi</td>\n",
       "      <td>1</td>\n",
       "      <td>PERSON Bernie Sanders,PERSON Bernie Sanders,PE...</td>\n",
       "      <td>0.2535,0.053,0.89,0.057</td>\n",
       "      <td>{'thinking': 1, 'election': 1, 'cycle': 1, ','...</td>\n",
       "      <td>Positive</td>\n",
       "    </tr>\n",
       "    <tr>\n",
       "      <th>5417390</th>\n",
       "      <td>939544</td>\n",
       "      <td>ricdesi</td>\n",
       "      <td>NaN</td>\n",
       "      <td>Bulllllllllllllllshit.</td>\n",
       "      <td>2016-09-19 13:49:31</td>\n",
       "      <td>0</td>\n",
       "      <td>d7t3vv3</td>\n",
       "      <td>53btku</td>\n",
       "      <td>53btku</td>\n",
       "      <td>1</td>\n",
       "      <td>GPE Bulllllllllllllllshit</td>\n",
       "      <td>0.0,0.0,1.0,0.0</td>\n",
       "      <td>{'bulllllllllllllllshit': 1, '.': 1}</td>\n",
       "      <td>Neutral</td>\n",
       "    </tr>\n",
       "    <tr>\n",
       "      <th>3896448</th>\n",
       "      <td>818290</td>\n",
       "      <td>justjack48</td>\n",
       "      <td>NaN</td>\n",
       "      <td>More tax dollars going to waste on another poi...</td>\n",
       "      <td>2016-08-16 23:39:58</td>\n",
       "      <td>0</td>\n",
       "      <td>d6kf9o5</td>\n",
       "      <td>4y2kke</td>\n",
       "      <td>4y2kke</td>\n",
       "      <td>10</td>\n",
       "      <td></td>\n",
       "      <td>-0.4215,0.219,0.781,0.0</td>\n",
       "      <td>{'more': 1, 'tax': 1, 'dollar': 1, 'going': 1,...</td>\n",
       "      <td>Negative</td>\n",
       "    </tr>\n",
       "    <tr>\n",
       "      <th>7806334</th>\n",
       "      <td>1609258</td>\n",
       "      <td>ClassicsMajor</td>\n",
       "      <td>NaN</td>\n",
       "      <td>He's overcompensating.\\n</td>\n",
       "      <td>2016-10-23 05:43:54</td>\n",
       "      <td>0</td>\n",
       "      <td>d93yfg1</td>\n",
       "      <td>58wq86</td>\n",
       "      <td>d93w5mj</td>\n",
       "      <td>4</td>\n",
       "      <td></td>\n",
       "      <td>0.0,0.0,1.0,0.0</td>\n",
       "      <td>{'he': 1, ''s': 1, 'overcompensating': 1, '.': 1}</td>\n",
       "      <td>Neutral</td>\n",
       "    </tr>\n",
       "    <tr>\n",
       "      <th>5820352</th>\n",
       "      <td>1342506</td>\n",
       "      <td>Sussay</td>\n",
       "      <td>NaN</td>\n",
       "      <td>I assure you. I work with data all the time, a...</td>\n",
       "      <td>2016-09-26 15:10:47</td>\n",
       "      <td>0</td>\n",
       "      <td>d82pi3k</td>\n",
       "      <td>54kz3q</td>\n",
       "      <td>d82pfhf</td>\n",
       "      <td>-4</td>\n",
       "      <td></td>\n",
       "      <td>0.34,0.0,0.893,0.107</td>\n",
       "      <td>{'i': 3, 'assure': 1, '.': 3, 'work': 1, 'data...</td>\n",
       "      <td>Positive</td>\n",
       "    </tr>\n",
       "    <tr>\n",
       "      <th>422932</th>\n",
       "      <td>422932</td>\n",
       "      <td>Brunopolis</td>\n",
       "      <td>NaN</td>\n",
       "      <td>16% variance in the California Democratic prim...</td>\n",
       "      <td>2016-06-08 22:58:50</td>\n",
       "      <td>0</td>\n",
       "      <td>d41keni</td>\n",
       "      <td>4n7v7t</td>\n",
       "      <td>4n7v7t</td>\n",
       "      <td>1</td>\n",
       "      <td>ORGANIZATION California Democratic,GPE California</td>\n",
       "      <td>0.0,0.0,1.0,0.0</td>\n",
       "      <td>{'16': 1, '%': 2, 'variance': 2, 'california':...</td>\n",
       "      <td>Neutral</td>\n",
       "    </tr>\n",
       "    <tr>\n",
       "      <th>6201221</th>\n",
       "      <td>4145</td>\n",
       "      <td>Idolglows</td>\n",
       "      <td>NaN</td>\n",
       "      <td>The worst possible thing on EARTH, to you, is ...</td>\n",
       "      <td>2016-10-01 02:03:46</td>\n",
       "      <td>0</td>\n",
       "      <td>d8941jc</td>\n",
       "      <td>55atwx</td>\n",
       "      <td>d89399c</td>\n",
       "      <td>1</td>\n",
       "      <td>ORGANIZATION EARTH,PERSON Sorry</td>\n",
       "      <td>-0.2894,0.159,0.683,0.158</td>\n",
       "      <td>{'the': 1, 'worst': 1, 'possible': 1, 'thing':...</td>\n",
       "      <td>Negative</td>\n",
       "    </tr>\n",
       "    <tr>\n",
       "      <th>3250908</th>\n",
       "      <td>172750</td>\n",
       "      <td>hotpotamus</td>\n",
       "      <td>NaN</td>\n",
       "      <td>I'm an engineer. I might be upper middle class...</td>\n",
       "      <td>2016-08-03 17:14:41</td>\n",
       "      <td>0</td>\n",
       "      <td>d62ph32</td>\n",
       "      <td>4vzbki</td>\n",
       "      <td>d62pd2q</td>\n",
       "      <td>7</td>\n",
       "      <td></td>\n",
       "      <td>0.8271,0.0,0.765,0.235</td>\n",
       "      <td>{'i': 5, ''m': 1, 'engineer': 1, '.': 3, 'migh...</td>\n",
       "      <td>Positive</td>\n",
       "    </tr>\n",
       "  </tbody>\n",
       "</table>\n",
       "</div>"
      ],
      "text/plain": [
       "           index         author author_flair_text  \\\n",
       "1464930   172425      Rottendog               NaN   \n",
       "3327733   249575    BalanceCoil               NaN   \n",
       "6117050  1639204       Satyrsol               NaN   \n",
       "5417390   939544        ricdesi               NaN   \n",
       "3896448   818290     justjack48               NaN   \n",
       "7806334  1609258  ClassicsMajor               NaN   \n",
       "5820352  1342506         Sussay               NaN   \n",
       "422932    422932     Brunopolis               NaN   \n",
       "6201221     4145      Idolglows               NaN   \n",
       "3250908   172750     hotpotamus               NaN   \n",
       "\n",
       "                                                      body  \\\n",
       "1464930  I don't care what anyone says; Jeb never wante...   \n",
       "3327733  Duh a link to the article or page it was inclu...   \n",
       "6117050  Thinking just this election cycle, I'll use Be...   \n",
       "5417390                             Bulllllllllllllllshit.   \n",
       "3896448  More tax dollars going to waste on another poi...   \n",
       "7806334                           He's overcompensating.\\n   \n",
       "5820352  I assure you. I work with data all the time, a...   \n",
       "422932   16% variance in the California Democratic prim...   \n",
       "6201221  The worst possible thing on EARTH, to you, is ...   \n",
       "3250908  I'm an engineer. I might be upper middle class...   \n",
       "\n",
       "                created_utc  gilded       id link_id parent_id  score  \\\n",
       "1464930 2016-07-05 20:18:06       0  d50gfki  4rd7ly   d507n4m      9   \n",
       "3327733 2016-08-04 20:29:10       0  d64f9je  4w6kr2   d64f4u8      0   \n",
       "6117050 2016-09-29 16:40:40       0  d8734va  55200c   d8725pi      1   \n",
       "5417390 2016-09-19 13:49:31       0  d7t3vv3  53btku    53btku      1   \n",
       "3896448 2016-08-16 23:39:58       0  d6kf9o5  4y2kke    4y2kke     10   \n",
       "7806334 2016-10-23 05:43:54       0  d93yfg1  58wq86   d93w5mj      4   \n",
       "5820352 2016-09-26 15:10:47       0  d82pi3k  54kz3q   d82pfhf     -4   \n",
       "422932  2016-06-08 22:58:50       0  d41keni  4n7v7t    4n7v7t      1   \n",
       "6201221 2016-10-01 02:03:46       0  d8941jc  55atwx   d89399c      1   \n",
       "3250908 2016-08-03 17:14:41       0  d62ph32  4vzbki   d62pd2q      7   \n",
       "\n",
       "                                                    entity  \\\n",
       "1464930               PERSON Jeb,ORGANIZATION NOPE,GPE Aww   \n",
       "3327733                                                      \n",
       "6117050  PERSON Bernie Sanders,PERSON Bernie Sanders,PE...   \n",
       "5417390                          GPE Bulllllllllllllllshit   \n",
       "3896448                                                      \n",
       "7806334                                                      \n",
       "5820352                                                      \n",
       "422932   ORGANIZATION California Democratic,GPE California   \n",
       "6201221                    ORGANIZATION EARTH,PERSON Sorry   \n",
       "3250908                                                      \n",
       "\n",
       "                         sentiment  \\\n",
       "1464930  -0.1847,0.112,0.804,0.084   \n",
       "3327733            0.0,0.0,1.0,0.0   \n",
       "6117050    0.2535,0.053,0.89,0.057   \n",
       "5417390            0.0,0.0,1.0,0.0   \n",
       "3896448    -0.4215,0.219,0.781,0.0   \n",
       "7806334            0.0,0.0,1.0,0.0   \n",
       "5820352       0.34,0.0,0.893,0.107   \n",
       "422932             0.0,0.0,1.0,0.0   \n",
       "6201221  -0.2894,0.159,0.683,0.158   \n",
       "3250908     0.8271,0.0,0.765,0.235   \n",
       "\n",
       "                                                 wordcount     label  \n",
       "1464930  {'i': 5, 'n't': 1, 'care': 1, 'anyone': 1, 'sa...   Neutral  \n",
       "3327733  {'duh': 1, 'link': 1, 'article': 1, 'page': 1,...   Neutral  \n",
       "6117050  {'thinking': 1, 'election': 1, 'cycle': 1, ','...  Positive  \n",
       "5417390               {'bulllllllllllllllshit': 1, '.': 1}   Neutral  \n",
       "3896448  {'more': 1, 'tax': 1, 'dollar': 1, 'going': 1,...  Negative  \n",
       "7806334  {'he': 1, ''s': 1, 'overcompensating': 1, '.': 1}   Neutral  \n",
       "5820352  {'i': 3, 'assure': 1, '.': 3, 'work': 1, 'data...  Positive  \n",
       "422932   {'16': 1, '%': 2, 'variance': 2, 'california':...   Neutral  \n",
       "6201221  {'the': 1, 'worst': 1, 'possible': 1, 'thing':...  Negative  \n",
       "3250908  {'i': 5, ''m': 1, 'engineer': 1, '.': 3, 'migh...  Positive  "
      ]
     },
     "execution_count": 64,
     "metadata": {},
     "output_type": "execute_result"
    }
   ],
   "source": [
    "sample = politics.sample(10).copy()\n",
    "\n",
    "sample['entity'] = sample['body'].apply(nlp_entity)\n",
    "sample['sentiment'] = sample['body'].apply(nlp_sentiment)\n",
    "sample['wordcount'] = sample['body'].apply(nlp_wordcount)\n",
    "sample['label'] = sample['sentiment'].apply(sentiment_to_label)\n",
    "sample"
   ]
  },
  {
   "cell_type": "code",
   "execution_count": 65,
   "metadata": {},
   "outputs": [
    {
     "data": {
      "image/png": "[encoded data removed]",
      "text/plain": [
       "<Figure size 432x288 with 1 Axes>"
      ]
     },
     "metadata": {
      "needs_background": "light"
     },
     "output_type": "display_data"
    }
   ],
   "source": [
    "sample.iloc[0]['wordcount'].plot()"
   ]
  },
  {
   "cell_type": "markdown",
   "metadata": {},
   "source": [
    "### Words positive or negative\n",
    "Using flair only dataset"
   ]
  },
  {
   "cell_type": "code",
   "execution_count": 23,
   "metadata": {},
   "outputs": [],
   "source": [
    "def get_word_count(df, sentiment):\n",
    "    \"\"\" Get the word count according to the sentiment. Can be 'Positive', 'Negative', 'Neutral' or 'None' \"\"\"\n",
    "    if sentiment != 'None':\n",
    "        filtered_df = df[df['label'] == sentiment]\n",
    "    else:\n",
    "        filtered_df = df.copy()\n",
    "    fdists = list(filtered_df['wordcount'])\n",
    "    tot_fd = nltk.FreqDist()\n",
    "    for fdist in fdists:\n",
    "        for key in fdist:\n",
    "            tot_fd[key] += fdist.get(key)\n",
    "            \n",
    "    return tot_fd\n",
    "\n",
    "sorted_score = flair_city_politics.sort_values(by=['score'], ascending=False)"
   ]
  },
  {
   "cell_type": "markdown",
   "metadata": {},
   "source": [
    "#### Taking good scores into account"
   ]
  },
  {
   "cell_type": "code",
   "execution_count": 24,
   "metadata": {},
   "outputs": [
    {
     "data": {
      "text/html": [
       "<div>\n",
       "<style scoped>\n",
       "    .dataframe tbody tr th:only-of-type {\n",
       "        vertical-align: middle;\n",
       "    }\n",
       "\n",
       "    .dataframe tbody tr th {\n",
       "        vertical-align: top;\n",
       "    }\n",
       "\n",
       "    .dataframe thead th {\n",
       "        text-align: right;\n",
       "    }\n",
       "</style>\n",
       "<table border=\"1\" class=\"dataframe\">\n",
       "  <thead>\n",
       "    <tr style=\"text-align: right;\">\n",
       "      <th></th>\n",
       "      <th>index</th>\n",
       "      <th>author</th>\n",
       "      <th>author_flair_text</th>\n",
       "      <th>body</th>\n",
       "      <th>created_utc</th>\n",
       "      <th>gilded</th>\n",
       "      <th>id</th>\n",
       "      <th>link_id</th>\n",
       "      <th>parent_id</th>\n",
       "      <th>score</th>\n",
       "      <th>entity</th>\n",
       "      <th>sentiment</th>\n",
       "      <th>wordcount</th>\n",
       "      <th>label</th>\n",
       "    </tr>\n",
       "  </thead>\n",
       "  <tbody>\n",
       "    <tr>\n",
       "      <th>10003704</th>\n",
       "      <td>1666288</td>\n",
       "      <td>PoliticsBTFO</td>\n",
       "      <td>Texas</td>\n",
       "      <td>Bernie is in the title. This will get 5000 upv...</td>\n",
       "      <td>2016-11-17 15:11:14</td>\n",
       "      <td>3</td>\n",
       "      <td>da491ew</td>\n",
       "      <td>5dfjg3</td>\n",
       "      <td>da47ua7</td>\n",
       "      <td>8351</td>\n",
       "      <td>PERSON Bernie,PERSON Trumps,PERSON Pentagon,PE...</td>\n",
       "      <td>-0.3786,0.113,0.782,0.105</td>\n",
       "      <td>{'bernie': 3, 'title': 1, '.': 8, 'this': 2, '...</td>\n",
       "      <td>Negative</td>\n",
       "    </tr>\n",
       "    <tr>\n",
       "      <th>7091994</th>\n",
       "      <td>894918</td>\n",
       "      <td>ellouelle</td>\n",
       "      <td>California</td>\n",
       "      <td>&amp;gt;here come the rape police\\n\\nActual police...</td>\n",
       "      <td>2016-10-13 11:32:27</td>\n",
       "      <td>1</td>\n",
       "      <td>d8q3twj</td>\n",
       "      <td>579rh0</td>\n",
       "      <td>d8q3t61</td>\n",
       "      <td>6420</td>\n",
       "      <td></td>\n",
       "      <td>-0.6908,0.299,0.701,0.0</td>\n",
       "      <td>{'&amp;': 1, 'gt': 1, ';': 1, 'come': 2, 'rape': 1...</td>\n",
       "      <td>Negative</td>\n",
       "    </tr>\n",
       "    <tr>\n",
       "      <th>10648484</th>\n",
       "      <td>2311068</td>\n",
       "      <td>lipsyncforyourlife</td>\n",
       "      <td>Florida</td>\n",
       "      <td>So the guy is saying there are a ton of illega...</td>\n",
       "      <td>2016-11-27 21:13:46</td>\n",
       "      <td>0</td>\n",
       "      <td>dai1myk</td>\n",
       "      <td>5f7jw2</td>\n",
       "      <td>5f7jw2</td>\n",
       "      <td>6084</td>\n",
       "      <td></td>\n",
       "      <td>-0.7622,0.213,0.787,0.0</td>\n",
       "      <td>{'so': 1, 'guy': 2, 'saying': 1, 'ton': 1, 'il...</td>\n",
       "      <td>Negative</td>\n",
       "    </tr>\n",
       "    <tr>\n",
       "      <th>10097818</th>\n",
       "      <td>1760402</td>\n",
       "      <td>ShroudedSciuridae</td>\n",
       "      <td>America</td>\n",
       "      <td>There you go taking him out of context again b...</td>\n",
       "      <td>2016-11-18 18:50:41</td>\n",
       "      <td>1</td>\n",
       "      <td>da5zrun</td>\n",
       "      <td>5dnzjx</td>\n",
       "      <td>da5zger</td>\n",
       "      <td>5573</td>\n",
       "      <td></td>\n",
       "      <td>0.0,0.0,1.0,0.0</td>\n",
       "      <td>{'there': 1, 'go': 1, 'taking': 1, 'context': ...</td>\n",
       "      <td>Neutral</td>\n",
       "    </tr>\n",
       "    <tr>\n",
       "      <th>6996195</th>\n",
       "      <td>799119</td>\n",
       "      <td>anon902503</td>\n",
       "      <td>Wisconsin</td>\n",
       "      <td>DON'T LISTEN TO THE LIBERAL \"FACT\" POLICE.  CA...</td>\n",
       "      <td>2016-10-12 02:37:03</td>\n",
       "      <td>1</td>\n",
       "      <td>d8o9mca</td>\n",
       "      <td>571wsx</td>\n",
       "      <td>571wsx</td>\n",
       "      <td>5165</td>\n",
       "      <td>ORGANIZATION LIBERAL,ORGANIZATION YOUR,ORGANIZ...</td>\n",
       "      <td>0.4995,0.0,0.823,0.177</td>\n",
       "      <td>{'do': 1, 'n't': 1, 'listen': 1, 'to': 1, 'the...</td>\n",
       "      <td>Positive</td>\n",
       "    </tr>\n",
       "  </tbody>\n",
       "</table>\n",
       "</div>"
      ],
      "text/plain": [
       "            index              author author_flair_text  \\\n",
       "10003704  1666288        PoliticsBTFO             Texas   \n",
       "7091994    894918           ellouelle        California   \n",
       "10648484  2311068  lipsyncforyourlife           Florida   \n",
       "10097818  1760402   ShroudedSciuridae           America   \n",
       "6996195    799119          anon902503         Wisconsin   \n",
       "\n",
       "                                                       body  \\\n",
       "10003704  Bernie is in the title. This will get 5000 upv...   \n",
       "7091994   &gt;here come the rape police\\n\\nActual police...   \n",
       "10648484  So the guy is saying there are a ton of illega...   \n",
       "10097818  There you go taking him out of context again b...   \n",
       "6996195   DON'T LISTEN TO THE LIBERAL \"FACT\" POLICE.  CA...   \n",
       "\n",
       "                 created_utc  gilded       id link_id parent_id  score  \\\n",
       "10003704 2016-11-17 15:11:14       3  da491ew  5dfjg3   da47ua7   8351   \n",
       "7091994  2016-10-13 11:32:27       1  d8q3twj  579rh0   d8q3t61   6420   \n",
       "10648484 2016-11-27 21:13:46       0  dai1myk  5f7jw2    5f7jw2   6084   \n",
       "10097818 2016-11-18 18:50:41       1  da5zrun  5dnzjx   da5zger   5573   \n",
       "6996195  2016-10-12 02:37:03       1  d8o9mca  571wsx    571wsx   5165   \n",
       "\n",
       "                                                     entity  \\\n",
       "10003704  PERSON Bernie,PERSON Trumps,PERSON Pentagon,PE...   \n",
       "7091994                                                       \n",
       "10648484                                                      \n",
       "10097818                                                      \n",
       "6996195   ORGANIZATION LIBERAL,ORGANIZATION YOUR,ORGANIZ...   \n",
       "\n",
       "                          sentiment  \\\n",
       "10003704  -0.3786,0.113,0.782,0.105   \n",
       "7091994     -0.6908,0.299,0.701,0.0   \n",
       "10648484    -0.7622,0.213,0.787,0.0   \n",
       "10097818            0.0,0.0,1.0,0.0   \n",
       "6996195      0.4995,0.0,0.823,0.177   \n",
       "\n",
       "                                                  wordcount     label  \n",
       "10003704  {'bernie': 3, 'title': 1, '.': 8, 'this': 2, '...  Negative  \n",
       "7091994   {'&': 1, 'gt': 1, ';': 1, 'come': 2, 'rape': 1...  Negative  \n",
       "10648484  {'so': 1, 'guy': 2, 'saying': 1, 'ton': 1, 'il...  Negative  \n",
       "10097818  {'there': 1, 'go': 1, 'taking': 1, 'context': ...   Neutral  \n",
       "6996195   {'do': 1, 'n't': 1, 'listen': 1, 'to': 1, 'the...  Positive  "
      ]
     },
     "execution_count": 24,
     "metadata": {},
     "output_type": "execute_result"
    }
   ],
   "source": [
    "good_score = sorted_score[sorted_score['score'] > 1000].copy()\n",
    "\n",
    "good_score['entity'] = good_score['body'].apply(nlp_entity)\n",
    "good_score['sentiment'] = good_score['body'].apply(nlp_sentiment)\n",
    "good_score['wordcount'] = good_score['body'].apply(nlp_wordcount)\n",
    "good_score['label'] = good_score['sentiment'].apply(sentiment_to_label)\n",
    "good_score.head()"
   ]
  },
  {
   "cell_type": "code",
   "execution_count": 25,
   "metadata": {},
   "outputs": [],
   "source": [
    "word_positive_good = get_word_count(good_score, 'Positive')\n",
    "word_negative_good = get_word_count(good_score, 'Negative')\n",
    "word_count_good = get_word_count(good_score, 'None')"
   ]
  },
  {
   "cell_type": "code",
   "execution_count": 26,
   "metadata": {},
   "outputs": [
    {
     "data": {
      "text/plain": [
       "[('.', 320),\n",
       " (',', 226),\n",
       " (':', 97),\n",
       " ('trump', 67),\n",
       " (';', 67),\n",
       " ('&', 63),\n",
       " (\"'s\", 63),\n",
       " ('i', 60),\n",
       " ('(', 51),\n",
       " (')', 51)]"
      ]
     },
     "execution_count": 26,
     "metadata": {},
     "output_type": "execute_result"
    }
   ],
   "source": [
    "word_positive_good.most_common(10)"
   ]
  },
  {
   "cell_type": "code",
   "execution_count": 27,
   "metadata": {},
   "outputs": [
    {
     "data": {
      "text/plain": [
       "[('.', 328),\n",
       " (',', 204),\n",
       " ('i', 78),\n",
       " (\"'s\", 60),\n",
       " ('trump', 52),\n",
       " (\"n't\", 52),\n",
       " (':', 45),\n",
       " (';', 35),\n",
       " (\"''\", 28),\n",
       " ('&', 28)]"
      ]
     },
     "execution_count": 27,
     "metadata": {},
     "output_type": "execute_result"
    }
   ],
   "source": [
    "word_negative_good.most_common(10)"
   ]
  },
  {
   "cell_type": "code",
   "execution_count": 28,
   "metadata": {},
   "outputs": [
    {
     "data": {
      "text/plain": [
       "[('.', 748),\n",
       " (',', 504),\n",
       " (':', 161),\n",
       " ('i', 158),\n",
       " ('trump', 148),\n",
       " (\"'s\", 140),\n",
       " (';', 110),\n",
       " ('&', 99),\n",
       " (\"n't\", 96),\n",
       " (\"''\", 86)]"
      ]
     },
     "execution_count": 28,
     "metadata": {},
     "output_type": "execute_result"
    }
   ],
   "source": [
    "word_count_good.most_common(10)"
   ]
  },
  {
   "cell_type": "markdown",
   "metadata": {},
   "source": [
    "#### Bad scores"
   ]
  },
  {
   "cell_type": "code",
   "execution_count": 29,
   "metadata": {},
   "outputs": [
    {
     "data": {
      "text/html": [
       "<div>\n",
       "<style scoped>\n",
       "    .dataframe tbody tr th:only-of-type {\n",
       "        vertical-align: middle;\n",
       "    }\n",
       "\n",
       "    .dataframe tbody tr th {\n",
       "        vertical-align: top;\n",
       "    }\n",
       "\n",
       "    .dataframe thead th {\n",
       "        text-align: right;\n",
       "    }\n",
       "</style>\n",
       "<table border=\"1\" class=\"dataframe\">\n",
       "  <thead>\n",
       "    <tr style=\"text-align: right;\">\n",
       "      <th></th>\n",
       "      <th>index</th>\n",
       "      <th>author</th>\n",
       "      <th>author_flair_text</th>\n",
       "      <th>body</th>\n",
       "      <th>created_utc</th>\n",
       "      <th>gilded</th>\n",
       "      <th>id</th>\n",
       "      <th>link_id</th>\n",
       "      <th>parent_id</th>\n",
       "      <th>score</th>\n",
       "      <th>entity</th>\n",
       "      <th>sentiment</th>\n",
       "      <th>wordcount</th>\n",
       "      <th>label</th>\n",
       "    </tr>\n",
       "  </thead>\n",
       "  <tbody>\n",
       "    <tr>\n",
       "      <th>6353744</th>\n",
       "      <td>156668</td>\n",
       "      <td>sicilianthemusical</td>\n",
       "      <td>Arizona</td>\n",
       "      <td>Patently untrue. A lie. A fabrication. A false...</td>\n",
       "      <td>2016-10-04 01:39:04</td>\n",
       "      <td>0</td>\n",
       "      <td>d8cyspp</td>\n",
       "      <td>55qt0c</td>\n",
       "      <td>d8cxs4n</td>\n",
       "      <td>-1</td>\n",
       "      <td>PERSON Clinton</td>\n",
       "      <td>-0.2732,0.14,0.768,0.092</td>\n",
       "      <td>{'patently': 1, 'untrue': 1, '.': 6, 'a': 3, '...</td>\n",
       "      <td>Negative</td>\n",
       "    </tr>\n",
       "    <tr>\n",
       "      <th>7826283</th>\n",
       "      <td>1629207</td>\n",
       "      <td>FookYu315</td>\n",
       "      <td>New York</td>\n",
       "      <td>The media gave Bernie far less coverage. The D...</td>\n",
       "      <td>2016-10-23 18:49:32</td>\n",
       "      <td>0</td>\n",
       "      <td>d94ji3y</td>\n",
       "      <td>58lchd</td>\n",
       "      <td>d94hn16</td>\n",
       "      <td>-1</td>\n",
       "      <td>PERSON Bernie,ORGANIZATION DNC,ORGANIZATION DN...</td>\n",
       "      <td>-0.1531,0.088,0.805,0.108</td>\n",
       "      <td>{'the': 4, 'medium': 1, 'gave': 1, 'bernie': 2...</td>\n",
       "      <td>Neutral</td>\n",
       "    </tr>\n",
       "    <tr>\n",
       "      <th>6348160</th>\n",
       "      <td>151084</td>\n",
       "      <td>CNegan</td>\n",
       "      <td>Texas</td>\n",
       "      <td>Bold strategy, Cotton.</td>\n",
       "      <td>2016-10-03 23:33:07</td>\n",
       "      <td>0</td>\n",
       "      <td>d8ctnr1</td>\n",
       "      <td>55qn00</td>\n",
       "      <td>55qn00</td>\n",
       "      <td>-1</td>\n",
       "      <td>GPE Bold,GPE Cotton</td>\n",
       "      <td>0.3818,0.0,0.435,0.565</td>\n",
       "      <td>{'bold': 1, 'strategy': 1, ',': 1, 'cotton': 1...</td>\n",
       "      <td>Positive</td>\n",
       "    </tr>\n",
       "    <tr>\n",
       "      <th>8082629</th>\n",
       "      <td>1885553</td>\n",
       "      <td>VintageSin</td>\n",
       "      <td>Virginia</td>\n",
       "      <td>Really now... So primaries only exist for gene...</td>\n",
       "      <td>2016-10-28 09:31:10</td>\n",
       "      <td>0</td>\n",
       "      <td>d9b7rh2</td>\n",
       "      <td>59r63s</td>\n",
       "      <td>d9b5r28</td>\n",
       "      <td>-1</td>\n",
       "      <td></td>\n",
       "      <td>0.5149,0.073,0.797,0.13</td>\n",
       "      <td>{'really': 1, '...': 3, 'so': 1, 'primary': 2,...</td>\n",
       "      <td>Positive</td>\n",
       "    </tr>\n",
       "    <tr>\n",
       "      <th>7971795</th>\n",
       "      <td>1774719</td>\n",
       "      <td>IOnlyKnow5Words</td>\n",
       "      <td>New Jersey</td>\n",
       "      <td>What the fuck did you say about me you fucking...</td>\n",
       "      <td>2016-10-26 14:17:51</td>\n",
       "      <td>0</td>\n",
       "      <td>d98hwac</td>\n",
       "      <td>59fp77</td>\n",
       "      <td>d98fz3b</td>\n",
       "      <td>-1</td>\n",
       "      <td>PERSON Hillary,PERSON Trump,PERSON Stein,PERSO...</td>\n",
       "      <td>0.7424,0.169,0.603,0.228</td>\n",
       "      <td>{'what': 1, 'fuck': 1, 'say': 1, 'fucking': 1,...</td>\n",
       "      <td>Positive</td>\n",
       "    </tr>\n",
       "  </tbody>\n",
       "</table>\n",
       "</div>"
      ],
      "text/plain": [
       "           index              author author_flair_text  \\\n",
       "6353744   156668  sicilianthemusical           Arizona   \n",
       "7826283  1629207           FookYu315          New York   \n",
       "6348160   151084              CNegan             Texas   \n",
       "8082629  1885553          VintageSin          Virginia   \n",
       "7971795  1774719     IOnlyKnow5Words        New Jersey   \n",
       "\n",
       "                                                      body  \\\n",
       "6353744  Patently untrue. A lie. A fabrication. A false...   \n",
       "7826283  The media gave Bernie far less coverage. The D...   \n",
       "6348160                            Bold strategy, Cotton.    \n",
       "8082629  Really now... So primaries only exist for gene...   \n",
       "7971795  What the fuck did you say about me you fucking...   \n",
       "\n",
       "                created_utc  gilded       id link_id parent_id  score  \\\n",
       "6353744 2016-10-04 01:39:04       0  d8cyspp  55qt0c   d8cxs4n     -1   \n",
       "7826283 2016-10-23 18:49:32       0  d94ji3y  58lchd   d94hn16     -1   \n",
       "6348160 2016-10-03 23:33:07       0  d8ctnr1  55qn00    55qn00     -1   \n",
       "8082629 2016-10-28 09:31:10       0  d9b7rh2  59r63s   d9b5r28     -1   \n",
       "7971795 2016-10-26 14:17:51       0  d98hwac  59fp77   d98fz3b     -1   \n",
       "\n",
       "                                                    entity  \\\n",
       "6353744                                     PERSON Clinton   \n",
       "7826283  PERSON Bernie,ORGANIZATION DNC,ORGANIZATION DN...   \n",
       "6348160                                GPE Bold,GPE Cotton   \n",
       "8082629                                                      \n",
       "7971795  PERSON Hillary,PERSON Trump,PERSON Stein,PERSO...   \n",
       "\n",
       "                         sentiment  \\\n",
       "6353744   -0.2732,0.14,0.768,0.092   \n",
       "7826283  -0.1531,0.088,0.805,0.108   \n",
       "6348160     0.3818,0.0,0.435,0.565   \n",
       "8082629    0.5149,0.073,0.797,0.13   \n",
       "7971795   0.7424,0.169,0.603,0.228   \n",
       "\n",
       "                                                 wordcount     label  \n",
       "6353744  {'patently': 1, 'untrue': 1, '.': 6, 'a': 3, '...  Negative  \n",
       "7826283  {'the': 4, 'medium': 1, 'gave': 1, 'bernie': 2...   Neutral  \n",
       "6348160  {'bold': 1, 'strategy': 1, ',': 1, 'cotton': 1...  Positive  \n",
       "8082629  {'really': 1, '...': 3, 'so': 1, 'primary': 2,...  Positive  \n",
       "7971795  {'what': 1, 'fuck': 1, 'say': 1, 'fucking': 1,...  Positive  "
      ]
     },
     "execution_count": 29,
     "metadata": {},
     "output_type": "execute_result"
    }
   ],
   "source": [
    "bad_score = sorted_score[sorted_score['score'] < 0].copy()\n",
    "\n",
    "bad_score['entity'] = bad_score['body'].apply(nlp_entity)\n",
    "bad_score['sentiment'] = bad_score['body'].apply(nlp_sentiment)\n",
    "bad_score['wordcount'] = bad_score['body'].apply(nlp_wordcount)\n",
    "bad_score['label'] = bad_score['sentiment'].apply(sentiment_to_label)\n",
    "bad_score.head()"
   ]
  },
  {
   "cell_type": "code",
   "execution_count": 30,
   "metadata": {},
   "outputs": [],
   "source": [
    "word_positive_bad = get_word_count(bad_score, 'Positive')\n",
    "word_negative_bad = get_word_count(bad_score, 'Negative')\n",
    "word_count_bad = get_word_count(bad_score, 'None')"
   ]
  },
  {
   "cell_type": "code",
   "execution_count": 31,
   "metadata": {},
   "outputs": [
    {
     "data": {
      "text/plain": [
       "[('.', 11632),\n",
       " (',', 6999),\n",
       " ('i', 3072),\n",
       " (\"'s\", 2590),\n",
       " (\"n't\", 2274),\n",
       " ('?', 1849),\n",
       " ('trump', 1310),\n",
       " ('like', 1093),\n",
       " (';', 1020),\n",
       " (':', 961)]"
      ]
     },
     "execution_count": 31,
     "metadata": {},
     "output_type": "execute_result"
    }
   ],
   "source": [
    "word_positive_bad.most_common(10)"
   ]
  },
  {
   "cell_type": "code",
   "execution_count": 32,
   "metadata": {},
   "outputs": [
    {
     "data": {
      "text/plain": [
       "[('.', 12885),\n",
       " (',', 7565),\n",
       " ('i', 3036),\n",
       " (\"'s\", 2902),\n",
       " (\"n't\", 2636),\n",
       " ('?', 2347),\n",
       " ('trump', 1543),\n",
       " ('people', 1201),\n",
       " (';', 1068),\n",
       " ('&', 998)]"
      ]
     },
     "execution_count": 32,
     "metadata": {},
     "output_type": "execute_result"
    }
   ],
   "source": [
    "word_negative_bad.most_common(10)"
   ]
  },
  {
   "cell_type": "code",
   "execution_count": 33,
   "metadata": {},
   "outputs": [
    {
     "data": {
      "text/plain": [
       "[('.', 29585),\n",
       " (',', 16858),\n",
       " ('i', 7328),\n",
       " (\"'s\", 6628),\n",
       " (\"n't\", 6003),\n",
       " ('?', 5397),\n",
       " ('trump', 3423),\n",
       " ('people', 2487),\n",
       " (';', 2438),\n",
       " (':', 2288)]"
      ]
     },
     "execution_count": 33,
     "metadata": {},
     "output_type": "execute_result"
    }
   ],
   "source": [
    "word_count_bad.most_common(10)"
   ]
  },
  {
   "cell_type": "markdown",
   "metadata": {},
   "source": [
    "#### Compare good and bad\n",
    "Which one are in both sets?"
   ]
  },
  {
   "cell_type": "code",
   "execution_count": 34,
   "metadata": {},
   "outputs": [],
   "source": [
    "both = []\n",
    "good_only = nltk.FreqDist()\n",
    "for good in word_count_good:\n",
    "    if good in word_count_bad:\n",
    "        both.append(good)\n",
    "    else:\n",
    "        good_only[good] = word_count_good.get(good)"
   ]
  },
  {
   "cell_type": "code",
   "execution_count": 35,
   "metadata": {},
   "outputs": [
    {
     "data": {
      "text/plain": [
       "['bernie', 'title', '.', 'this', 'get', 'upvotes', 'next', '2', 'hour', 'easy']"
      ]
     },
     "execution_count": 35,
     "metadata": {},
     "output_type": "execute_result"
    }
   ],
   "source": [
    "both[:10]"
   ]
  },
  {
   "cell_type": "code",
   "execution_count": 36,
   "metadata": {},
   "outputs": [
    {
     "data": {
      "text/plain": [
       "[('**endorsed', 14),\n",
       " ('***the', 12),\n",
       " ('non-republican', 4),\n",
       " ('johnson**', 4),\n",
       " ('inc.', 3),\n",
       " ('mkc', 3),\n",
       " ('directv', 3),\n",
       " ('//scholar.google.com/scholar_case', 3),\n",
       " ('hl=en', 3),\n",
       " ('as_sdt=2006', 3)]"
      ]
     },
     "execution_count": 36,
     "metadata": {},
     "output_type": "execute_result"
    }
   ],
   "source": [
    "good_only.most_common(10)"
   ]
  },
  {
   "cell_type": "code",
   "execution_count": 37,
   "metadata": {},
   "outputs": [],
   "source": [
    "bad_only = nltk.FreqDist()\n",
    "for bad in word_count_bad:\n",
    "    if bad not in word_count_good:\n",
    "        bad_only[bad] = word_count_bad.get(bad)"
   ]
  },
  {
   "cell_type": "code",
   "execution_count": 38,
   "metadata": {},
   "outputs": [
    {
     "data": {
      "text/plain": [
       "[('maybe', 340),\n",
       " ('russian', 315),\n",
       " ('russia', 309),\n",
       " ('system', 261),\n",
       " ('different', 214),\n",
       " ('argument', 213),\n",
       " ('politician', 207),\n",
       " ('fbi', 182),\n",
       " ('love', 176),\n",
       " ('did', 162)]"
      ]
     },
     "execution_count": 38,
     "metadata": {},
     "output_type": "execute_result"
    }
   ],
   "source": [
    "bad_only.most_common(10)"
   ]
  },
  {
   "cell_type": "markdown",
   "metadata": {},
   "source": [
    "## Visualizing data"
   ]
  },
  {
   "cell_type": "markdown",
   "metadata": {},
   "source": [
    "To get a feel for the dataset, a histogram with the number of comments for each day is plotted."
   ]
  },
  {
   "cell_type": "code",
   "execution_count": 39,
   "metadata": {
    "scrolled": false
   },
   "outputs": [],
   "source": [
    "# computation of the number of days the dataset spans\n",
    "days = (politics.iloc[-1].created_utc - politics.iloc[0].created_utc).days + 1"
   ]
  },
  {
   "cell_type": "code",
   "execution_count": 40,
   "metadata": {},
   "outputs": [
    {
     "data": {
      "image/png": "[encoded data removed]",
      "text/plain": [
       "<Figure size 1080x360 with 1 Axes>"
      ]
     },
     "metadata": {},
     "output_type": "display_data"
    }
   ],
   "source": [
    "plt.figure(figsize=(15,5))\n",
    "plt.grid()\n",
    "plt.hist(politics['created_utc'], bins=days)\n",
    "plt.ylabel('Number of comments')\n",
    "plt.xlabel('Time')\n",
    "plt.title('Distribution of the comments')\n",
    "plt.show()"
   ]
  },
  {
   "cell_type": "code",
   "execution_count": null,
   "metadata": {},
   "outputs": [],
   "source": []
  }
 ],
 "metadata": {
  "kernelspec": {
   "display_name": "Python [conda env:ada]",
   "language": "python",
   "name": "conda-env-ada-py"
  },
  "language_info": {
   "codemirror_mode": {
    "name": "ipython",
    "version": 3
   },
   "file_extension": ".py",
   "mimetype": "text/x-python",
   "name": "python",
   "nbconvert_exporter": "python",
   "pygments_lexer": "ipython3",
   "version": "3.6.7"
  }
 },
 "nbformat": 4,
 "nbformat_minor": 2
}
