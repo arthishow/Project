{
 "cells": [
  {
   "cell_type": "markdown",
   "metadata": {},
   "source": [
    "# ADA - Final project\n",
    "This notebook aims at giving technical explanations necessary to understand how the results given in the final report were found.\n",
    "\n",
    "First off, the following commands allow you to retrieve the data necessary to run this notebook locally from the cluster used for this class.\n",
    "1. Upload the files script.sh and script.py using the following command:  \n",
    "```bash \n",
    "scp -r -p /path/to/script.py GASPAR@iccluster028.iccluster.epfl.ch:/home/GASPAR/script.py  \n",
    "scp -r -p /path/to/script.sh GASPAR@iccluster028.iccluster.epfl.ch:/home/GASPAR/script.sh\n",
    "```\n",
    "2. Connect to the cluster using a second terminal and run the scripts:  \n",
    "```bash \n",
    "ssh GASPAR@iccluster028.iccluster.epfl.ch  \n",
    "sh script.sh script.py  \n",
    "```\n",
    "3. Store the output in the home folder:  \n",
    "```bash \n",
    "hadoop fs -get /user/GASPAR/politics_2016_* file:///home/GASPAR\n",
    "```\n",
    "4. Download the data locally using the first terminal:  \n",
    "```bash \n",
    "scp -r GASPAR@iccluster028.iccluster.epfl.ch:/home/GASPAR/politics_2016_* /local/path/to/folder\n",
    "```\n",
    "\n",
    "The retrieved dataset consists of several different features listed below:\n",
    "* **author**: The username of the author of the comment.\n",
    "* **author_flair_text**: Users can pick so-called *flairs* which are basically tags intended to briefly summarize the user.  They're different for each subreddit, and users can only pick one per subreddit.\n",
    "* **body**: The content of the comment.\n",
    "* **created_utc**: The date at which the comment was originally posted.\n",
    "* **gilded**: Denotes if the comment received a gold. A gold is a form of gratification users can give one another. They're not common because gilding someone costs money.\n",
    "* **id**: A unique ID that defines the comment.\n",
    "* **link_id**: A unique ID that determines the post in which the comment was posted to.\n",
    "* **parent_id**: A unique ID that determines to what the comment is responding to. If it starts with *t1*, the comment is a response to another comment. If it starts with *t3*, the comment is responding directly to the original post.\n",
    "* **score**: The number of upvotes minus the number of downvotes the comment received.\n"
   ]
  },
  {
   "cell_type": "markdown",
   "metadata": {},
   "source": [
    "## Imports"
   ]
  },
  {
   "cell_type": "code",
   "execution_count": 1,
   "metadata": {},
   "outputs": [],
   "source": [
    "import nltk\n",
    "import re\n",
    "import string\n",
    "import json\n",
    "import folium\n",
    "import numpy as np\n",
    "import pandas as pd\n",
    "import matplotlib.pyplot as plt\n",
    "import warnings\n",
    "warnings.filterwarnings(\"ignore\")\n",
    "from nltk.corpus import stopwords \n",
    "from nltk.sentiment.vader import SentimentIntensityAnalyzer\n",
    "\n",
    "%matplotlib inline"
   ]
  },
  {
   "cell_type": "markdown",
   "metadata": {},
   "source": [
    "## Loading data"
   ]
  },
  {
   "cell_type": "code",
   "execution_count": 2,
   "metadata": {},
   "outputs": [],
   "source": [
    "DATA_PATH = 'data/'"
   ]
  },
  {
   "cell_type": "code",
   "execution_count": 3,
   "metadata": {},
   "outputs": [],
   "source": [
    "states = pd.read_csv(DATA_PATH + 'states.csv')"
   ]
  },
  {
   "cell_type": "code",
   "execution_count": 4,
   "metadata": {},
   "outputs": [],
   "source": [
    "politics_06 = pd.read_parquet(DATA_PATH + 'politics_2016_06/')\n",
    "politics_07 = pd.read_parquet(DATA_PATH + 'politics_2016_07/')\n",
    "politics_08 = pd.read_parquet(DATA_PATH + 'politics_2016_08/')\n",
    "politics_09 = pd.read_parquet(DATA_PATH + 'politics_2016_09/')\n",
    "politics_10 = pd.read_parquet(DATA_PATH + 'politics_2016_10/')\n",
    "politics_11 = pd.read_parquet(DATA_PATH + 'politics_2016_11/')"
   ]
  },
  {
   "cell_type": "markdown",
   "metadata": {},
   "source": [
    "## Cleaning data\n",
    "Features are converted into appropriate format and redundant data is removed as well.  \n",
    "\n",
    "Note that it is possible to retrieve if the comment was responding to a post or to another comment by matching *link_id* and *parent_id*."
   ]
  },
  {
   "cell_type": "code",
   "execution_count": 5,
   "metadata": {},
   "outputs": [],
   "source": [
    "# created_utc is converted to the datetime format\n",
    "politics_06['created_utc'] = pd.to_datetime(politics_06['created_utc'], unit='s')\n",
    "politics_07['created_utc'] = pd.to_datetime(politics_07['created_utc'], unit='s')\n",
    "politics_08['created_utc'] = pd.to_datetime(politics_08['created_utc'], unit='s')\n",
    "politics_09['created_utc'] = pd.to_datetime(politics_09['created_utc'], unit='s')\n",
    "politics_10['created_utc'] = pd.to_datetime(politics_10['created_utc'], unit='s')\n",
    "politics_11['created_utc'] = pd.to_datetime(politics_11['created_utc'], unit='s')\n",
    "\n",
    "# author_flair_text is converted to a category\n",
    "politics_06['author_flair_text'] = politics_06['author_flair_text'].astype('category')\n",
    "politics_07['author_flair_text'] = politics_07['author_flair_text'].astype('category')\n",
    "politics_08['author_flair_text'] = politics_08['author_flair_text'].astype('category')\n",
    "politics_09['author_flair_text'] = politics_09['author_flair_text'].astype('category')\n",
    "politics_10['author_flair_text'] = politics_10['author_flair_text'].astype('category')\n",
    "politics_11['author_flair_text'] = politics_11['author_flair_text'].astype('category')\n",
    "\n",
    "# remove unnecessary information in link_id and parent_id\n",
    "politics_06['link_id'] = politics_06['link_id'].str.slice(3)\n",
    "politics_07['link_id'] = politics_07['link_id'].str.slice(3)\n",
    "politics_08['link_id'] = politics_08['link_id'].str.slice(3)\n",
    "politics_09['link_id'] = politics_09['link_id'].str.slice(3)\n",
    "politics_10['link_id'] = politics_10['link_id'].str.slice(3)\n",
    "politics_11['link_id'] = politics_11['link_id'].str.slice(3)\n",
    "politics_06['parent_id'] = politics_06['parent_id'].str.slice(3)\n",
    "politics_07['parent_id'] = politics_07['parent_id'].str.slice(3)\n",
    "politics_08['parent_id'] = politics_08['parent_id'].str.slice(3)\n",
    "politics_09['parent_id'] = politics_09['parent_id'].str.slice(3)\n",
    "politics_10['parent_id'] = politics_10['parent_id'].str.slice(3)\n",
    "politics_11['parent_id'] = politics_11['parent_id'].str.slice(3)\n"
   ]
  },
  {
   "cell_type": "code",
   "execution_count": 6,
   "metadata": {},
   "outputs": [
    {
     "data": {
      "text/html": [
       "<div>\n",
       "<style scoped>\n",
       "    .dataframe tbody tr th:only-of-type {\n",
       "        vertical-align: middle;\n",
       "    }\n",
       "\n",
       "    .dataframe tbody tr th {\n",
       "        vertical-align: top;\n",
       "    }\n",
       "\n",
       "    .dataframe thead th {\n",
       "        text-align: right;\n",
       "    }\n",
       "</style>\n",
       "<table border=\"1\" class=\"dataframe\">\n",
       "  <thead>\n",
       "    <tr style=\"text-align: right;\">\n",
       "      <th></th>\n",
       "      <th>author</th>\n",
       "      <th>author_flair_text</th>\n",
       "      <th>body</th>\n",
       "      <th>created_utc</th>\n",
       "      <th>gilded</th>\n",
       "      <th>id</th>\n",
       "      <th>link_id</th>\n",
       "      <th>parent_id</th>\n",
       "      <th>score</th>\n",
       "    </tr>\n",
       "  </thead>\n",
       "  <tbody>\n",
       "    <tr>\n",
       "      <th>1266125</th>\n",
       "      <td>Jonowar</td>\n",
       "      <td>NaN</td>\n",
       "      <td>I'm sure they were just exchanging Hooli IDs s...</td>\n",
       "      <td>2016-06-30 06:12:01</td>\n",
       "      <td>0</td>\n",
       "      <td>d4tnlg9</td>\n",
       "      <td>4qio61</td>\n",
       "      <td>4qio61</td>\n",
       "      <td>3</td>\n",
       "    </tr>\n",
       "    <tr>\n",
       "      <th>1134057</th>\n",
       "      <td>JumpingJazzJam</td>\n",
       "      <td>NaN</td>\n",
       "      <td>Anything that is political or economic ~~or~~ ...</td>\n",
       "      <td>2016-06-26 02:40:46</td>\n",
       "      <td>0</td>\n",
       "      <td>d4o7vb9</td>\n",
       "      <td>4pvlzj</td>\n",
       "      <td>d4o7mf4</td>\n",
       "      <td>2</td>\n",
       "    </tr>\n",
       "  </tbody>\n",
       "</table>\n",
       "</div>"
      ],
      "text/plain": [
       "                 author author_flair_text  \\\n",
       "1266125         Jonowar               NaN   \n",
       "1134057  JumpingJazzJam               NaN   \n",
       "\n",
       "                                                      body  \\\n",
       "1266125  I'm sure they were just exchanging Hooli IDs s...   \n",
       "1134057  Anything that is political or economic ~~or~~ ...   \n",
       "\n",
       "                created_utc  gilded       id link_id parent_id  score  \n",
       "1266125 2016-06-30 06:12:01       0  d4tnlg9  4qio61    4qio61      3  \n",
       "1134057 2016-06-26 02:40:46       0  d4o7vb9  4pvlzj   d4o7mf4      2  "
      ]
     },
     "execution_count": 6,
     "metadata": {},
     "output_type": "execute_result"
    }
   ],
   "source": [
    "politics_06.sample(2).head()"
   ]
  },
  {
   "cell_type": "markdown",
   "metadata": {},
   "source": [
    "Dataframes for each month are then concatenated into one massive Dataframe whose data types are just as expected."
   ]
  },
  {
   "cell_type": "code",
   "execution_count": 7,
   "metadata": {},
   "outputs": [],
   "source": [
    "politics = pd.concat([politics_06, politics_07, politics_08, politics_09, politics_10, politics_11]).reset_index(drop=True)\n",
    "politics['author_flair_text'] = politics['author_flair_text'].astype('category') #necessary to do it again"
   ]
  },
  {
   "cell_type": "code",
   "execution_count": 8,
   "metadata": {
    "scrolled": true
   },
   "outputs": [
    {
     "data": {
      "text/plain": [
       "author                       object\n",
       "author_flair_text          category\n",
       "body                         object\n",
       "created_utc          datetime64[ns]\n",
       "gilded                        int64\n",
       "id                           object\n",
       "link_id                      object\n",
       "parent_id                    object\n",
       "score                         int64\n",
       "dtype: object"
      ]
     },
     "execution_count": 8,
     "metadata": {},
     "output_type": "execute_result"
    }
   ],
   "source": [
    "politics.dtypes"
   ]
  },
  {
   "cell_type": "code",
   "execution_count": 9,
   "metadata": {},
   "outputs": [
    {
     "data": {
      "text/html": [
       "<div>\n",
       "<style scoped>\n",
       "    .dataframe tbody tr th:only-of-type {\n",
       "        vertical-align: middle;\n",
       "    }\n",
       "\n",
       "    .dataframe tbody tr th {\n",
       "        vertical-align: top;\n",
       "    }\n",
       "\n",
       "    .dataframe thead th {\n",
       "        text-align: right;\n",
       "    }\n",
       "</style>\n",
       "<table border=\"1\" class=\"dataframe\">\n",
       "  <thead>\n",
       "    <tr style=\"text-align: right;\">\n",
       "      <th></th>\n",
       "      <th>gilded</th>\n",
       "      <th>score</th>\n",
       "    </tr>\n",
       "  </thead>\n",
       "  <tbody>\n",
       "    <tr>\n",
       "      <th>count</th>\n",
       "      <td>1.086033e+07</td>\n",
       "      <td>1.086033e+07</td>\n",
       "    </tr>\n",
       "    <tr>\n",
       "      <th>mean</th>\n",
       "      <td>3.835981e-04</td>\n",
       "      <td>6.766324e+00</td>\n",
       "    </tr>\n",
       "    <tr>\n",
       "      <th>std</th>\n",
       "      <td>2.441999e-02</td>\n",
       "      <td>5.706394e+01</td>\n",
       "    </tr>\n",
       "    <tr>\n",
       "      <th>min</th>\n",
       "      <td>0.000000e+00</td>\n",
       "      <td>-8.620000e+02</td>\n",
       "    </tr>\n",
       "    <tr>\n",
       "      <th>25%</th>\n",
       "      <td>0.000000e+00</td>\n",
       "      <td>1.000000e+00</td>\n",
       "    </tr>\n",
       "    <tr>\n",
       "      <th>50%</th>\n",
       "      <td>0.000000e+00</td>\n",
       "      <td>1.000000e+00</td>\n",
       "    </tr>\n",
       "    <tr>\n",
       "      <th>75%</th>\n",
       "      <td>0.000000e+00</td>\n",
       "      <td>4.000000e+00</td>\n",
       "    </tr>\n",
       "    <tr>\n",
       "      <th>max</th>\n",
       "      <td>1.400000e+01</td>\n",
       "      <td>1.901100e+04</td>\n",
       "    </tr>\n",
       "  </tbody>\n",
       "</table>\n",
       "</div>"
      ],
      "text/plain": [
       "             gilded         score\n",
       "count  1.086033e+07  1.086033e+07\n",
       "mean   3.835981e-04  6.766324e+00\n",
       "std    2.441999e-02  5.706394e+01\n",
       "min    0.000000e+00 -8.620000e+02\n",
       "25%    0.000000e+00  1.000000e+00\n",
       "50%    0.000000e+00  1.000000e+00\n",
       "75%    0.000000e+00  4.000000e+00\n",
       "max    1.400000e+01  1.901100e+04"
      ]
     },
     "execution_count": 9,
     "metadata": {},
     "output_type": "execute_result"
    }
   ],
   "source": [
    "politics.describe()"
   ]
  },
  {
   "cell_type": "markdown",
   "metadata": {},
   "source": [
    "## Visualizing the Data"
   ]
  },
  {
   "cell_type": "markdown",
   "metadata": {},
   "source": [
    "To get a feel for the dataset, a histogram with the number of comments for each day is plotted."
   ]
  },
  {
   "cell_type": "code",
   "execution_count": 10,
   "metadata": {
    "scrolled": false
   },
   "outputs": [],
   "source": [
    "# computation of the number of days the dataset spans\n",
    "days = (politics.iloc[-1].created_utc - politics.iloc[0].created_utc).days + 1"
   ]
  },
  {
   "cell_type": "code",
   "execution_count": 11,
   "metadata": {},
   "outputs": [
    {
     "data": {
      "image/png": "[encoded data removed]",
      "text/plain": [
       "<Figure size 1080x360 with 1 Axes>"
      ]
     },
     "metadata": {
      "needs_background": "light"
     },
     "output_type": "display_data"
    }
   ],
   "source": [
    "plt.figure(figsize=(15,5))\n",
    "plt.grid()\n",
    "plt.hist(politics['created_utc'], bins=days)\n",
    "plt.ylabel('Number of comments')\n",
    "plt.xlabel('Time')\n",
    "plt.title(\"Distribution of the comments' date of creation\")\n",
    "plt.show()"
   ]
  },
  {
   "cell_type": "markdown",
   "metadata": {},
   "source": [
    "A histogram with the number of comments according to the score is can be found below."
   ]
  },
  {
   "cell_type": "code",
   "execution_count": 12,
   "metadata": {},
   "outputs": [
    {
     "data": {
      "image/png": "[encoded data removed]",
      "text/plain": [
       "<Figure size 1080x360 with 1 Axes>"
      ]
     },
     "metadata": {
      "needs_background": "light"
     },
     "output_type": "display_data"
    }
   ],
   "source": [
    "plt.figure(figsize=(15,5))\n",
    "plt.grid()\n",
    "plt.hist(politics['score'], bins=1000, log=True)\n",
    "plt.ylabel('Number of comments')\n",
    "plt.xlabel('Score')\n",
    "plt.title(\"Distribution of the comments' score\")\n",
    "plt.show()"
   ]
  },
  {
   "cell_type": "code",
   "execution_count": 13,
   "metadata": {
    "scrolled": true
   },
   "outputs": [
    {
     "data": {
      "text/html": [
       "<div>\n",
       "<style scoped>\n",
       "    .dataframe tbody tr th:only-of-type {\n",
       "        vertical-align: middle;\n",
       "    }\n",
       "\n",
       "    .dataframe tbody tr th {\n",
       "        vertical-align: top;\n",
       "    }\n",
       "\n",
       "    .dataframe thead th {\n",
       "        text-align: right;\n",
       "    }\n",
       "</style>\n",
       "<table border=\"1\" class=\"dataframe\">\n",
       "  <thead>\n",
       "    <tr style=\"text-align: right;\">\n",
       "      <th></th>\n",
       "      <th>author</th>\n",
       "      <th>author_flair_text</th>\n",
       "      <th>body</th>\n",
       "      <th>created_utc</th>\n",
       "      <th>gilded</th>\n",
       "      <th>id</th>\n",
       "      <th>link_id</th>\n",
       "      <th>parent_id</th>\n",
       "      <th>score</th>\n",
       "    </tr>\n",
       "  </thead>\n",
       "  <tbody>\n",
       "    <tr>\n",
       "      <th>2565038</th>\n",
       "      <td>duffmanhb</td>\n",
       "      <td>NaN</td>\n",
       "      <td>There are definitely shills around here. Just ...</td>\n",
       "      <td>2016-07-26 11:15:44</td>\n",
       "      <td>0</td>\n",
       "      <td>d5rbhbd</td>\n",
       "      <td>4ums74</td>\n",
       "      <td>d5r2oa7</td>\n",
       "      <td>0</td>\n",
       "    </tr>\n",
       "    <tr>\n",
       "      <th>3293969</th>\n",
       "      <td>mwsomerset</td>\n",
       "      <td>NaN</td>\n",
       "      <td>By her dad?</td>\n",
       "      <td>2016-08-04 06:59:25</td>\n",
       "      <td>0</td>\n",
       "      <td>d63misl</td>\n",
       "      <td>4w2pey</td>\n",
       "      <td>4w2pey</td>\n",
       "      <td>2</td>\n",
       "    </tr>\n",
       "  </tbody>\n",
       "</table>\n",
       "</div>"
      ],
      "text/plain": [
       "             author author_flair_text  \\\n",
       "2565038   duffmanhb               NaN   \n",
       "3293969  mwsomerset               NaN   \n",
       "\n",
       "                                                      body  \\\n",
       "2565038  There are definitely shills around here. Just ...   \n",
       "3293969                                        By her dad?   \n",
       "\n",
       "                created_utc  gilded       id link_id parent_id  score  \n",
       "2565038 2016-07-26 11:15:44       0  d5rbhbd  4ums74   d5r2oa7      0  \n",
       "3293969 2016-08-04 06:59:25       0  d63misl  4w2pey    4w2pey      2  "
      ]
     },
     "execution_count": 13,
     "metadata": {},
     "output_type": "execute_result"
    }
   ],
   "source": [
    "politics.sample(2).head()"
   ]
  },
  {
   "cell_type": "code",
   "execution_count": 14,
   "metadata": {},
   "outputs": [
    {
     "data": {
      "text/plain": [
       "(10860326, 9)"
      ]
     },
     "execution_count": 14,
     "metadata": {},
     "output_type": "execute_result"
    }
   ],
   "source": [
    "politics.shape"
   ]
  },
  {
   "cell_type": "markdown",
   "metadata": {},
   "source": [
    "## Data Processing"
   ]
  },
  {
   "cell_type": "markdown",
   "metadata": {},
   "source": [
    "Unfortunately, the dataset being too big to be dealt with efficiently locally, a decision was taken to have a second dataset with reduced size by sampling the original one so that further operations on it takes an appropriate execution time."
   ]
  },
  {
   "cell_type": "code",
   "execution_count": 15,
   "metadata": {},
   "outputs": [],
   "source": [
    "politics_outliers = politics[(politics['score'] > 175) | (politics['score'] < -20)]\n",
    "politics_sample = politics[(politics['score'] <= 175) & (politics['score'] >= -20)].sample(frac=0.01, random_state=23)"
   ]
  },
  {
   "cell_type": "code",
   "execution_count": 16,
   "metadata": {},
   "outputs": [
    {
     "data": {
      "text/plain": [
       "(102145, 9)"
      ]
     },
     "execution_count": 16,
     "metadata": {},
     "output_type": "execute_result"
    }
   ],
   "source": [
    "politics_outliers.shape"
   ]
  },
  {
   "cell_type": "code",
   "execution_count": 17,
   "metadata": {},
   "outputs": [
    {
     "data": {
      "text/plain": [
       "(107582, 9)"
      ]
     },
     "execution_count": 17,
     "metadata": {},
     "output_type": "execute_result"
    }
   ],
   "source": [
    "politics_sample.shape"
   ]
  },
  {
   "cell_type": "code",
   "execution_count": 18,
   "metadata": {},
   "outputs": [
    {
     "data": {
      "text/plain": [
       "(209727, 9)"
      ]
     },
     "execution_count": 18,
     "metadata": {},
     "output_type": "execute_result"
    }
   ],
   "source": [
    "politics_lite = pd.concat([politics_outliers, politics_sample]).reset_index(drop=True)\n",
    "politics_lite.shape"
   ]
  },
  {
   "cell_type": "markdown",
   "metadata": {},
   "source": [
    "For further analysis, the set of commments whose author has a *flair* matching one of the 50 states of the United States of America is retrieved."
   ]
  },
  {
   "cell_type": "code",
   "execution_count": null,
   "metadata": {
    "scrolled": false
   },
   "outputs": [
    {
     "name": "stdout",
     "output_type": "stream",
     "text": [
      "{'District Of Columbia', 'North Carolina', 'Washington', 'Matt Mitchell, founder of CryptoHarlem', 'Alexander Zaitchik, author of \"The Gilded Rage\"', 'New York', 'Popcorn', 'America', 'Oklahoma', 'America’s favorite democracy holiday', 'Virginia', 'Popcorn Express', 'Indiana', 'Vermont', 'New Jersey', 'No on 66', 'Scott Wiener (D-CA)', 'Delaware', 'Eliot Nelson, Huffington Post political reporter', 'Louisiana', 'Republic of Popcornia', 'New Mexico', 'Alex Merced (L-NY)', 'Michigan', 'Mayor Matthew Avitabile (Middleburgh, NY)', 'New Hampshire', 'AZ Healthy Working Families', 'Evan Siegfried, author of \"GOP GPS\"', 'Nevada', 'North Dakota', 'Pamela Smith, President of Verified Voting', 'Libby Babbott-Klein, NWWA', 'Kieran Fitzgerald, co-writer of \"Snowden\"', 'Alabama', 'Sara Tabatabaie, Digital Manager of Rock The Vote', 'Rhode Island', 'Hector Sigala, NWWA', 'Steve Gladstone (I-MD)', 'No On 61', 'Retain A Just Nebraska', 'Foreign', 'Margaret Stock, AK senate candidate (I)', 'Jim Burke (D-TX)', 'Illinois', 'abolition.org', 'Kansas', 'Maine', 'Keep Colorado Working', 'Chris Cataldo (MA)', 'Chad Marlow, Advocacy and Policy Counsel at ACLU', 'Guam', 'Commissioner Walter Deleon (DC)', 'Zephyr Teachout (D-NY)', 'Mississippi', 'Georgia', 'Arkansas', 'Utah', 'Idaho', 'Matt Welch, Reason Magazine Editor at Large', 'Nicholas Schou, author of \"Spooked\"', 'Wyoming', 'ColoradoCare YES', 'extra butter', 'District Of Colombia', 'David Daley, Author - \"Ratf**ked\"', 'American Civil Liberties Union', 'West Virginia', 'Massachusetts', 'Colorado', 'Dan Rolle (D-NV)', 'Josh Hendler, NWWA', 'Josh Marshall, Talking Points Memo founder', 'Northern Marianas', 'Colorado Families for a Fair Wage', 'Rosy Kalfus, NWWA', 'Florida', 'Ken Bone', 'Hawaii', 'Arizona', 'Kentucky', 'Steve Gladstone', 'American Samoa', 'Harri Hursti, creator of the Hursti Hack', 'South Carolina', 'Sen. Bob Casey (D-PA)', 'South Dakota', 'Montana', 'H.A. Goodman', 'KNOW 1-491', 'NORML', 'Russ Feingold (D-WI)', 'Popcorn with extra salt.', 'California', 'Texas', 'Alaska', 'Om nom nom', 'California | the AMA guy', 'Maine Ranked Choice Voting Campaign', 'Tennessee', 'Missouri', ' Beau Kilmer, Co-Director of RAND Drug Policy Research Center', 'Gloria La Riva, 2016 Socialist candidate for president', 'Nebraska', 'Puerto Rico', 'Damien LaVera NWWA', 'Sr. Economic Analyst', 'Ohio', 'Eddie Goldberg, author of \"Joint Ventured Nation\"', 'Jesse Ventura (I-MN)', 'I voted', 'Maryland', 'Maria Teresa Kumar, CEO of Voto Latino', 'Wisconsin', 'Pennsylvania', 'Iowa', 'Connecticut', 'Mainers for Fair Wages', 'Minnesota', 'Oregon'}\n",
      "119\n"
     ]
    }
   ],
   "source": [
    "print(set(politics['author_flair_text'].dropna()))\n",
    "print(len(set(politics['author_flair_text'].dropna())))"
   ]
  },
  {
   "cell_type": "code",
   "execution_count": null,
   "metadata": {
    "scrolled": true
   },
   "outputs": [],
   "source": [
    "state_full = set(np.array(states['State']))\n",
    "abbreviation = set(np.array(states['Abbreviation']))"
   ]
  },
  {
   "cell_type": "code",
   "execution_count": null,
   "metadata": {
    "scrolled": true
   },
   "outputs": [
    {
     "name": "stdout",
     "output_type": "stream",
     "text": [
      "(214934, 9)\n"
     ]
    },
    {
     "data": {
      "text/html": [
       "<div>\n",
       "<style scoped>\n",
       "    .dataframe tbody tr th:only-of-type {\n",
       "        vertical-align: middle;\n",
       "    }\n",
       "\n",
       "    .dataframe tbody tr th {\n",
       "        vertical-align: top;\n",
       "    }\n",
       "\n",
       "    .dataframe thead th {\n",
       "        text-align: right;\n",
       "    }\n",
       "</style>\n",
       "<table border=\"1\" class=\"dataframe\">\n",
       "  <thead>\n",
       "    <tr style=\"text-align: right;\">\n",
       "      <th></th>\n",
       "      <th>author</th>\n",
       "      <th>author_flair_text</th>\n",
       "      <th>body</th>\n",
       "      <th>created_utc</th>\n",
       "      <th>gilded</th>\n",
       "      <th>id</th>\n",
       "      <th>link_id</th>\n",
       "      <th>parent_id</th>\n",
       "      <th>score</th>\n",
       "    </tr>\n",
       "  </thead>\n",
       "  <tbody>\n",
       "    <tr>\n",
       "      <th>6270753</th>\n",
       "      <td>felesroo</td>\n",
       "      <td>Kansas</td>\n",
       "      <td>He's a free-thinking independent who happens t...</td>\n",
       "      <td>2016-10-02 17:02:29</td>\n",
       "      <td>0</td>\n",
       "      <td>d8ay1ka</td>\n",
       "      <td>55igo5</td>\n",
       "      <td>d8awe7y</td>\n",
       "      <td>21</td>\n",
       "    </tr>\n",
       "    <tr>\n",
       "      <th>10819277</th>\n",
       "      <td>Antidote</td>\n",
       "      <td>California</td>\n",
       "      <td>Its honestly like he's hiring liquidators... t...</td>\n",
       "      <td>2016-11-30 13:59:45</td>\n",
       "      <td>0</td>\n",
       "      <td>dam0dud</td>\n",
       "      <td>5fmuaf</td>\n",
       "      <td>dalpmqg</td>\n",
       "      <td>7</td>\n",
       "    </tr>\n",
       "    <tr>\n",
       "      <th>6437867</th>\n",
       "      <td>reptile7383</td>\n",
       "      <td>Ohio</td>\n",
       "      <td>Where did you find this?</td>\n",
       "      <td>2016-10-05 03:45:35</td>\n",
       "      <td>0</td>\n",
       "      <td>d8ekyx5</td>\n",
       "      <td>55xdek</td>\n",
       "      <td>d8ek71w</td>\n",
       "      <td>7</td>\n",
       "    </tr>\n",
       "  </tbody>\n",
       "</table>\n",
       "</div>"
      ],
      "text/plain": [
       "               author author_flair_text  \\\n",
       "6270753      felesroo            Kansas   \n",
       "10819277     Antidote        California   \n",
       "6437867   reptile7383              Ohio   \n",
       "\n",
       "                                                       body  \\\n",
       "6270753   He's a free-thinking independent who happens t...   \n",
       "10819277  Its honestly like he's hiring liquidators... t...   \n",
       "6437867                            Where did you find this?   \n",
       "\n",
       "                 created_utc  gilded       id link_id parent_id  score  \n",
       "6270753  2016-10-02 17:02:29       0  d8ay1ka  55igo5   d8awe7y     21  \n",
       "10819277 2016-11-30 13:59:45       0  dam0dud  5fmuaf   dalpmqg      7  \n",
       "6437867  2016-10-05 03:45:35       0  d8ekyx5  55xdek   d8ek71w      7  "
      ]
     },
     "execution_count": 21,
     "metadata": {},
     "output_type": "execute_result"
    }
   ],
   "source": [
    "flair_politics = politics[politics['author_flair_text'].isin(state_full) | politics['author_flair_text'].isin(abbreviation)]\n",
    "print(flair_politics.shape)\n",
    "flair_politics.sample(3).head()"
   ]
  },
  {
   "cell_type": "code",
   "execution_count": null,
   "metadata": {},
   "outputs": [
    {
     "name": "stdout",
     "output_type": "stream",
     "text": [
      "['North Carolina', 'Washington', 'California', 'Texas', 'Alaska', 'Wyoming', 'New York', 'Oklahoma', 'Tennessee', 'Alabama', 'Missouri', 'Virginia', 'West Virginia', 'Massachusetts', 'Colorado', 'Indiana', 'Rhode Island', 'Vermont', 'Nebraska', 'New Jersey', 'Montana', 'Florida', 'Illinois', 'Hawaii', 'Arizona', 'Kentucky', 'Delaware', 'Kansas', 'Ohio', 'Maine', 'Louisiana', 'Arkansas', 'Maryland', 'New Mexico', 'Michigan', 'South Carolina', 'Wisconsin', 'Pennsylvania', 'Iowa', 'Connecticut', 'New Hampshire', 'Mississippi', 'Georgia', 'Minnesota', 'South Dakota', 'Oregon', 'Nevada', 'North Dakota', 'Utah', 'Idaho']\n"
     ]
    },
    {
     "data": {
      "text/plain": [
       "50"
      ]
     },
     "execution_count": 22,
     "metadata": {},
     "output_type": "execute_result"
    }
   ],
   "source": [
    "state_list = list(set(flair_politics['author_flair_text']))\n",
    "print(state_list)\n",
    "len(state_list)"
   ]
  },
  {
   "cell_type": "markdown",
   "metadata": {},
   "source": [
    "Below, you'll find a few methods doing natural language processing - using the NLTK library - over the body of the comments. They allow named entity retrieval, sentiment analysis and word frequency computation."
   ]
  },
  {
   "cell_type": "code",
   "execution_count": null,
   "metadata": {
    "scrolled": false
   },
   "outputs": [],
   "source": [
    "def nlp_entity(body):\n",
    "    \"\"\"Creates a string with each named entity preceded by its corresponding tag and separated with a comma\"\"\"\n",
    "    entities = ''\n",
    "    for sent in nltk.sent_tokenize(body):\n",
    "        for chunk in nltk.ne_chunk(nltk.pos_tag(nltk.word_tokenize(sent))):\n",
    "            if hasattr(chunk, 'label'):\n",
    "                 entities += (chunk.label() + ' ' + ' '.join(c[0] for c in chunk) + ',' )\n",
    "    return entities[:-1]\n",
    "                \n",
    "def nlp_sentiment(body, sid=SentimentIntensityAnalyzer()):\n",
    "    \"\"\"Creates a string containing 4 numeric values corresponding to a sentiment analysis\n",
    "    oredered as such compound, neg, neu, pos separated by a comma.\"\"\"\n",
    "    ss = sid.polarity_scores(body)\n",
    "    sentiment = \"\"\n",
    "    for k in sorted(ss):\n",
    "        sentiment += '{},'.format(ss[k])\n",
    "    return sentiment[:-1]\n",
    "\n",
    "def nlp_wordcount(body, lemmatizer=nltk.WordNetLemmatizer(), stops=set(nltk.corpus.stopwords.words(\"english\"))):\n",
    "    \"\"\"Returns a dictionnary with words frequency easily plottable.\"\"\"\n",
    "    fdist = nltk.FreqDist()\n",
    "    body = body.translate(str.maketrans('','',string.punctuation))\n",
    "    tokens = nltk.word_tokenize(body)\n",
    "    filtered_words = [word for word in tokens if word not in stops and len(word) > 1]\n",
    "    for word in filtered_words:\n",
    "        fdist[lemmatizer.lemmatize(word.lower())] += 1      \n",
    "    return fdist\n",
    "\n",
    "def sentiment_to_label(sentiment):\n",
    "    \"\"\"Classify the sentiment as either Positive, Neutral or Negative according to its numeric values.\"\"\"\n",
    "    ss = sentiment.split(',')\n",
    "    compound = float(ss[0])\n",
    "    if (compound > 0.2):\n",
    "        return \"Positive\"\n",
    "    elif (compound < -0.2):\n",
    "        return \"Negative\"\n",
    "    else:\n",
    "        return \"Neutral\"\n",
    "    \n",
    "def get_word_count(df, sentiment):\n",
    "    \"\"\"Get the word count of a given DataFrame using only comments matching the given sentiment. \n",
    "    sentiment can be 'Positive', 'Negative', 'Neutral' or 'None' in which case the word count is computed\n",
    "    for the entire DataFrame.\"\"\"\n",
    "    if sentiment != 'None':\n",
    "        filtered_df = df[df['label'] == sentiment]\n",
    "    else:\n",
    "        filtered_df = df.copy()\n",
    "    fdists = list(filtered_df['wordcount'])\n",
    "    tot_fd = nltk.FreqDist()\n",
    "    for fdist in fdists:\n",
    "        for key in fdist:\n",
    "            tot_fd[key] += fdist.get(key)\n",
    "            \n",
    "    return tot_fd"
   ]
  },
  {
   "cell_type": "markdown",
   "metadata": {},
   "source": [
    "Below, an example to display these methods."
   ]
  },
  {
   "cell_type": "code",
   "execution_count": null,
   "metadata": {
    "scrolled": false
   },
   "outputs": [
    {
     "data": {
      "text/html": [
       "<div>\n",
       "<style scoped>\n",
       "    .dataframe tbody tr th:only-of-type {\n",
       "        vertical-align: middle;\n",
       "    }\n",
       "\n",
       "    .dataframe tbody tr th {\n",
       "        vertical-align: top;\n",
       "    }\n",
       "\n",
       "    .dataframe thead th {\n",
       "        text-align: right;\n",
       "    }\n",
       "</style>\n",
       "<table border=\"1\" class=\"dataframe\">\n",
       "  <thead>\n",
       "    <tr style=\"text-align: right;\">\n",
       "      <th></th>\n",
       "      <th>author</th>\n",
       "      <th>author_flair_text</th>\n",
       "      <th>body</th>\n",
       "      <th>created_utc</th>\n",
       "      <th>gilded</th>\n",
       "      <th>id</th>\n",
       "      <th>link_id</th>\n",
       "      <th>parent_id</th>\n",
       "      <th>score</th>\n",
       "      <th>entity</th>\n",
       "      <th>sentiment</th>\n",
       "      <th>wordcount</th>\n",
       "      <th>label</th>\n",
       "    </tr>\n",
       "  </thead>\n",
       "  <tbody>\n",
       "    <tr>\n",
       "      <th>5096760</th>\n",
       "      <td>antisocially_awkward</td>\n",
       "      <td>NaN</td>\n",
       "      <td>You can still sue ford in that situation, you ...</td>\n",
       "      <td>2016-09-13 20:36:00</td>\n",
       "      <td>0</td>\n",
       "      <td>d7lhyza</td>\n",
       "      <td>52lpmv</td>\n",
       "      <td>d7lhrap</td>\n",
       "      <td>3</td>\n",
       "      <td>PERSON Sandy</td>\n",
       "      <td>-0.8807,0.248,0.752,0.0</td>\n",
       "      <td>{'you': 1, 'still': 1, 'sue': 2, 'ford': 1, 's...</td>\n",
       "      <td>Negative</td>\n",
       "    </tr>\n",
       "  </tbody>\n",
       "</table>\n",
       "</div>"
      ],
      "text/plain": [
       "                       author author_flair_text  \\\n",
       "5096760  antisocially_awkward               NaN   \n",
       "\n",
       "                                                      body  \\\n",
       "5096760  You can still sue ford in that situation, you ...   \n",
       "\n",
       "                created_utc  gilded       id link_id parent_id  score  \\\n",
       "5096760 2016-09-13 20:36:00       0  d7lhyza  52lpmv   d7lhrap      3   \n",
       "\n",
       "               entity                sentiment  \\\n",
       "5096760  PERSON Sandy  -0.8807,0.248,0.752,0.0   \n",
       "\n",
       "                                                 wordcount     label  \n",
       "5096760  {'you': 1, 'still': 1, 'sue': 2, 'ford': 1, 's...  Negative  "
      ]
     },
     "execution_count": 24,
     "metadata": {},
     "output_type": "execute_result"
    }
   ],
   "source": [
    "sample = politics.sample(1).copy()\n",
    "sample['entity'] = sample['body'].apply(nlp_entity)\n",
    "sample['sentiment'] = sample['body'].apply(nlp_sentiment)\n",
    "sample['wordcount'] = sample['body'].apply(nlp_wordcount)\n",
    "sample['label'] = sample['sentiment'].apply(sentiment_to_label)\n",
    "sample"
   ]
  },
  {
   "cell_type": "code",
   "execution_count": null,
   "metadata": {
    "scrolled": false
   },
   "outputs": [
    {
     "data": {
      "image/png": "[encoded data removed]",
      "text/plain": [
       "<Figure size 432x288 with 1 Axes>"
      ]
     },
     "metadata": {
      "needs_background": "light"
     },
     "output_type": "display_data"
    }
   ],
   "source": [
    "nltk.FreqDist(dict(sample.iloc[0]['wordcount'].most_common(10))).plot()"
   ]
  },
  {
   "cell_type": "markdown",
   "metadata": {},
   "source": [
    "**Applying nlp methods to our sampled data sets to get the features necessary for the words analysis and prediction generation :**"
   ]
  },
  {
   "cell_type": "code",
   "execution_count": null,
   "metadata": {},
   "outputs": [],
   "source": [
    "flair_politics['entity'] = flair_politics['body'].apply(nlp_entity)\n",
    "flair_politics['sentiment'] = flair_politics['body'].apply(nlp_sentiment)\n",
    "flair_politics['wordcount'] = flair_politics['body'].apply(nlp_wordcount)\n",
    "flair_politics['label'] = flair_politics['sentiment'].apply(sentiment_to_label)"
   ]
  },
  {
   "cell_type": "markdown",
   "metadata": {},
   "source": [
    "Saving flair_politics to a parquet file for faster access."
   ]
  },
  {
   "cell_type": "code",
   "execution_count": null,
   "metadata": {},
   "outputs": [],
   "source": [
    "flair_politics.to_parquet(DATA_PATH + 'flair_politics.parquet')\n",
    "#flair_politics.to_parquet(DATA_PATH + 'flair_politics.parquet.gzip', compression='gzip')"
   ]
  },
  {
   "cell_type": "code",
   "execution_count": null,
   "metadata": {},
   "outputs": [],
   "source": [
    "flair_politics = pd.read_parquet(DATA_PATH + 'flair_politics.parquet')\n",
    "#flair_politics = pd.read_parquet(DATA_PATH + 'flair_politics.parquet.gzip')"
   ]
  },
  {
   "cell_type": "code",
   "execution_count": null,
   "metadata": {},
   "outputs": [],
   "source": [
    "flair_politics.sample(3)"
   ]
  },
  {
   "cell_type": "code",
   "execution_count": null,
   "metadata": {},
   "outputs": [],
   "source": [
    "politics_lite['entity'] = politics_lite['body'].apply(nlp_entity)\n",
    "politics_lite['sentiment'] = politics_lite['body'].apply(nlp_sentiment)\n",
    "politics_lite['label'] = politics_lite['sentiment'].apply(sentiment_to_label)"
   ]
  },
  {
   "cell_type": "markdown",
   "metadata": {},
   "source": [
    "Saving politics_lite to a parquet file for faster access."
   ]
  },
  {
   "cell_type": "code",
   "execution_count": null,
   "metadata": {},
   "outputs": [],
   "source": [
    "politics_lite.to_parquet(DATA_PATH + 'politics_lite.parquet')\n",
    "#politics_lite.to_parquet(DATA_PATH + 'politics_lite.parquet.gzip', compression='gzip')"
   ]
  },
  {
   "cell_type": "code",
   "execution_count": null,
   "metadata": {},
   "outputs": [],
   "source": [
    "politics_lite = pd.read_parquet(DATA_PATH + 'politics_lite.parquet')\n",
    "#politics_lite = pd.read_parquet(DATA_PATH + 'politics_lite.parquet.gzip')"
   ]
  },
  {
   "cell_type": "code",
   "execution_count": null,
   "metadata": {},
   "outputs": [],
   "source": [
    "politics_lite.sample(3)"
   ]
  },
  {
   "cell_type": "markdown",
   "metadata": {},
   "source": [
    "### What are the most used words in positive/negative comments?\n",
    "Using the previously defined methods, it is now possible to observe which words come up the more often in comments classified as either positive or negative. \n",
    "Since we cannot use all the comments of the politics comments, we used the politics_lite sample which contains the comments with the highest and lowest scores, combined with sampled comments in between. This data set contains 209727 comments. "
   ]
  },
  {
   "cell_type": "code",
   "execution_count": null,
   "metadata": {},
   "outputs": [],
   "source": [
    "politics_lite.shape"
   ]
  },
  {
   "cell_type": "code",
   "execution_count": null,
   "metadata": {},
   "outputs": [],
   "source": [
    "sorted_score = politics_lite.copy().sort_values(by=['score'], ascending=False)\n",
    "sorted_score.head(3)"
   ]
  },
  {
   "cell_type": "markdown",
   "metadata": {},
   "source": [
    "#### Word distribution of comments whose score is higher than a certain threshold : "
   ]
  },
  {
   "cell_type": "code",
   "execution_count": null,
   "metadata": {},
   "outputs": [],
   "source": [
    "score_threshold = 50\n",
    "high_score_comments = sorted_score[sorted_score['score'] > score_threshold].copy()\n",
    "high_score_comments.head(3)"
   ]
  },
  {
   "cell_type": "markdown",
   "metadata": {},
   "source": [
    "**For more interesting results, we remove the non letters, lowercase everything and remove the stopwords :**"
   ]
  },
  {
   "cell_type": "code",
   "execution_count": null,
   "metadata": {},
   "outputs": [],
   "source": [
    "def comment_to_words( raw_text ):\n",
    "    \"\"\"Function to convert a raw comment to a string of words\"\"\"\n",
    "    \n",
    "    # Remove non-letters        \n",
    "    letters_only = re.sub(\"[^a-zA-Z]\", \" \", raw_text) \n",
    "    \n",
    "    # Convert to lower case, split into individual words\n",
    "    words = letters_only.lower().split()                             \n",
    "    \n",
    "    # In Python, searching a set is much faster than searching a list, so convert the stop words to a set\n",
    "    stops = set(stopwords.words(\"english\"))                  \n",
    "     \n",
    "    # Remove stop words\n",
    "    meaningful_words = [w for w in words if not w in stops]\n",
    "    \n",
    "    # Join the words back into one string separated by space and return the result\n",
    "    return( \" \".join( meaningful_words )) \n",
    "\n",
    "high_score_comments['body'] = high_score_comments['body'].apply(comment_to_words)"
   ]
  },
  {
   "cell_type": "code",
   "execution_count": null,
   "metadata": {},
   "outputs": [],
   "source": [
    "high_score_comments['wordcount'] = high_score_comments['body'].apply(nlp_wordcount)\n",
    "high_score_comments.head(2)"
   ]
  },
  {
   "cell_type": "code",
   "execution_count": null,
   "metadata": {},
   "outputs": [],
   "source": [
    "word_positive_high_score = get_word_count(high_score_comments, 'Positive')\n",
    "word_negative_high_score = get_word_count(high_score_comments, 'Negative')\n",
    "word_count_high_score = get_word_count(high_score_comments, 'None')"
   ]
  },
  {
   "cell_type": "markdown",
   "metadata": {},
   "source": [
    "The most common words in comments with a high score deemed positive."
   ]
  },
  {
   "cell_type": "code",
   "execution_count": null,
   "metadata": {
    "scrolled": false
   },
   "outputs": [],
   "source": [
    "nltk.FreqDist(dict(word_positive_high_score.most_common(10))).plot()"
   ]
  },
  {
   "cell_type": "markdown",
   "metadata": {},
   "source": [
    "The most common words in comments with a high score deemed negative."
   ]
  },
  {
   "cell_type": "code",
   "execution_count": null,
   "metadata": {
    "scrolled": false
   },
   "outputs": [],
   "source": [
    "nltk.FreqDist(dict(word_negative_high_score.most_common(10))).plot()"
   ]
  },
  {
   "cell_type": "markdown",
   "metadata": {},
   "source": [
    "The most common words in all the comments with a high score."
   ]
  },
  {
   "cell_type": "code",
   "execution_count": null,
   "metadata": {},
   "outputs": [],
   "source": [
    "nltk.FreqDist(dict(word_count_high_score.most_common(10))).plot()"
   ]
  },
  {
   "cell_type": "markdown",
   "metadata": {},
   "source": [
    "#### Word distribution of comments whose score is below 0"
   ]
  },
  {
   "cell_type": "code",
   "execution_count": null,
   "metadata": {},
   "outputs": [],
   "source": [
    "low_score_comments = sorted_score[sorted_score['score'] < 0].copy()\n",
    "low_score_comments.head(3)"
   ]
  },
  {
   "cell_type": "code",
   "execution_count": null,
   "metadata": {},
   "outputs": [],
   "source": [
    "low_score_comments['body'] = low_score_comments['body'].apply(comment_to_words)\n",
    "low_score_comments['wordcount'] = low_score_comments['body'].apply(nlp_wordcount)\n",
    "low_score_comments.head(2)"
   ]
  },
  {
   "cell_type": "code",
   "execution_count": null,
   "metadata": {},
   "outputs": [],
   "source": [
    "word_positive_low_score = get_word_count(low_score_comments, 'Positive')\n",
    "word_negative_low_score = get_word_count(low_score_comments, 'Negative')\n",
    "word_count_low_score = get_word_count(low_score_comments, 'None')"
   ]
  },
  {
   "cell_type": "markdown",
   "metadata": {},
   "source": [
    "The most common words in comments with a score below 0 deemed positive."
   ]
  },
  {
   "cell_type": "code",
   "execution_count": null,
   "metadata": {},
   "outputs": [],
   "source": [
    "nltk.FreqDist(dict(word_positive_low_score.most_common(10))).plot()"
   ]
  },
  {
   "cell_type": "markdown",
   "metadata": {},
   "source": [
    "The most common words in comments with a score below 0 deemed negative."
   ]
  },
  {
   "cell_type": "code",
   "execution_count": null,
   "metadata": {},
   "outputs": [],
   "source": [
    "nltk.FreqDist(dict(word_negative_low_score.most_common(10))).plot()"
   ]
  },
  {
   "cell_type": "markdown",
   "metadata": {},
   "source": [
    "The most common words in all the comments with a score below 0."
   ]
  },
  {
   "cell_type": "code",
   "execution_count": null,
   "metadata": {},
   "outputs": [],
   "source": [
    "nltk.FreqDist(dict(word_count_low_score.most_common(10))).plot()"
   ]
  },
  {
   "cell_type": "markdown",
   "metadata": {},
   "source": [
    "#### Comparing high and low score comments\n",
    "By comparing word frequencies, words that appear only in low/high score comments can be retrieved, as well as words that appear in both type of comments. By low score comments, comments with a score below 0 is meant."
   ]
  },
  {
   "cell_type": "code",
   "execution_count": null,
   "metadata": {},
   "outputs": [],
   "source": [
    "both = nltk.FreqDist()\n",
    "good_only = nltk.FreqDist()\n",
    "for word in word_count_high_score:\n",
    "    if word in word_count_low_score:\n",
    "        both[word] += word_count_high_score.get(word) + word_count_low_score.get(word)\n",
    "    else:\n",
    "        good_only[word] = word_count_high_score.get(word)\n",
    "        \n",
    "bad_only = nltk.FreqDist()\n",
    "for word in word_count_low_score:\n",
    "    if word not in word_count_high_score:\n",
    "        bad_only[word] = word_count_low_score.get(word)"
   ]
  },
  {
   "cell_type": "markdown",
   "metadata": {},
   "source": [
    "The most common words appearing in both low and high score comments."
   ]
  },
  {
   "cell_type": "code",
   "execution_count": null,
   "metadata": {},
   "outputs": [],
   "source": [
    "nltk.FreqDist(dict(both.most_common(10))).plot()"
   ]
  },
  {
   "cell_type": "markdown",
   "metadata": {},
   "source": [
    "The most common words appearing in high score comments."
   ]
  },
  {
   "cell_type": "code",
   "execution_count": null,
   "metadata": {
    "scrolled": true
   },
   "outputs": [],
   "source": [
    "nltk.FreqDist(dict(good_only.most_common(10))).plot()"
   ]
  },
  {
   "cell_type": "markdown",
   "metadata": {},
   "source": [
    "The most common words appearing in low score comments."
   ]
  },
  {
   "cell_type": "code",
   "execution_count": null,
   "metadata": {},
   "outputs": [],
   "source": [
    "nltk.FreqDist(dict(bad_only.most_common(10))).plot()"
   ]
  },
  {
   "cell_type": "markdown",
   "metadata": {},
   "source": [
    "## Prediction maps generation "
   ]
  },
  {
   "cell_type": "markdown",
   "metadata": {},
   "source": [
    "**In this part, since we want to predict the outcom of the election for each state, we will only consider the comments with the flair set to a US state, so we will use the flair_politics data set.**"
   ]
  },
  {
   "cell_type": "code",
   "execution_count": null,
   "metadata": {},
   "outputs": [],
   "source": [
    "def get_score(row, candidate1, candidate2, out_states, score= False, weight = 1):\n",
    "    \"\"\"Function that computes the total score for a candidate, the one with the highest \n",
    "    score wins.\"\"\"\n",
    "    \n",
    "    current_state = row['author_flair_text']\n",
    "    firstName1=candidate1[0]\n",
    "    lastName1=candidate1[1]\n",
    "    firstName2=candidate2[0]\n",
    "    lastName2=candidate2[1]\n",
    "    if firstName1 in row['entity'] or lastName1 in row['entity']:\n",
    "        if row['label'] == 'Positive': \n",
    "            if score : \n",
    "                if weight<1 : \n",
    "                    out_states.loc[current_state, 'score_'+lastName1] += (1+(weight*row['score']))\n",
    "                else :\n",
    "                    out_states.loc[current_state, 'score_'+lastName1] += row['score']\n",
    "            else :\n",
    "                out_states.loc[current_state, 'score_'+lastName1] += 1\n",
    "        elif row['label'] == 'Negative':\n",
    "            if score : \n",
    "                if weight<1 : \n",
    "                    out_states.loc[current_state, 'score_'+lastName1] -= (1+(weight*row['score']))\n",
    "                else :\n",
    "                    out_states.loc[current_state, 'score_'+lastName1] -= row['score']\n",
    "            else :\n",
    "                out_states.loc[current_state, 'score_'+lastName1] -= 1\n",
    "    \n",
    "    if firstName2 in row['entity'] or lastName2 in row['entity']:\n",
    "        if row['label'] == 'Positive':          \n",
    "            if score : \n",
    "                if weight<1 : \n",
    "                    out_states.loc[current_state, 'score_'+lastName2] += (1+(weight*row['score']))\n",
    "                else :\n",
    "                    out_states.loc[current_state, 'score_'+lastName2] += row['score']\n",
    "            else :\n",
    "                out_states.loc[current_state, 'score_'+lastName2] += 1\n",
    "        elif row['label'] == 'Negative':\n",
    "            if score :\n",
    "                if weight<1 : \n",
    "                    out_states.loc[current_state, 'score_'+lastName2] -= (1+(weight*row['score']))\n",
    "                else :\n",
    "                    out_states.loc[current_state, 'score_'+lastName2] -= row['score']\n",
    "            else :\n",
    "                out_states.loc[current_state, 'score_'+lastName2] -= 1"
   ]
  },
  {
   "cell_type": "code",
   "execution_count": null,
   "metadata": {},
   "outputs": [],
   "source": [
    "def comp_winner(state_df):\n",
    "    \"\"\"Computes the winner feature, 1 if Trump won, 0 otherwise\"\"\"\n",
    "    \n",
    "    final_score = []\n",
    "    for state in state_df.index :\n",
    "        if (state_df.loc[state, 'score_Clinton']>state_df.loc[state, 'score_Trump']):\n",
    "            #0 if Clinton wins\n",
    "            final_score.append(0)\n",
    "        else :\n",
    "            #1 if Trump wins\n",
    "            final_score.append(1)\n",
    "    return final_score"
   ]
  },
  {
   "cell_type": "code",
   "execution_count": null,
   "metadata": {},
   "outputs": [],
   "source": [
    "real_results = pd.read_csv(DATA_PATH + 'US_Election_2016_results.csv')\n",
    "real_results.head(3)"
   ]
  },
  {
   "cell_type": "markdown",
   "metadata": {},
   "source": [
    "### 1. Disregarding comment scores : "
   ]
  },
  {
   "cell_type": "code",
   "execution_count": null,
   "metadata": {},
   "outputs": [],
   "source": [
    "state_df = states.copy()\n",
    "state_df.set_index('State', inplace=True)\n",
    "state_df.head()"
   ]
  },
  {
   "cell_type": "code",
   "execution_count": null,
   "metadata": {},
   "outputs": [],
   "source": [
    "state_df['score_Trump'] = 0\n",
    "state_df['score_Clinton'] = 0\n",
    "candidate1 = ['Donald', 'Trump']\n",
    "candidate2 = ['Hillary', 'Clinton']\n",
    "\n",
    "flair_politics.apply(get_score, candidate1=candidate1, candidate2=candidate2, out_states=state_df, axis=1)\n",
    "state_df['Winner'] = comp_winner(state_df)\n",
    "state_df.reset_index(inplace = True)\n",
    "state_df.set_index('Abbreviation', inplace=True)\n",
    "\n",
    "state_df.head()"
   ]
  },
  {
   "cell_type": "code",
   "execution_count": null,
   "metadata": {},
   "outputs": [],
   "source": [
    "winner_df = state_df[['Winner']]\n",
    "compare_df = real_results.merge(winner_df, how='outer', on = 'Abbreviation')\n",
    "compare_df.head(3)"
   ]
  },
  {
   "cell_type": "code",
   "execution_count": null,
   "metadata": {},
   "outputs": [],
   "source": [
    "differences = compare_df[compare_df.Winner.values != compare_df.Real_Winner.values]\n",
    "print(differences.shape[0])\n",
    "differences"
   ]
  },
  {
   "cell_type": "code",
   "execution_count": null,
   "metadata": {},
   "outputs": [],
   "source": [
    "def us_election_colors(state_df, state):\n",
    "    \"\"\"Maps Clinton wins to blue and Trump wins to red.\"\"\"\n",
    "    \n",
    "    clinton_win = state_df.loc[state, 'Winner'] == 0\n",
    "    if clinton_win:\n",
    "        return '#0000ff'\n",
    "    else:\n",
    "        return '#ff0000'"
   ]
  },
  {
   "cell_type": "code",
   "execution_count": null,
   "metadata": {},
   "outputs": [],
   "source": [
    "state_geo_path = DATA_PATH + r'us-states.json'\n",
    "geo_json_data = json.load(open(state_geo_path))\n",
    "\n",
    "results_map = folium.Map([43,-100], tiles='cartodbpositron', zoom_start=4)\n",
    "folium.GeoJson(\n",
    "    geo_json_data,\n",
    "    style_function=lambda feature: {\n",
    "        'fillColor': us_election_colors(state_df, feature['id']),\n",
    "        'color' : 'black',\n",
    "        'weight' : 2,\n",
    "        'dashArray' : '5, 5'\n",
    "        }\n",
    "    ).add_to(results_map)\n",
    "\n",
    "results_map"
   ]
  },
  {
   "cell_type": "code",
   "execution_count": null,
   "metadata": {},
   "outputs": [],
   "source": [
    "results_map.save('maps/US_Election_Prediction_2016.html')"
   ]
  },
  {
   "cell_type": "markdown",
   "metadata": {},
   "source": [
    "### 2. Using comment scores for prediction :"
   ]
  },
  {
   "cell_type": "code",
   "execution_count": null,
   "metadata": {},
   "outputs": [],
   "source": [
    "state_df2 = states.copy()\n",
    "state_df2.set_index('State', inplace=True)\n",
    "state_df2['score_Trump'] = 0\n",
    "state_df2['score_Clinton'] = 0\n",
    "\n",
    "flair_politics.apply(get_score, candidate1=candidate1, candidate2=candidate2, out_states=state_df2, score=True, axis=1)\n",
    "state_df2['Winner'] = comp_winner(state_df2)\n",
    "state_df2.reset_index(inplace = True)\n",
    "state_df2.set_index('Abbreviation', inplace=True)\n",
    "\n",
    "state_df2.head()"
   ]
  },
  {
   "cell_type": "code",
   "execution_count": null,
   "metadata": {},
   "outputs": [],
   "source": [
    "winner_df_score = state_df2[['Winner']]\n",
    "compare_df_score = real_results.merge(winner_df_score, how='outer', on = 'Abbreviation')\n",
    "compare_df_score.head(3)"
   ]
  },
  {
   "cell_type": "code",
   "execution_count": null,
   "metadata": {},
   "outputs": [],
   "source": [
    "differences_score = compare_df_score[compare_df_score.Winner.values != compare_df_score.Real_Winner.values]\n",
    "print(differences_score.shape[0])\n",
    "differences_score"
   ]
  },
  {
   "cell_type": "code",
   "execution_count": null,
   "metadata": {},
   "outputs": [],
   "source": [
    "results_map_score = folium.Map([43,-100], tiles='cartodbpositron', zoom_start=4)\n",
    "folium.GeoJson(\n",
    "    geo_json_data,\n",
    "    style_function=lambda feature: {\n",
    "        'fillColor': us_election_colors(state_df2, feature['id']),\n",
    "        'color' : 'black',\n",
    "        'weight' : 2,\n",
    "        'dashArray' : '5, 5'\n",
    "        }\n",
    "    ).add_to(results_map_score)\n",
    "\n",
    "results_map_score"
   ]
  },
  {
   "cell_type": "code",
   "execution_count": null,
   "metadata": {},
   "outputs": [],
   "source": [
    "results_map_score.save('maps/US_Election_Pred_Using_Scores_2016.html')"
   ]
  },
  {
   "cell_type": "markdown",
   "metadata": {},
   "source": [
    "### 3. Using weighted comment scores for prediction :"
   ]
  },
  {
   "cell_type": "code",
   "execution_count": null,
   "metadata": {},
   "outputs": [],
   "source": [
    "state_df3 = states.copy()\n",
    "state_df3.set_index('State', inplace=True)\n",
    "state_df3['score_Trump'] = 0\n",
    "state_df3['score_Clinton'] = 0\n",
    "\n",
    "flair_politics.apply(get_score, candidate1=candidate1, candidate2=candidate2, out_states=state_df3, score=True, weight = 0.1, axis=1)\n",
    "state_df3['Winner'] = comp_winner(state_df3)\n",
    "state_df3.reset_index(inplace = True)\n",
    "state_df3.set_index('Abbreviation', inplace=True)\n",
    "\n",
    "state_df3.head()"
   ]
  },
  {
   "cell_type": "code",
   "execution_count": null,
   "metadata": {},
   "outputs": [],
   "source": [
    "winner_df_weight_score = state_df3[['Winner']]\n",
    "compare_df_weight_score = real_results.merge(compare_df_weight_score, how='outer', on = 'Abbreviation')\n",
    "compare_df_weight_score.head(3)"
   ]
  },
  {
   "cell_type": "code",
   "execution_count": null,
   "metadata": {},
   "outputs": [],
   "source": [
    "differences_weight_score = compare_df_weight_score[compare_df_weight_score.Winner.values != compare_df_weight_score.Real_Winner.values]\n",
    "print(differences_weight_score.shape[0])\n",
    "differences_weight_score"
   ]
  },
  {
   "cell_type": "code",
   "execution_count": null,
   "metadata": {},
   "outputs": [],
   "source": [
    "results_map_weight_score = folium.Map([43,-100], tiles='cartodbpositron', zoom_start=4)\n",
    "folium.GeoJson(\n",
    "    geo_json_data,\n",
    "    style_function=lambda feature: {\n",
    "        'fillColor': us_election_colors(state_df3, feature['id']),\n",
    "        'color' : 'black',\n",
    "        'weight' : 2,\n",
    "        'dashArray' : '5, 5'\n",
    "        }\n",
    "    ).add_to(results_map_weight_score)\n",
    "\n",
    "results_map_weight_score"
   ]
  },
  {
   "cell_type": "code",
   "execution_count": null,
   "metadata": {},
   "outputs": [],
   "source": [
    "results_map_weight_score.save('maps/US_Election_Pred_Using_Weighted_Scores_2016.html')"
   ]
  },
  {
   "cell_type": "markdown",
   "metadata": {},
   "source": [
    "**As we can see, the model that gives us the highest similarity with the real election results is**"
   ]
  }
 ],
 "metadata": {
  "kernelspec": {
   "display_name": "Python 3",
   "language": "python",
   "name": "python3"
  },
  "language_info": {
   "codemirror_mode": {
    "name": "ipython",
    "version": 3
   },
   "file_extension": ".py",
   "mimetype": "text/x-python",
   "name": "python",
   "nbconvert_exporter": "python",
   "pygments_lexer": "ipython3",
   "version": "3.7.0"
  }
 },
 "nbformat": 4,
 "nbformat_minor": 2
}
